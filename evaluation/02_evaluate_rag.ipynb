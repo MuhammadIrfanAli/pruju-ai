{
 "cells": [
  {
   "cell_type": "code",
   "execution_count": 1,
   "metadata": {},
   "outputs": [],
   "source": [
    "import os\n",
    "\n",
    "if os.getcwd().split('/')[-1] == 'evaluation':\n",
    "    os.chdir('../')"
   ]
  },
  {
   "cell_type": "markdown",
   "metadata": {},
   "source": [
    "## Which Hyperparameters Should I Iterate On?\n",
    "https://huggingface.co/sentence-transformers/all-MiniLM-L12-v2\n",
    "\n",
    "Here are typically the hyperparameters you should iterate on:\n",
    "\n",
    "- model: the LLM to use for generation.\n",
    "- prompt template: the variation of prompt templates to use for generation.\n",
    "- temperature: the temperature value to use for generation.\n",
    "- max tokens: the max token limit to set for your LLM generation.\n",
    "- top-K: the number of retrieved nodes in your retrieval_context in a RAG pipeline.\n",
    "- chunk size: the size of the retrieved nodes in your retrieval_context in a RAG pipeline.\n",
    "- reranking model: the model used to rerank the retrieved nodes in your retrieval_context in a RAG pipeline.\n"
   ]
  },
  {
   "cell_type": "code",
   "execution_count": 15,
   "metadata": {},
   "outputs": [],
   "source": [
    "import pandas as pd\n",
    "from deepeval.test_case import LLMTestCase\n",
    "from deepeval.dataset import EvaluationDataset\n",
    "\n",
    "from deepeval import evaluate\n",
    "from deepeval.metrics import AnswerRelevancyMetric\n",
    "\n",
    "from chat_caller import query_gpt_chat, reload_vector_store\n",
    "from deepeval.metrics import ContextualPrecisionMetric, FaithfulnessMetric, ContextualRecallMetric, ContextualRelevancyMetric, HallucinationMetric\n"
   ]
  },
  {
   "cell_type": "code",
   "execution_count": 3,
   "metadata": {},
   "outputs": [],
   "source": [
    "df_questions = pd.read_csv('evaluation/questions.csv')"
   ]
  },
  {
   "cell_type": "code",
   "execution_count": 4,
   "metadata": {},
   "outputs": [
    {
     "data": {
      "text/html": [
       "<div>\n",
       "<style scoped>\n",
       "    .dataframe tbody tr th:only-of-type {\n",
       "        vertical-align: middle;\n",
       "    }\n",
       "\n",
       "    .dataframe tbody tr th {\n",
       "        vertical-align: top;\n",
       "    }\n",
       "\n",
       "    .dataframe thead th {\n",
       "        text-align: right;\n",
       "    }\n",
       "</style>\n",
       "<table border=\"1\" class=\"dataframe\">\n",
       "  <thead>\n",
       "    <tr style=\"text-align: right;\">\n",
       "      <th></th>\n",
       "      <th>ques_id</th>\n",
       "      <th>context</th>\n",
       "      <th>question</th>\n",
       "      <th>answer</th>\n",
       "      <th>source_doc</th>\n",
       "    </tr>\n",
       "  </thead>\n",
       "  <tbody>\n",
       "    <tr>\n",
       "      <th>0</th>\n",
       "      <td>Q1</td>\n",
       "      <td>- **AI Chatbot**: An AI chatbot is available f...</td>\n",
       "      <td>What is the purpose of the AI chatbot in the b...</td>\n",
       "      <td>The AI chatbot is designed to answer frequentl...</td>\n",
       "      <td>course_material/general/syllabus.md</td>\n",
       "    </tr>\n",
       "    <tr>\n",
       "      <th>1</th>\n",
       "      <td>Q2</td>\n",
       "      <td>Primer on Business Analytics with Python\\nModu...</td>\n",
       "      <td>What are the basic techniques in text analytic...</td>\n",
       "      <td>The basic techniques in text analytics covered...</td>\n",
       "      <td>course_material/module 5/lecture slides.pptx</td>\n",
       "    </tr>\n",
       "    <tr>\n",
       "      <th>2</th>\n",
       "      <td>Q3</td>\n",
       "      <td>Primer on Business Analytics \\nwith Python\\nMo...</td>\n",
       "      <td>What is the business example of using linear r...</td>\n",
       "      <td>Predicting sales based on advertising spend.</td>\n",
       "      <td>course_material/module 2/lecture slides.pdf</td>\n",
       "    </tr>\n",
       "    <tr>\n",
       "      <th>3</th>\n",
       "      <td>Q4</td>\n",
       "      <td>Primer on Business Analytics with Python\\nModu...</td>\n",
       "      <td>What are the three tasks in the online exam fo...</td>\n",
       "      <td>The three tasks in the online exam are Code In...</td>\n",
       "      <td>course_material/module 6/lecture slides.pptx</td>\n",
       "    </tr>\n",
       "    <tr>\n",
       "      <th>4</th>\n",
       "      <td>Q5</td>\n",
       "      <td>Primer on Business Analytics with Python\\nModu...</td>\n",
       "      <td>What are some common algorithms used in superv...</td>\n",
       "      <td>Some common algorithms used in supervised mach...</td>\n",
       "      <td>course_material/module 4/lecture slides.pptx</td>\n",
       "    </tr>\n",
       "    <tr>\n",
       "      <th>5</th>\n",
       "      <td>Q6</td>\n",
       "      <td>[Slide 1: Title Slide]\\nHello again, everyone!...</td>\n",
       "      <td>What is the purpose of a t-test in business an...</td>\n",
       "      <td>A t-test allows us to compare the means of two...</td>\n",
       "      <td>course_material/module 2/transcript.txt</td>\n",
       "    </tr>\n",
       "    <tr>\n",
       "      <th>6</th>\n",
       "      <td>Q7</td>\n",
       "      <td># Primer on Business Analytics with Python\\n##...</td>\n",
       "      <td>What are the main concepts covered in the Busi...</td>\n",
       "      <td>The main concepts covered in the course are ba...</td>\n",
       "      <td>course_material/module 6/transcript.txt</td>\n",
       "    </tr>\n",
       "    <tr>\n",
       "      <th>7</th>\n",
       "      <td>Q8</td>\n",
       "      <td>Thank you for your participation, and I'm exci...</td>\n",
       "      <td>What is the speaker excited to continue in the...</td>\n",
       "      <td>The speaker is excited to continue the learnin...</td>\n",
       "      <td>course_material/module 2/transcript.txt</td>\n",
       "    </tr>\n",
       "    <tr>\n",
       "      <th>8</th>\n",
       "      <td>Q9</td>\n",
       "      <td>[Slide 1: Title Slide]\\nHello, everyone! Welco...</td>\n",
       "      <td>What is the go-to tool for data manipulation a...</td>\n",
       "      <td>The go-to tool for data manipulation and analy...</td>\n",
       "      <td>course_material/module 1/transcript.txt</td>\n",
       "    </tr>\n",
       "    <tr>\n",
       "      <th>9</th>\n",
       "      <td>Q10</td>\n",
       "      <td>- Split data into training and test sets for u...</td>\n",
       "      <td>What is a confusion matrix in model evaluation?\\n</td>\n",
       "      <td>A confusion matrix is a table that describes t...</td>\n",
       "      <td>course_material/module 4/lecture slides.pptx</td>\n",
       "    </tr>\n",
       "  </tbody>\n",
       "</table>\n",
       "</div>"
      ],
      "text/plain": [
       "  ques_id                                            context  \\\n",
       "0      Q1  - **AI Chatbot**: An AI chatbot is available f...   \n",
       "1      Q2  Primer on Business Analytics with Python\\nModu...   \n",
       "2      Q3  Primer on Business Analytics \\nwith Python\\nMo...   \n",
       "3      Q4  Primer on Business Analytics with Python\\nModu...   \n",
       "4      Q5  Primer on Business Analytics with Python\\nModu...   \n",
       "5      Q6  [Slide 1: Title Slide]\\nHello again, everyone!...   \n",
       "6      Q7  # Primer on Business Analytics with Python\\n##...   \n",
       "7      Q8  Thank you for your participation, and I'm exci...   \n",
       "8      Q9  [Slide 1: Title Slide]\\nHello, everyone! Welco...   \n",
       "9     Q10  - Split data into training and test sets for u...   \n",
       "\n",
       "                                            question  \\\n",
       "0  What is the purpose of the AI chatbot in the b...   \n",
       "1  What are the basic techniques in text analytic...   \n",
       "2  What is the business example of using linear r...   \n",
       "3  What are the three tasks in the online exam fo...   \n",
       "4  What are some common algorithms used in superv...   \n",
       "5  What is the purpose of a t-test in business an...   \n",
       "6  What are the main concepts covered in the Busi...   \n",
       "7  What is the speaker excited to continue in the...   \n",
       "8  What is the go-to tool for data manipulation a...   \n",
       "9  What is a confusion matrix in model evaluation?\\n   \n",
       "\n",
       "                                              answer  \\\n",
       "0  The AI chatbot is designed to answer frequentl...   \n",
       "1  The basic techniques in text analytics covered...   \n",
       "2       Predicting sales based on advertising spend.   \n",
       "3  The three tasks in the online exam are Code In...   \n",
       "4  Some common algorithms used in supervised mach...   \n",
       "5  A t-test allows us to compare the means of two...   \n",
       "6  The main concepts covered in the course are ba...   \n",
       "7  The speaker is excited to continue the learnin...   \n",
       "8  The go-to tool for data manipulation and analy...   \n",
       "9  A confusion matrix is a table that describes t...   \n",
       "\n",
       "                                     source_doc  \n",
       "0           course_material/general/syllabus.md  \n",
       "1  course_material/module 5/lecture slides.pptx  \n",
       "2   course_material/module 2/lecture slides.pdf  \n",
       "3  course_material/module 6/lecture slides.pptx  \n",
       "4  course_material/module 4/lecture slides.pptx  \n",
       "5       course_material/module 2/transcript.txt  \n",
       "6       course_material/module 6/transcript.txt  \n",
       "7       course_material/module 2/transcript.txt  \n",
       "8       course_material/module 1/transcript.txt  \n",
       "9  course_material/module 4/lecture slides.pptx  "
      ]
     },
     "execution_count": 4,
     "metadata": {},
     "output_type": "execute_result"
    }
   ],
   "source": [
    "df_questions"
   ]
  },
  {
   "cell_type": "code",
   "execution_count": 5,
   "metadata": {},
   "outputs": [],
   "source": [
    "df_evaluation = df_questions.copy()"
   ]
  },
  {
   "cell_type": "code",
   "execution_count": 6,
   "metadata": {},
   "outputs": [
    {
     "name": "stdout",
     "output_type": "stream",
     "text": [
      "The token has not been saved to the git credentials helper. Pass `add_to_git_credential=True` in this function directly or `--add-to-git-credential` if using via `huggingface-cli` if you want to set the git credential as well.\n",
      "Token is valid (permission: write).\n",
      "Your token has been saved to /Users/crystalfrancis/.cache/huggingface/token\n",
      "Login successful\n",
      "Logged in successfully.\n"
     ]
    }
   ],
   "source": [
    "import os\n",
    "from huggingface_hub import login\n",
    "\n",
    "# Retrieve the token from the environment\n",
    "token = os.getenv(\"HUGGINGFACE_TOKEN\")\n",
    "\n",
    "if token:\n",
    "    login(token=token)\n",
    "    print(\"Logged in successfully.\")\n",
    "else:\n",
    "    print(\"Environment token not found.\")"
   ]
  },
  {
   "cell_type": "markdown",
   "metadata": {},
   "source": [
    "https://huggingface.co/spaces/mteb/leaderboard\n",
    "- Model Types: Open, Sentence Transformers\n",
    "- Model Sizes: <100M"
   ]
  },
  {
   "cell_type": "code",
   "execution_count": 7,
   "metadata": {},
   "outputs": [],
   "source": [
    "embedding_models = [\n",
    "    \"sentence-transformers/all-MiniLM-L6-v2\",  # Efficient and fast model for sentence embeddings\n",
    "    'sentence-transformers/all-MiniLM-L12-v2',\n",
    "    'TaylorAI/gte-tiny',\n",
    "]"
   ]
  },
  {
   "cell_type": "code",
   "execution_count": 9,
   "metadata": {},
   "outputs": [],
   "source": [
    "eval_metrics = {\n",
    "    'Answer Relevance': AnswerRelevancyMetric(threshold=0.5), \n",
    "    'Faithfulness':FaithfulnessMetric(\n",
    "        threshold=0.7,\n",
    "        model=\"gpt-4\",\n",
    "        include_reason=True\n",
    "    ),\n",
    "    'Contextual Relevancy': ContextualRelevancyMetric(\n",
    "        threshold=0.7,\n",
    "        model=\"gpt-4\",\n",
    "        include_reason=True\n",
    "    ),\n",
    "    # The following metrics through errors regarding parsing json in the LLM response:\n",
    "    #    'Contextual Precision': ContextualPrecisionMetric(\n",
    "    #         threshold=0.7,\n",
    "    #         model=\"gpt-4\",\n",
    "    #         include_reason=True\n",
    "    #     ),\n",
    "    #     'Hallucination': HallucinationMetric(threshold=0.5)\n",
    "    # 'Contextual Recall': ContextualRecallMetric(\n",
    "    #     threshold=0.7,\n",
    "    #     model=\"gpt-4\",\n",
    "    #     include_reason=True\n",
    "    # ),\n",
    "}"
   ]
  },
  {
   "cell_type": "code",
   "execution_count": 10,
   "metadata": {},
   "outputs": [],
   "source": [
    "def add_metrics(dataset, model, df_model):\n",
    "    df_model['Model'] = model\n",
    "    results = evaluate(dataset, list(eval_metrics.values()))\n",
    "\n",
    "    metric_labels = list(eval_metrics.keys())\n",
    "\n",
    "    for m_index in range(len(metric_labels)):\n",
    "        metric_label = metric_labels[m_index]\n",
    "        df_model[metric_label] = [\n",
    "            r.metrics_metadata[m_index].score for r in results\n",
    "        ]\n",
    "        df_model[f\"{metric_label} - Reason\"] = [ \n",
    "            r.metrics_metadata[m_index].reason for r in results\n",
    "        ]\n",
    "\n",
    "    return df_model\n"
   ]
  },
  {
   "cell_type": "code",
   "execution_count": 11,
   "metadata": {},
   "outputs": [],
   "source": [
    "def evaluate_rag(model, df_questions):\n",
    "    print(\"Creating Test Cases...\")\n",
    "    print(\"--------------------------------------------------------------------------------\")\n",
    "    reload_vector_store(model)\n",
    "    df_model = df_questions.copy()\n",
    "    test_cases = []\n",
    "\n",
    "    for _, row in df_model.iterrows():\n",
    "        question = row['question']\n",
    "        answer = query_gpt_chat(question, [])[1]\n",
    "        test = LLMTestCase(\n",
    "            input=question,\n",
    "            actual_output=answer,\n",
    "            expected_output=row['answer'],\n",
    "            retrieval_context=[row['context'] or '']\n",
    "        )\n",
    "        test_cases.append(test)\n",
    "        \n",
    "    print(\"Evaluating Test Cases...\")\n",
    "    print(\"--------------------------------------------------------------------------------\")\n",
    "    dataset = EvaluationDataset(test_cases=test_cases)\n",
    "    df_model = add_metrics(dataset, model, df_model)\n",
    "\n",
    "    print(\"--------------------------------------------------------------------------------\")\n",
    "    print(\"Completed Evaluation\")\n",
    "    return df_model\n"
   ]
  },
  {
   "cell_type": "code",
   "execution_count": 12,
   "metadata": {},
   "outputs": [
    {
     "name": "stdout",
     "output_type": "stream",
     "text": [
      "Creating Test Cases...\n",
      "--------------------------------------------------------------------------------\n",
      "load INSTRUCTOR_Transformer\n",
      "max_seq_length  512\n"
     ]
    },
    {
     "name": "stderr",
     "output_type": "stream",
     "text": [
      "I0000 00:00:1723202705.841102 28273155 work_stealing_thread_pool.cc:320] WorkStealingThreadPoolImpl::PrepareFork\n",
      "I0000 00:00:1723202708.012568 28273155 work_stealing_thread_pool.cc:320] WorkStealingThreadPoolImpl::PrepareFork\n"
     ]
    },
    {
     "name": "stdout",
     "output_type": "stream",
     "text": [
      "Prompt tokens: 599\n",
      "Completion tokens: 84\n",
      "Total tokens: 683\n",
      "Prompt tokens: 577\n",
      "Completion tokens: 176\n",
      "Total tokens: 753\n",
      "Prompt tokens: 597\n",
      "Completion tokens: 130\n",
      "Total tokens: 727\n",
      "Prompt tokens: 605\n",
      "Completion tokens: 100\n",
      "Total tokens: 705\n",
      "Prompt tokens: 528\n",
      "Completion tokens: 146\n",
      "Total tokens: 674\n",
      "Prompt tokens: 568\n",
      "Completion tokens: 118\n",
      "Total tokens: 686\n",
      "Prompt tokens: 588\n",
      "Completion tokens: 187\n",
      "Total tokens: 775\n",
      "Prompt tokens: 492\n",
      "Completion tokens: 80\n",
      "Total tokens: 572\n",
      "Prompt tokens: 634\n",
      "Completion tokens: 78\n",
      "Total tokens: 712\n"
     ]
    },
    {
     "data": {
      "application/vnd.jupyter.widget-view+json": {
       "model_id": "ea402819f9724a488b270e6da2293479",
       "version_major": 2,
       "version_minor": 0
      },
      "text/plain": [
       "Output()"
      ]
     },
     "metadata": {},
     "output_type": "display_data"
    },
    {
     "name": "stdout",
     "output_type": "stream",
     "text": [
      "Prompt tokens: 582\n",
      "Completion tokens: 180\n",
      "Total tokens: 762\n",
      "Evaluating Test Cases...\n",
      "--------------------------------------------------------------------------------\n",
      "Evaluating test cases...\n",
      "Event loop is already running. Applying nest_asyncio patch to allow async execution...\n"
     ]
    },
    {
     "name": "stderr",
     "output_type": "stream",
     "text": [
      "I0000 00:00:1723202776.593463 28273155 work_stealing_thread_pool.cc:320] WorkStealingThreadPoolImpl::PrepareFork\n"
     ]
    },
    {
     "name": "stderr",
     "output_type": "stream",
     "text": [
      "I0000 00:00:1723202779.750268 28273155 work_stealing_thread_pool.cc:320] WorkStealingThreadPoolImpl::PrepareFork\n"
     ]
    },
    {
     "name": "stderr",
     "output_type": "stream",
     "text": [
      "I0000 00:00:1723202781.590675 28273155 work_stealing_thread_pool.cc:320] WorkStealingThreadPoolImpl::PrepareFork\n"
     ]
    },
    {
     "name": "stderr",
     "output_type": "stream",
     "text": [
      "I0000 00:00:1723202783.203107 28273155 work_stealing_thread_pool.cc:320] WorkStealingThreadPoolImpl::PrepareFork\n"
     ]
    },
    {
     "name": "stderr",
     "output_type": "stream",
     "text": [
      "I0000 00:00:1723202787.696590 28273155 work_stealing_thread_pool.cc:320] WorkStealingThreadPoolImpl::PrepareFork\n"
     ]
    },
    {
     "data": {
      "text/html": [
       "<pre style=\"white-space:pre;overflow-x:auto;line-height:normal;font-family:Menlo,'DejaVu Sans Mono',consolas,'Courier New',monospace\"></pre>\n"
      ],
      "text/plain": []
     },
     "metadata": {},
     "output_type": "display_data"
    },
    {
     "data": {
      "text/html": [
       "<pre style=\"white-space:pre;overflow-x:auto;line-height:normal;font-family:Menlo,'DejaVu Sans Mono',consolas,'Courier New',monospace\">\n",
       "</pre>\n"
      ],
      "text/plain": [
       "\n"
      ]
     },
     "metadata": {},
     "output_type": "display_data"
    },
    {
     "data": {
      "application/vnd.jupyter.widget-view+json": {
       "model_id": "985095faa58148adbdd8749e89440431",
       "version_major": 2,
       "version_minor": 0
      },
      "text/plain": [
       "Output()"
      ]
     },
     "metadata": {},
     "output_type": "display_data"
    },
    {
     "name": "stderr",
     "output_type": "stream",
     "text": [
      "I0000 00:00:1723202789.791861 28273155 work_stealing_thread_pool.cc:320] WorkStealingThreadPoolImpl::PrepareFork\n",
      "I0000 00:00:1723202789.813729 28273155 work_stealing_thread_pool.cc:320] WorkStealingThreadPoolImpl::PrepareFork\n",
      "I0000 00:00:1723202789.830071 28273155 work_stealing_thread_pool.cc:320] WorkStealingThreadPoolImpl::PrepareFork\n",
      "I0000 00:00:1723202789.846616 28273155 work_stealing_thread_pool.cc:320] WorkStealingThreadPoolImpl::PrepareFork\n"
     ]
    },
    {
     "name": "stderr",
     "output_type": "stream",
     "text": [
      "I0000 00:00:1723202790.857400 28273155 work_stealing_thread_pool.cc:320] WorkStealingThreadPoolImpl::PrepareFork\n"
     ]
    },
    {
     "name": "stderr",
     "output_type": "stream",
     "text": [
      "I0000 00:00:1723202793.584639 28273155 work_stealing_thread_pool.cc:320] WorkStealingThreadPoolImpl::PrepareFork\n"
     ]
    },
    {
     "name": "stderr",
     "output_type": "stream",
     "text": [
      "I0000 00:00:1723202796.091605 28273155 work_stealing_thread_pool.cc:320] WorkStealingThreadPoolImpl::PrepareFork\n"
     ]
    },
    {
     "name": "stderr",
     "output_type": "stream",
     "text": [
      "I0000 00:00:1723202804.105571 28273155 work_stealing_thread_pool.cc:320] WorkStealingThreadPoolImpl::PrepareFork\n"
     ]
    },
    {
     "name": "stderr",
     "output_type": "stream",
     "text": [
      "I0000 00:00:1723202816.836616 28273155 work_stealing_thread_pool.cc:320] WorkStealingThreadPoolImpl::PrepareFork\n"
     ]
    },
    {
     "data": {
      "text/html": [
       "<pre style=\"white-space:pre;overflow-x:auto;line-height:normal;font-family:Menlo,'DejaVu Sans Mono',consolas,'Courier New',monospace\"></pre>\n"
      ],
      "text/plain": []
     },
     "metadata": {},
     "output_type": "display_data"
    },
    {
     "data": {
      "text/html": [
       "<pre style=\"white-space:pre;overflow-x:auto;line-height:normal;font-family:Menlo,'DejaVu Sans Mono',consolas,'Courier New',monospace\">\n",
       "</pre>\n"
      ],
      "text/plain": [
       "\n"
      ]
     },
     "metadata": {},
     "output_type": "display_data"
    },
    {
     "data": {
      "application/vnd.jupyter.widget-view+json": {
       "model_id": "f92af6ee30b4498fb69292c936f99c3a",
       "version_major": 2,
       "version_minor": 0
      },
      "text/plain": [
       "Output()"
      ]
     },
     "metadata": {},
     "output_type": "display_data"
    },
    {
     "name": "stderr",
     "output_type": "stream",
     "text": [
      "I0000 00:00:1723202820.428048 28273155 work_stealing_thread_pool.cc:320] WorkStealingThreadPoolImpl::PrepareFork\n",
      "I0000 00:00:1723202820.446795 28273155 work_stealing_thread_pool.cc:320] WorkStealingThreadPoolImpl::PrepareFork\n",
      "I0000 00:00:1723202820.463028 28273155 work_stealing_thread_pool.cc:320] WorkStealingThreadPoolImpl::PrepareFork\n",
      "I0000 00:00:1723202820.477663 28273155 work_stealing_thread_pool.cc:320] WorkStealingThreadPoolImpl::PrepareFork\n"
     ]
    },
    {
     "name": "stderr",
     "output_type": "stream",
     "text": [
      "I0000 00:00:1723202821.334519 28273155 work_stealing_thread_pool.cc:320] WorkStealingThreadPoolImpl::PrepareFork\n"
     ]
    },
    {
     "name": "stderr",
     "output_type": "stream",
     "text": [
      "I0000 00:00:1723202825.654330 28273155 work_stealing_thread_pool.cc:320] WorkStealingThreadPoolImpl::PrepareFork\n"
     ]
    },
    {
     "name": "stderr",
     "output_type": "stream",
     "text": [
      "I0000 00:00:1723202828.113943 28273155 work_stealing_thread_pool.cc:320] WorkStealingThreadPoolImpl::PrepareFork\n"
     ]
    },
    {
     "name": "stderr",
     "output_type": "stream",
     "text": [
      "I0000 00:00:1723202835.297871 28273155 work_stealing_thread_pool.cc:320] WorkStealingThreadPoolImpl::PrepareFork\n"
     ]
    },
    {
     "name": "stderr",
     "output_type": "stream",
     "text": [
      "I0000 00:00:1723202839.685921 28273155 work_stealing_thread_pool.cc:320] WorkStealingThreadPoolImpl::PrepareFork\n"
     ]
    },
    {
     "data": {
      "text/html": [
       "<pre style=\"white-space:pre;overflow-x:auto;line-height:normal;font-family:Menlo,'DejaVu Sans Mono',consolas,'Courier New',monospace\"></pre>\n"
      ],
      "text/plain": []
     },
     "metadata": {},
     "output_type": "display_data"
    },
    {
     "data": {
      "text/html": [
       "<pre style=\"white-space:pre;overflow-x:auto;line-height:normal;font-family:Menlo,'DejaVu Sans Mono',consolas,'Courier New',monospace\">\n",
       "</pre>\n"
      ],
      "text/plain": [
       "\n"
      ]
     },
     "metadata": {},
     "output_type": "display_data"
    },
    {
     "data": {
      "application/vnd.jupyter.widget-view+json": {
       "model_id": "377649cb919c423e8c3258642bad198a",
       "version_major": 2,
       "version_minor": 0
      },
      "text/plain": [
       "Output()"
      ]
     },
     "metadata": {},
     "output_type": "display_data"
    },
    {
     "name": "stderr",
     "output_type": "stream",
     "text": [
      "I0000 00:00:1723202841.684272 28273155 work_stealing_thread_pool.cc:320] WorkStealingThreadPoolImpl::PrepareFork\n",
      "I0000 00:00:1723202841.708344 28273155 work_stealing_thread_pool.cc:320] WorkStealingThreadPoolImpl::PrepareFork\n",
      "I0000 00:00:1723202841.725480 28273155 work_stealing_thread_pool.cc:320] WorkStealingThreadPoolImpl::PrepareFork\n",
      "I0000 00:00:1723202841.742365 28273155 work_stealing_thread_pool.cc:320] WorkStealingThreadPoolImpl::PrepareFork\n"
     ]
    },
    {
     "name": "stderr",
     "output_type": "stream",
     "text": [
      "I0000 00:00:1723202843.468527 28273155 work_stealing_thread_pool.cc:320] WorkStealingThreadPoolImpl::PrepareFork\n"
     ]
    },
    {
     "name": "stderr",
     "output_type": "stream",
     "text": [
      "I0000 00:00:1723202845.842231 28273155 work_stealing_thread_pool.cc:320] WorkStealingThreadPoolImpl::PrepareFork\n"
     ]
    },
    {
     "name": "stderr",
     "output_type": "stream",
     "text": [
      "I0000 00:00:1723202851.058341 28273155 work_stealing_thread_pool.cc:320] WorkStealingThreadPoolImpl::PrepareFork\n"
     ]
    },
    {
     "name": "stderr",
     "output_type": "stream",
     "text": [
      "I0000 00:00:1723202854.599084 28273155 work_stealing_thread_pool.cc:320] WorkStealingThreadPoolImpl::PrepareFork\n"
     ]
    },
    {
     "name": "stderr",
     "output_type": "stream",
     "text": [
      "I0000 00:00:1723202860.235667 28273155 work_stealing_thread_pool.cc:320] WorkStealingThreadPoolImpl::PrepareFork\n"
     ]
    },
    {
     "data": {
      "text/html": [
       "<pre style=\"white-space:pre;overflow-x:auto;line-height:normal;font-family:Menlo,'DejaVu Sans Mono',consolas,'Courier New',monospace\"></pre>\n"
      ],
      "text/plain": []
     },
     "metadata": {},
     "output_type": "display_data"
    },
    {
     "data": {
      "text/html": [
       "<pre style=\"white-space:pre;overflow-x:auto;line-height:normal;font-family:Menlo,'DejaVu Sans Mono',consolas,'Courier New',monospace\">\n",
       "</pre>\n"
      ],
      "text/plain": [
       "\n"
      ]
     },
     "metadata": {},
     "output_type": "display_data"
    },
    {
     "data": {
      "application/vnd.jupyter.widget-view+json": {
       "model_id": "455cfab1212c4346944a1b1eec226dfb",
       "version_major": 2,
       "version_minor": 0
      },
      "text/plain": [
       "Output()"
      ]
     },
     "metadata": {},
     "output_type": "display_data"
    },
    {
     "name": "stderr",
     "output_type": "stream",
     "text": [
      "I0000 00:00:1723202861.944616 28273155 work_stealing_thread_pool.cc:320] WorkStealingThreadPoolImpl::PrepareFork\n",
      "I0000 00:00:1723202861.965092 28273155 work_stealing_thread_pool.cc:320] WorkStealingThreadPoolImpl::PrepareFork\n",
      "I0000 00:00:1723202861.988937 28273155 work_stealing_thread_pool.cc:320] WorkStealingThreadPoolImpl::PrepareFork\n",
      "I0000 00:00:1723202862.003899 28273155 work_stealing_thread_pool.cc:320] WorkStealingThreadPoolImpl::PrepareFork\n"
     ]
    },
    {
     "name": "stderr",
     "output_type": "stream",
     "text": [
      "I0000 00:00:1723202863.268277 28273155 work_stealing_thread_pool.cc:320] WorkStealingThreadPoolImpl::PrepareFork\n"
     ]
    },
    {
     "name": "stderr",
     "output_type": "stream",
     "text": [
      "I0000 00:00:1723202865.490971 28273155 work_stealing_thread_pool.cc:320] WorkStealingThreadPoolImpl::PrepareFork\n"
     ]
    },
    {
     "name": "stderr",
     "output_type": "stream",
     "text": [
      "I0000 00:00:1723202873.679900 28273155 work_stealing_thread_pool.cc:320] WorkStealingThreadPoolImpl::PrepareFork\n"
     ]
    },
    {
     "name": "stderr",
     "output_type": "stream",
     "text": [
      "I0000 00:00:1723202879.125252 28273155 work_stealing_thread_pool.cc:320] WorkStealingThreadPoolImpl::PrepareFork\n"
     ]
    },
    {
     "name": "stderr",
     "output_type": "stream",
     "text": [
      "I0000 00:00:1723202879.751883 28273155 work_stealing_thread_pool.cc:320] WorkStealingThreadPoolImpl::PrepareFork\n"
     ]
    },
    {
     "data": {
      "text/html": [
       "<pre style=\"white-space:pre;overflow-x:auto;line-height:normal;font-family:Menlo,'DejaVu Sans Mono',consolas,'Courier New',monospace\"></pre>\n"
      ],
      "text/plain": []
     },
     "metadata": {},
     "output_type": "display_data"
    },
    {
     "data": {
      "text/html": [
       "<pre style=\"white-space:pre;overflow-x:auto;line-height:normal;font-family:Menlo,'DejaVu Sans Mono',consolas,'Courier New',monospace\">\n",
       "</pre>\n"
      ],
      "text/plain": [
       "\n"
      ]
     },
     "metadata": {},
     "output_type": "display_data"
    },
    {
     "data": {
      "application/vnd.jupyter.widget-view+json": {
       "model_id": "fefaeaa56a0141ecb3f61ee900a8786e",
       "version_major": 2,
       "version_minor": 0
      },
      "text/plain": [
       "Output()"
      ]
     },
     "metadata": {},
     "output_type": "display_data"
    },
    {
     "name": "stderr",
     "output_type": "stream",
     "text": [
      "I0000 00:00:1723202881.293498 28273155 work_stealing_thread_pool.cc:320] WorkStealingThreadPoolImpl::PrepareFork\n",
      "I0000 00:00:1723202881.313608 28273155 work_stealing_thread_pool.cc:320] WorkStealingThreadPoolImpl::PrepareFork\n",
      "I0000 00:00:1723202881.330495 28273155 work_stealing_thread_pool.cc:320] WorkStealingThreadPoolImpl::PrepareFork\n",
      "I0000 00:00:1723202881.348216 28273155 work_stealing_thread_pool.cc:320] WorkStealingThreadPoolImpl::PrepareFork\n"
     ]
    },
    {
     "name": "stderr",
     "output_type": "stream",
     "text": [
      "I0000 00:00:1723202882.281924 28273155 work_stealing_thread_pool.cc:320] WorkStealingThreadPoolImpl::PrepareFork\n"
     ]
    },
    {
     "name": "stderr",
     "output_type": "stream",
     "text": [
      "I0000 00:00:1723202885.966701 28273155 work_stealing_thread_pool.cc:320] WorkStealingThreadPoolImpl::PrepareFork\n"
     ]
    },
    {
     "name": "stderr",
     "output_type": "stream",
     "text": [
      "I0000 00:00:1723202888.071873 28273155 work_stealing_thread_pool.cc:320] WorkStealingThreadPoolImpl::PrepareFork\n"
     ]
    },
    {
     "name": "stderr",
     "output_type": "stream",
     "text": [
      "I0000 00:00:1723202894.965470 28273155 work_stealing_thread_pool.cc:320] WorkStealingThreadPoolImpl::PrepareFork\n"
     ]
    },
    {
     "name": "stderr",
     "output_type": "stream",
     "text": [
      "I0000 00:00:1723202899.022942 28273155 work_stealing_thread_pool.cc:320] WorkStealingThreadPoolImpl::PrepareFork\n"
     ]
    },
    {
     "data": {
      "text/html": [
       "<pre style=\"white-space:pre;overflow-x:auto;line-height:normal;font-family:Menlo,'DejaVu Sans Mono',consolas,'Courier New',monospace\"></pre>\n"
      ],
      "text/plain": []
     },
     "metadata": {},
     "output_type": "display_data"
    },
    {
     "data": {
      "text/html": [
       "<pre style=\"white-space:pre;overflow-x:auto;line-height:normal;font-family:Menlo,'DejaVu Sans Mono',consolas,'Courier New',monospace\">\n",
       "</pre>\n"
      ],
      "text/plain": [
       "\n"
      ]
     },
     "metadata": {},
     "output_type": "display_data"
    },
    {
     "data": {
      "application/vnd.jupyter.widget-view+json": {
       "model_id": "43470b3ad53a427d8b21a6d3e5a96d24",
       "version_major": 2,
       "version_minor": 0
      },
      "text/plain": [
       "Output()"
      ]
     },
     "metadata": {},
     "output_type": "display_data"
    },
    {
     "name": "stderr",
     "output_type": "stream",
     "text": [
      "I0000 00:00:1723202900.697162 28273155 work_stealing_thread_pool.cc:320] WorkStealingThreadPoolImpl::PrepareFork\n",
      "I0000 00:00:1723202900.717056 28273155 work_stealing_thread_pool.cc:320] WorkStealingThreadPoolImpl::PrepareFork\n",
      "I0000 00:00:1723202900.735197 28273155 work_stealing_thread_pool.cc:320] WorkStealingThreadPoolImpl::PrepareFork\n",
      "I0000 00:00:1723202900.754422 28273155 work_stealing_thread_pool.cc:320] WorkStealingThreadPoolImpl::PrepareFork\n"
     ]
    },
    {
     "name": "stderr",
     "output_type": "stream",
     "text": [
      "I0000 00:00:1723202901.827329 28273155 work_stealing_thread_pool.cc:320] WorkStealingThreadPoolImpl::PrepareFork\n"
     ]
    },
    {
     "name": "stderr",
     "output_type": "stream",
     "text": [
      "I0000 00:00:1723202905.223545 28273155 work_stealing_thread_pool.cc:320] WorkStealingThreadPoolImpl::PrepareFork\n"
     ]
    },
    {
     "name": "stderr",
     "output_type": "stream",
     "text": [
      "I0000 00:00:1723202914.305784 28273155 work_stealing_thread_pool.cc:320] WorkStealingThreadPoolImpl::PrepareFork\n"
     ]
    },
    {
     "name": "stderr",
     "output_type": "stream",
     "text": [
      "I0000 00:00:1723202916.281567 28273155 work_stealing_thread_pool.cc:320] WorkStealingThreadPoolImpl::PrepareFork\n"
     ]
    },
    {
     "name": "stderr",
     "output_type": "stream",
     "text": [
      "I0000 00:00:1723202930.634329 28273155 work_stealing_thread_pool.cc:320] WorkStealingThreadPoolImpl::PrepareFork\n"
     ]
    },
    {
     "data": {
      "text/html": [
       "<pre style=\"white-space:pre;overflow-x:auto;line-height:normal;font-family:Menlo,'DejaVu Sans Mono',consolas,'Courier New',monospace\"></pre>\n"
      ],
      "text/plain": []
     },
     "metadata": {},
     "output_type": "display_data"
    },
    {
     "data": {
      "text/html": [
       "<pre style=\"white-space:pre;overflow-x:auto;line-height:normal;font-family:Menlo,'DejaVu Sans Mono',consolas,'Courier New',monospace\">\n",
       "</pre>\n"
      ],
      "text/plain": [
       "\n"
      ]
     },
     "metadata": {},
     "output_type": "display_data"
    },
    {
     "data": {
      "application/vnd.jupyter.widget-view+json": {
       "model_id": "2d12507bf2f84841890d0e87ac796c19",
       "version_major": 2,
       "version_minor": 0
      },
      "text/plain": [
       "Output()"
      ]
     },
     "metadata": {},
     "output_type": "display_data"
    },
    {
     "name": "stderr",
     "output_type": "stream",
     "text": [
      "I0000 00:00:1723202934.331587 28273155 work_stealing_thread_pool.cc:320] WorkStealingThreadPoolImpl::PrepareFork\n",
      "I0000 00:00:1723202934.352078 28273155 work_stealing_thread_pool.cc:320] WorkStealingThreadPoolImpl::PrepareFork\n",
      "I0000 00:00:1723202934.368497 28273155 work_stealing_thread_pool.cc:320] WorkStealingThreadPoolImpl::PrepareFork\n",
      "I0000 00:00:1723202934.385346 28273155 work_stealing_thread_pool.cc:320] WorkStealingThreadPoolImpl::PrepareFork\n"
     ]
    },
    {
     "name": "stderr",
     "output_type": "stream",
     "text": [
      "I0000 00:00:1723202935.659759 28273155 work_stealing_thread_pool.cc:320] WorkStealingThreadPoolImpl::PrepareFork\n"
     ]
    },
    {
     "name": "stderr",
     "output_type": "stream",
     "text": [
      "I0000 00:00:1723202936.147939 28273155 work_stealing_thread_pool.cc:320] WorkStealingThreadPoolImpl::PrepareFork\n"
     ]
    },
    {
     "name": "stderr",
     "output_type": "stream",
     "text": [
      "I0000 00:00:1723202938.607031 28273155 work_stealing_thread_pool.cc:320] WorkStealingThreadPoolImpl::PrepareFork\n"
     ]
    },
    {
     "name": "stderr",
     "output_type": "stream",
     "text": [
      "I0000 00:00:1723202940.400010 28273155 work_stealing_thread_pool.cc:320] WorkStealingThreadPoolImpl::PrepareFork\n"
     ]
    },
    {
     "name": "stderr",
     "output_type": "stream",
     "text": [
      "I0000 00:00:1723202943.952182 28273155 work_stealing_thread_pool.cc:320] WorkStealingThreadPoolImpl::PrepareFork\n"
     ]
    },
    {
     "data": {
      "text/html": [
       "<pre style=\"white-space:pre;overflow-x:auto;line-height:normal;font-family:Menlo,'DejaVu Sans Mono',consolas,'Courier New',monospace\"></pre>\n"
      ],
      "text/plain": []
     },
     "metadata": {},
     "output_type": "display_data"
    },
    {
     "data": {
      "text/html": [
       "<pre style=\"white-space:pre;overflow-x:auto;line-height:normal;font-family:Menlo,'DejaVu Sans Mono',consolas,'Courier New',monospace\">\n",
       "</pre>\n"
      ],
      "text/plain": [
       "\n"
      ]
     },
     "metadata": {},
     "output_type": "display_data"
    },
    {
     "data": {
      "application/vnd.jupyter.widget-view+json": {
       "model_id": "3b30081ca7c342faae330cdc701904b7",
       "version_major": 2,
       "version_minor": 0
      },
      "text/plain": [
       "Output()"
      ]
     },
     "metadata": {},
     "output_type": "display_data"
    },
    {
     "name": "stderr",
     "output_type": "stream",
     "text": [
      "I0000 00:00:1723202947.238022 28273155 work_stealing_thread_pool.cc:320] WorkStealingThreadPoolImpl::PrepareFork\n",
      "I0000 00:00:1723202947.271753 28273155 work_stealing_thread_pool.cc:320] WorkStealingThreadPoolImpl::PrepareFork\n",
      "I0000 00:00:1723202947.288563 28273155 work_stealing_thread_pool.cc:320] WorkStealingThreadPoolImpl::PrepareFork\n",
      "I0000 00:00:1723202947.304175 28273155 work_stealing_thread_pool.cc:320] WorkStealingThreadPoolImpl::PrepareFork\n"
     ]
    },
    {
     "name": "stderr",
     "output_type": "stream",
     "text": [
      "I0000 00:00:1723202948.342735 28273155 work_stealing_thread_pool.cc:320] WorkStealingThreadPoolImpl::PrepareFork\n"
     ]
    },
    {
     "name": "stderr",
     "output_type": "stream",
     "text": [
      "I0000 00:00:1723202949.030480 28273155 work_stealing_thread_pool.cc:320] WorkStealingThreadPoolImpl::PrepareFork\n"
     ]
    },
    {
     "name": "stderr",
     "output_type": "stream",
     "text": [
      "I0000 00:00:1723202950.774300 28273155 work_stealing_thread_pool.cc:320] WorkStealingThreadPoolImpl::PrepareFork\n"
     ]
    },
    {
     "name": "stderr",
     "output_type": "stream",
     "text": [
      "I0000 00:00:1723202957.013528 28273155 work_stealing_thread_pool.cc:320] WorkStealingThreadPoolImpl::PrepareFork\n"
     ]
    },
    {
     "name": "stderr",
     "output_type": "stream",
     "text": [
      "I0000 00:00:1723202960.328514 28273155 work_stealing_thread_pool.cc:320] WorkStealingThreadPoolImpl::PrepareFork\n"
     ]
    },
    {
     "data": {
      "text/html": [
       "<pre style=\"white-space:pre;overflow-x:auto;line-height:normal;font-family:Menlo,'DejaVu Sans Mono',consolas,'Courier New',monospace\"></pre>\n"
      ],
      "text/plain": []
     },
     "metadata": {},
     "output_type": "display_data"
    },
    {
     "data": {
      "text/html": [
       "<pre style=\"white-space:pre;overflow-x:auto;line-height:normal;font-family:Menlo,'DejaVu Sans Mono',consolas,'Courier New',monospace\">\n",
       "</pre>\n"
      ],
      "text/plain": [
       "\n"
      ]
     },
     "metadata": {},
     "output_type": "display_data"
    },
    {
     "data": {
      "application/vnd.jupyter.widget-view+json": {
       "model_id": "f357df108d8d4bafb494a70accbf5030",
       "version_major": 2,
       "version_minor": 0
      },
      "text/plain": [
       "Output()"
      ]
     },
     "metadata": {},
     "output_type": "display_data"
    },
    {
     "name": "stderr",
     "output_type": "stream",
     "text": [
      "I0000 00:00:1723202962.374967 28273155 work_stealing_thread_pool.cc:320] WorkStealingThreadPoolImpl::PrepareFork\n",
      "I0000 00:00:1723202962.397396 28273155 work_stealing_thread_pool.cc:320] WorkStealingThreadPoolImpl::PrepareFork\n",
      "I0000 00:00:1723202962.418014 28273155 work_stealing_thread_pool.cc:320] WorkStealingThreadPoolImpl::PrepareFork\n",
      "I0000 00:00:1723202962.441084 28273155 work_stealing_thread_pool.cc:320] WorkStealingThreadPoolImpl::PrepareFork\n"
     ]
    },
    {
     "name": "stderr",
     "output_type": "stream",
     "text": [
      "I0000 00:00:1723202963.543145 28273155 work_stealing_thread_pool.cc:320] WorkStealingThreadPoolImpl::PrepareFork\n"
     ]
    },
    {
     "name": "stderr",
     "output_type": "stream",
     "text": [
      "I0000 00:00:1723202965.299487 28273155 work_stealing_thread_pool.cc:320] WorkStealingThreadPoolImpl::PrepareFork\n"
     ]
    },
    {
     "name": "stderr",
     "output_type": "stream",
     "text": [
      "I0000 00:00:1723202967.674568 28273155 work_stealing_thread_pool.cc:320] WorkStealingThreadPoolImpl::PrepareFork\n"
     ]
    },
    {
     "name": "stderr",
     "output_type": "stream",
     "text": [
      "I0000 00:00:1723202971.954465 28273155 work_stealing_thread_pool.cc:320] WorkStealingThreadPoolImpl::PrepareFork\n"
     ]
    },
    {
     "name": "stderr",
     "output_type": "stream",
     "text": [
      "I0000 00:00:1723202977.705662 28273155 work_stealing_thread_pool.cc:320] WorkStealingThreadPoolImpl::PrepareFork\n"
     ]
    },
    {
     "data": {
      "text/html": [
       "<pre style=\"white-space:pre;overflow-x:auto;line-height:normal;font-family:Menlo,'DejaVu Sans Mono',consolas,'Courier New',monospace\"></pre>\n"
      ],
      "text/plain": []
     },
     "metadata": {},
     "output_type": "display_data"
    },
    {
     "data": {
      "text/html": [
       "<pre style=\"white-space:pre;overflow-x:auto;line-height:normal;font-family:Menlo,'DejaVu Sans Mono',consolas,'Courier New',monospace\">\n",
       "</pre>\n"
      ],
      "text/plain": [
       "\n"
      ]
     },
     "metadata": {},
     "output_type": "display_data"
    },
    {
     "name": "stdout",
     "output_type": "stream",
     "text": [
      "\n",
      "======================================================================\n",
      "\n",
      "Metrics Summary\n",
      "\n",
      "  - ✅ Answer Relevancy (score: 0.75, threshold: 0.5, strict: False, evaluation model: gpt-4o, reason: The score is 0.75 because the answer mostly addresses the purpose of the AI chatbot in the business analytics course, but includes an irrelevant statement about additional resources that does not directly answer the question., error: None)\n",
      "  - ✅ Faithfulness (score: 1.0, threshold: 0.7, strict: False, evaluation model: gpt-4, reason: The score is 1.00 because there are no contradictions between the actual output and retrieval context. Good job!, error: None)\n",
      "  - ✅ Contextual Relevancy (score: 1.0, threshold: 0.7, strict: False, evaluation model: gpt-4, reason: The score is 1.00 because there were no reasons found indicating the retrieval context was irrelevant to the input. Great job!, error: None)\n",
      "\n",
      "For test case:\n",
      "\n",
      "  - input: What is the purpose of the AI chatbot in the business analytics course?\n",
      "\n",
      "  - actual output: The AI chatbot in this business analytics course is designed to answer frequently asked questions and provide clarifications on course materials. It allows students to get instant support, which can be particularly useful for revisiting lectures or catching up on missed classes. The chatbot is an application of the text analytics techniques taught in the course, such as topic identification and sentiment analysis.\n",
      "\n",
      "For more information, see: General: Syllabus.\n",
      "  - expected output: The AI chatbot is designed to answer frequently asked questions and provide clarifications on course materials, allowing students to get instant support.\n",
      "  - context: None\n",
      "  - retrieval context: ['- **AI Chatbot**: An AI chatbot is available for student queries. This chatbot is designed to answer frequently asked questions and provide clarifications on course materials, allowing students to get instant support.\\n\\n- **Attendance**: Attendance is not compulsory but is encouraged. While all lectures are recorded, attending in-person offers the benefit of immediate clarification of doubts and interactive learning.\\n\\n- **Development Environment**: Students can use the provided Jupyter Notebook servers or their own development environment. This flexibility ensures that students can work in an environment they are comfortable with, further enhancing the learning experience.']\n",
      "\n",
      "======================================================================\n",
      "\n",
      "Metrics Summary\n",
      "\n",
      "  - ✅ Answer Relevancy (score: 1.0, threshold: 0.5, strict: False, evaluation model: gpt-4o, reason: The score is 1.00 because the output is fully relevant to the input with no irrelevant statements., error: None)\n",
      "  - ✅ Faithfulness (score: 0.8666666666666667, threshold: 0.7, strict: False, evaluation model: gpt-4, reason: The score is 0.87 because the actual output inaccurately labels 'Topic Identification' and 'Keyword-based Analysis' as basic techniques in text analytics within Module 5 of the Business Analytics with Python course, whereas the retrieval context identifies them as focus areas, not basic techniques., error: None)\n",
      "  - ✅ Contextual Relevancy (score: 1.0, threshold: 0.7, strict: False, evaluation model: gpt-4, reason: The score is 1.00 because the retrieval context perfectly aligns with the provided input, discussing the basic techniques in text analytics covered in Module 5 of the Business Analytics with Python course. Way to go!, error: None)\n",
      "\n",
      "For test case:\n",
      "\n",
      "  - input: What are the basic techniques in text analytics covered in Module 5 of the Business Analytics with Python course?\n",
      "\n",
      "  - actual output: The basic techniques in text analytics covered in Module 5 of the Business Analytics with Python course include:\n",
      "\n",
      "1. Text Preprocessing: This involves preparing the text data for analysis. Techniques used in preprocessing include tokenization, which is the process of breaking down the text into individual words or tokens, and stemming, which involves reducing words to their root form.\n",
      "\n",
      "2. Topic Identification: This technique involves identifying the main themes or topics in a text document.\n",
      "\n",
      "3. Sentiment Analysis: This is used to determine the sentiment or emotion expressed in a text. It's often used in business for customer sentiment analysis.\n",
      "\n",
      "4. Keyword-based Analysis: This involves identifying important keywords in a text. It can be used for various purposes such as search engine optimization and understanding the main focus of a text.\n",
      "\n",
      "For more information, see: Module 5: Lecture Slides, Module 5: Tutorial.\n",
      "  - expected output: The basic techniques in text analytics covered are Text Preprocessing, Text Vectorization, and Sentiment Analysis.\n",
      "  - context: None\n",
      "  - retrieval context: [\"Primer on Business Analytics with Python\\nModule 5: Basic Text Analytics\\nIntroduction\\n\\n- Text analytics deals with deriving meaningful information from textual data.\\x0b- In business, text analytics can be used for customer sentiment analysis, keyword extraction, and more.\\nLearning Objectives\\n\\n- Learn basic techniques for text analytics.\\x0b- Understand how to apply text analytics in a business context.\\nBasic Techniques in Text Analytics\\n\\n- Text Preprocessing: Tokenization, stemming, etc.\\x0b- Text Vectorization: Count vectorization, TF-IDF.\\x0b- Sentiment Analysis: Determining the sentiment expressed in text.\\nApplications in Business\\n\\n- Customer Feedback Analysis: Understanding customer sentiments.\\x0b- Keyword Extraction: Identifying important topics in customer reviews.\\x0b- Chatbot Training: Training intelligent chatbots to handle customer queries.\\nSummary\\n\\n- We covered basic techniques in text analytics and their applications in business.\\x0b- Tools like Python's NLTK and scikit-learn can be used for text analytics.\\nFocus Areas in Text Analytics\\n\\n- Topic Identification: Understanding the main topics in a text.\\x0b- Sentiment Analysis: Determining the sentiment expressed in text.\\x0b- Keyword-based Analysis: Identifying important keywords for sentiment analysis.\\nAdvanced Techniques (Outside Scope)\\n\\n- Named Entity Recognition (NER): Identifying entities like names, locations, etc.\\x0b- Text Summarization: Generating a summary of large texts.\\x0b- These techniques are mentioned for awareness but are outside the course scope.\"]\n",
      "\n",
      "======================================================================\n",
      "\n",
      "Metrics Summary\n",
      "\n",
      "  - ✅ Answer Relevancy (score: 0.8333333333333334, threshold: 0.5, strict: False, evaluation model: gpt-4o, reason: The score is 0.83 because the majority of the output directly addresses the business examples of using linear regression in business analytics. However, the mention of additional resources like 'Module 2: Lecture Slides, Module 2: Transcript, Module 2: Tutorial' is not directly relevant to the question asked., error: None)\n",
      "  - ✅ Faithfulness (score: 1.0, threshold: 0.7, strict: False, evaluation model: gpt-4, reason: The score is 1.00 because there are no contradictions between the actual output and the retrieval context., error: None)\n",
      "  - ✅ Contextual Relevancy (score: 1.0, threshold: 0.7, strict: False, evaluation model: gpt-4, reason: The score is 1.00 because the retrieval context perfectly aligns with the input query, with no reasons for irrelevancy noted. Excellent match!, error: None)\n",
      "\n",
      "For test case:\n",
      "\n",
      "  - input: What is the business example of using linear regression in the context of business analytics?\n",
      "\n",
      "  - actual output: In the context of business analytics, linear regression can be used in various ways. For instance, a company might use linear regression to predict sales based on advertising spend. This is based on the assumption that there is a linear relationship between the amount of money spent on advertising and the sales generated. \n",
      "\n",
      "Another example is a real estate company using regression analysis to predict the selling price of houses based on features like the number of bedrooms, location, etc. This can help the company to make informed decisions about pricing and marketing strategies.\n",
      "\n",
      "For more information, see: Module 2: Lecture Slides, Module 2: Transcript, Module 2: Tutorial.\n",
      "  - expected output: Predicting sales based on advertising spend.\n",
      "  - context: None\n",
      "  - retrieval context: ['Primer on Business Analytics \\nwith Python\\nModule 2: Basic Statistical Tests and \\nRegression Analysis\\nIntroduction\\n- Statistical tests and regression analysis are vital tools in data science.\\n- They are key in hypothesis testing, understanding relationships, and making prediction\\n- This module will cover basic statistical tests like t-test, ANOVA, and introduce regressio\\nLearning Objectives\\n- Understand the basics of hypothesis testing.\\n- Learn how to perform a t-test and ANOVA in Python.\\n- Get introduced to linear regression and understand its applications.\\nHypothesis Testing\\n- Hypothesis testing is a method for testing a claim or hypothesis about a parameter in a\\n- Null hypothesis (H0) vs Alternative hypothesis (Ha).\\n- Examples in business context: A/B testing, customer satisfaction analysis.\\nt-test\\n- A t-test compares the means of two groups.\\n- Used to determine if the means of two sets of data are significantly different from each\\n- Business example: Comparing the average sales before and after a marketing campaign\\nANOVA (Analysis of Variance)\\n- ANOVA tests the hypothesis that the means of two or more populations are equal.\\n- Applications include comparing the performance of different products or marketing str\\n- Business example: Assessing the impact of different discounts on sales.\\nRegression Analysis\\n- Regression analysis estimates the relationship between variables.\\n- Linear regression is the most simple and commonly used type of regression.\\n- Business example: Predicting sales based on advertising spend.\\nSummary\\n- Covered the basics of hypothesis testing, t-tests, ANOVA, and regression analysis.\\n- These statistical methods are fundamental in making data-driven business decisions.']\n",
      "\n",
      "======================================================================\n",
      "\n",
      "Metrics Summary\n",
      "\n",
      "  - ✅ Answer Relevancy (score: 0.875, threshold: 0.5, strict: False, evaluation model: gpt-4o, reason: The score is 0.88 because the answer effectively addresses the three tasks in the online exam for the Business Analytics with Python course. However, it includes an irrelevant statement about 'Module 6: Lecture Slides,' which does not directly pertain to the question asked., error: None)\n",
      "  - ✅ Faithfulness (score: 1.0, threshold: 0.7, strict: False, evaluation model: gpt-4, reason: The score is 1.00 because there were no contradictions found between the actual output and the retrieval context., error: None)\n",
      "  - ✅ Contextual Relevancy (score: 1.0, threshold: 0.7, strict: False, evaluation model: gpt-4, reason: The score is 1.00 because the retrieval context perfectly matched the input, with no reasons for irrelevancy found. Great job!, error: None)\n",
      "\n",
      "For test case:\n",
      "\n",
      "  - input: What are the three tasks in the online exam for the Business Analytics with Python course?\n",
      "\n",
      "  - actual output: The online exam for the Business Analytics with Python course consists of three tasks:\n",
      "\n",
      "1. Code Interpretation: This task will assess your ability to understand and interpret Python code related to business analytics.\n",
      "\n",
      "2. Essay-style Question: This task will require you to write an essay on a given topic related to the course content.\n",
      "\n",
      "3. Coding Assignment: This task will test your practical skills in writing Python code to solve a business analytics problem.\n",
      "\n",
      "For more information, see: Module 6: Lecture Slides.\n",
      "  - expected output: The three tasks in the online exam are Code Interpretation, Essay-style Question, and Coding Assignment.\n",
      "  - context: None\n",
      "  - retrieval context: ['Primer on Business Analytics with Python\\nModule 6: Summary and Course Conclusion\\nIntroduction\\nIn this final module, we will review the key concepts covered in this course and discuss the upcoming exam.\\nMain Concepts - Overview\\n- Basic Data Manipulation and Descriptive Statistics\\n- Basic Statistical Tests and Regression Analysis\\n- Causal Inference\\n- Supervised Machine Learning\\n- Basic Text Analytics\\nMain Concepts - Key Takeaways\\n- Importance of data-driven decision-making in business\\n- Various statistical and machine learning techniques for analyzing data\\n- Real-world business applications for each technique\\nExam Information\\n- Online Exam\\n- Duration: 2 hours\\n- Three tasks:\\n  1. Code Interpretation\\n  2. Essay-style Question\\n  3. Coding Assignment\\nFinal Thoughts\\nThank you for participating in this course. Good luck on your exam and future endeavors in business analytics!']\n",
      "\n",
      "======================================================================\n",
      "\n",
      "Metrics Summary\n",
      "\n",
      "  - ✅ Answer Relevancy (score: 0.9166666666666666, threshold: 0.5, strict: False, evaluation model: gpt-4o, reason: The score is 0.92 because the answer is highly relevant and correctly identifies common algorithms used in supervised machine learning, but the reference to 'Module 4: Lecture Slides' is unnecessary and unrelated to the input question., error: None)\n",
      "  - ✅ Faithfulness (score: 1.0, threshold: 0.7, strict: False, evaluation model: gpt-4, reason: The score is 1.00 because there are no contradictions present, indicating a perfect alignment between the actual output and the retrieval context., error: None)\n",
      "  - ✅ Contextual Relevancy (score: 1.0, threshold: 0.7, strict: False, evaluation model: gpt-4, reason: The score is 1.00 because the retrieval context perfectly aligns with the input query regarding supervised machine learning algorithms. There are no listed reasons for irrelevancy., error: None)\n",
      "\n",
      "For test case:\n",
      "\n",
      "  - input: What are some common algorithms used in supervised machine learning?\n",
      "\n",
      "  - actual output: In supervised machine learning, some of the common algorithms that we use include:\n",
      "\n",
      "1. Linear Regression: This is used for predicting continuous outcomes. For example, it can be used to predict the sales of a company based on historical data.\n",
      "\n",
      "2. Logistic Regression: This is used for binary classification tasks. For instance, it can be used to predict whether a customer will churn or not.\n",
      "\n",
      "3. Decision Trees and Random Forests: These are used for complex classification tasks. For example, they can be used for fraud detection in a business context.\n",
      "\n",
      "These algorithms are widely used because they can handle a variety of data types and are relatively easy to understand and interpret.\n",
      "\n",
      "For more information, see: Module 4: Lecture Slides.\n",
      "  - expected output: Some common algorithms used in supervised machine learning are Linear Regression for continuous outcomes, Logistic Regression for binary classification, and Decision Trees and Random Forests for complex classifications.\n",
      "  - context: None\n",
      "  - retrieval context: ['Primer on Business Analytics with Python\\nModule 4: Supervised Machine Learning for Prediction and Classification\\nIntroduction\\n\\n- Supervised machine learning is a powerful tool for prediction and classification.\\x0b- This module will explore commonly used algorithms and their applications in business.\\x0b- Business applications include customer segmentation, fraud detection, and sales forecasting.\\nLearning Objectives\\n\\n- Understand the basics of supervised machine learning.\\x0b- Learn how to use Python libraries for implementing machine learning algorithms.\\nBasics of Supervised Machine Learning\\n\\n- Supervised learning involves training a model on labeled data.\\x0b- The goal is to make predictions or decisions based on new, unseen data.\\x0b- Business example: Predicting customer churn based on historical data.\\nCommon Algorithms\\n\\n- Linear Regression for continuous outcomes\\x0b- Logistic Regression for binary classification\\x0b- Decision Trees and Random Forests for complex classifications\\x0b- Business example: Using Random Forests for fraud detection.\\nSummary\\n\\n- We covered the basics of supervised machine learning and its business applications.\\x0b- Python libraries like scikit-learn make it easy to implement these algorithms.\\nBasic Classification of Machine Learning Types\\n\\n- Supervised Learning: Labelled data, prediction or classification tasks.\\x0b- Unsupervised Learning: Unlabelled data, clustering or association tasks.\\x0b- Reinforcement Learning: Decision-making tasks, learn from rewards.\\nDifference Between Classification and Prediction\\n\\n- Prediction: Estimating continuous values. E.g., sales forecasting.\\x0b- Classification: Assigning data points to discrete classes. E.g., spam or not spam.\\nModel Evaluation - Training and Test Sets\\n\\n- Split data into training and test sets for unbiased evaluation.\\x0b- Train the model on the training set and evaluate it on the test set.\\nModel Evaluation - Confusion Matrix']\n",
      "\n",
      "======================================================================\n",
      "\n",
      "Metrics Summary\n",
      "\n",
      "  - ✅ Answer Relevancy (score: 0.8, threshold: 0.5, strict: False, evaluation model: gpt-4o, reason: The score is 0.80 because the explanation about the purpose of a t-test in business analytics is mostly accurate and relevant, but the mention of where to find more information isn't directly related to the core question., error: None)\n",
      "  - ✅ Faithfulness (score: 1.0, threshold: 0.7, strict: False, evaluation model: gpt-4, reason: The score is 1.00 because there are no contradictions identified between the actual output and the retrieval context., error: None)\n",
      "  - ✅ Contextual Relevancy (score: 1.0, threshold: 0.7, strict: False, evaluation model: gpt-4, reason: The score is 1.00 because the retrieval context perfectly aligns with the input query, without any noted irrelevancies., error: None)\n",
      "\n",
      "For test case:\n",
      "\n",
      "  - input: What is the purpose of a t-test in business analytics?\n",
      "\n",
      "  - actual output: A t-test in business analytics is used to compare the means of two groups to see if they are statistically different. This can be incredibly useful in various business scenarios. For instance, a t-test can help understand if a marketing campaign was more effective in one region compared to another, or it can be used to compare the average sales before and after a marketing campaign. The t-test is a fundamental tool for hypothesis testing in business analytics.\n",
      "\n",
      "For more information, see: Module 2: Transcript [Slide 3: What is a t-test?] and Module 2: Lecture Slides.\n",
      "  - expected output: A t-test allows us to compare the means of two groups to see if they are statistically different. This can help understand if a marketing campaign was more effective in one region compared to another.\n",
      "  - context: None\n",
      "  - retrieval context: [\"[Slide 1: Title Slide]\\nHello again, everyone! Welcome back to our course on Business Analytics with Python. Today, we're moving on to Module 2. We'll be focusing on basic statistical tests, like the t-test and ANOVA, as well as regression analysis. So, let's dive right in and continue building on the foundation we laid in the last module.\\n\\n[Slide 2: Introduction]\\nBefore we jump into the details, let's discuss why statistical tests are important. In the world of business, we often have hypotheses or theories that we want to test. For example, is there a significant difference in sales between two different regions? Statistical tests help us answer questions like these with confidence.\\n\\n[Slide 3: What is a t-test?]\\nSo, what exactly is a t-test? In simple terms, a t-test allows us to compare the means of two groups to see if they are statistically different. This is incredibly useful in business. For example, it can help us understand if a marketing campaign was more effective in one region compared to another.\\n\\n[Slide 4: ANOVA]\\nNow, let's talk about ANOVA, which stands for Analysis of Variance. ANOVA is used when you want to compare the means of more than two groups. It's like an extended version of the t-test and is particularly useful in product testing scenarios.\\n\\n[Slide 5: Regression Analysis]\\nLast but not least, we'll discuss regression analysis. This allows us to understand the relationship between variables. For example, how does the price of a product affect its sales? Regression analysis can give us valuable insights into these kinds of relationships.\\n\\n[Slide 16: Summary]\\nIn summary, we've covered a lot today—t-tests, ANOVA, and regression analysis. These are powerful tools that can help you make informed business decisions based on data.\\n\\n[Slide 17: Q&A]\\nWe've come to the end of today's session. I hope you're leaving with a deeper understanding of statistical tests and their applications in business. If you have any questions, now's the time to ask.\"]\n",
      "\n",
      "======================================================================\n",
      "\n",
      "Metrics Summary\n",
      "\n",
      "  - ✅ Answer Relevancy (score: 0.9473684210526315, threshold: 0.5, strict: False, evaluation model: gpt-4o, reason: The score is 0.95 because the answer is highly relevant and covers the main concepts of the course, but it includes an unnecessary reference to additional material that slightly detracts from the focus., error: None)\n",
      "  - ✅ Faithfulness (score: 0.8235294117647058, threshold: 0.7, strict: False, evaluation model: gpt-4, reason: The score is 0.82 because the actual output incorrectly states that the topics 'Causal Inference', 'Supervised Machine Learning' and 'Basic Text Analytics' are covered in the Business Analytics with Python course, while these topics are not mentioned in the retrieval context., error: None)\n",
      "  - ✅ Contextual Relevancy (score: 1.0, threshold: 0.7, strict: False, evaluation model: gpt-4, reason: The score is 1.00 because there are no reasons given for irrelevancy, indicating a perfect match between the input and retrieval context., error: None)\n",
      "\n",
      "For test case:\n",
      "\n",
      "  - input: What are the main concepts covered in the Business Analytics with Python course?\n",
      "\n",
      "  - actual output: The main concepts covered in the Business Analytics with Python course are:\n",
      "\n",
      "1. Basic Data Manipulation and Descriptive Statistics: This involves understanding basic data structures in Python, learning to manipulate data using pandas, exploring basic descriptive statistics, and performing simple data visualizations.\n",
      "\n",
      "2. Basic Statistical Tests and Regression Analysis: This part of the course covers the application of statistical tests and regression analysis to understand and interpret data.\n",
      "\n",
      "3. Causal Inference: This concept involves understanding how to infer causality from data, which is crucial for making informed business decisions.\n",
      "\n",
      "4. Supervised Machine Learning: This part of the course introduces the basics of machine learning, focusing on supervised learning techniques.\n",
      "\n",
      "5. Basic Text Analytics: This involves learning how to analyze text data, which is increasingly important in the era of big data.\n",
      "\n",
      "The course emphasizes the importance of data-driven decision-making in business.\n",
      "\n",
      "For more information, see: Module 6: Lecture Slides.\n",
      "  - expected output: The main concepts covered in the course are basic data manipulation and descriptive statistics, basic statistical tests and regression analysis, causal inference, supervised machine learning, and basic text analytics.\n",
      "  - context: None\n",
      "  - retrieval context: [\"# Primer on Business Analytics with Python\\n## Module 6: Summary and Course Conclusion\\n### Transcript for Imagined Lecture\\n\\nHello everyone, and welcome to our final session in this course on Business Analytics with Python. It's been an incredible journey, and I'm thrilled to have had the chance to explore these fascinating topics with all of you.\\n\\n### Introduction\\nSo, what's on the agenda for today? We will revisit the central themes and key concepts that we have covered over the past modules. Our goal is to consolidate our learning and prepare ourselves for the upcoming exam. This is a crucial step in ensuring that we can apply our newly acquired skills in a business context.\\n\\n### Main Concepts - Overview\\nLet's begin by taking a walk down memory lane. Do you remember our first module? We started with basic data manipulation and descriptive statistics. We learned how to clean, process, and summarize data, which is the foundation for any analytics project. Then, we moved on to statistical tests like t-tests and ANOVA, followed by regression analysis. We discussed how these tests can help us in making informed business decisions.\\n\\n### Main Concepts - Key Takeaways\\nBut what's the big picture here? Why did we learn all these techniques? Well, the reason is simple but profound. In today's competitive business environment, data-driven decision-making is not just an advantage; it's a necessity. The techniques you've learned in this course will enable you to analyze various types of data and generate insights that can inform and guide business strategies.\"]\n",
      "\n",
      "======================================================================\n",
      "\n",
      "Metrics Summary\n",
      "\n",
      "  - ❌ Answer Relevancy (score: 0.25, threshold: 0.5, strict: False, evaluation model: gpt-4o, reason: The score is 0.25 because the response includes general information and redirects to other resources without addressing the specific question about the speaker's excitement., error: None)\n",
      "  - ✅ Faithfulness (score: 1.0, threshold: 0.7, strict: False, evaluation model: gpt-4, reason: The score is 1.00 because there are no contradictions detected between the 'actual output' and the 'retrieval context'. The output aligns perfectly with the given information., error: None)\n",
      "  - ✅ Contextual Relevancy (score: 1.0, threshold: 0.7, strict: False, evaluation model: gpt-4, reason: The score is 1.00 because the retrieval context perfectly aligns with the input, without any noted irrelevancies., error: None)\n",
      "\n",
      "For test case:\n",
      "\n",
      "  - input: What is the speaker excited to continue in the next module?\n",
      "\n",
      "  - actual output: Based on the course materials provided, there is no specific information about what the speaker is excited to continue in the next module. The speaker in Module 5 simply says, \"See you in the next module!\" without providing any details about the content or topics to be covered. Therefore, I'm unable to provide a specific answer to your question.\n",
      "\n",
      "For more information, see: Module 5 Transcript.\n",
      "  - expected output: The speaker is excited to continue the learning journey.\n",
      "  - context: None\n",
      "  - retrieval context: [\"Thank you for your participation, and I'm excited to continue this learning journey with you in the next module!\"]\n",
      "\n",
      "======================================================================\n",
      "\n",
      "Metrics Summary\n",
      "\n",
      "  - ✅ Answer Relevancy (score: 0.75, threshold: 0.5, strict: False, evaluation model: gpt-4o, reason: The score is 0.75 because the main response correctly identifies the go-to tool for data manipulation and analysis in business analytics, but includes irrelevant information about module references which does not address the input question., error: None)\n",
      "  - ✅ Faithfulness (score: 1.0, threshold: 0.7, strict: False, evaluation model: gpt-4, reason: The score is 1.00 because there are no contradictions present in the actual output when compared to the retrieval context., error: None)\n",
      "  - ✅ Contextual Relevancy (score: 1.0, threshold: 0.7, strict: False, evaluation model: gpt-4, reason: The score is 1.00 because the retrieval context perfectly aligns with the input, displaying a clear understanding of the requested business analytics tool., error: None)\n",
      "\n",
      "For test case:\n",
      "\n",
      "  - input: What is the go-to tool for data manipulation and analysis in business analytics?\n",
      "\n",
      "  - actual output: The go-to tool for data manipulation and analysis in business analytics, as covered in our course, is Python. Python is a versatile programming language that is particularly well-suited for data analysis. In this course, we specifically use Python's pandas library for data manipulation.\n",
      "\n",
      "For more information, see: Module 1: Transcript [Slide 2: Introduction] and Module 1: Tutorial.\n",
      "  - expected output: The go-to tool for data manipulation and analysis in business analytics is Python.\n",
      "  - context: None\n",
      "  - retrieval context: [\"[Slide 1: Title Slide]\\nHello, everyone! Welcome to this course on Business Analytics with Python. Today, we're diving into Module 1, where we'll cover basic data manipulation and descriptive statistics. Are you ready to begin this exciting journey into the world of data analytics? Great! Grab your coffee or tea, and let's get started.\\n\\n[Slide 2: Introduction]\\nBefore we delve into the nitty-gritty of data analysis, let's take a moment to discuss why we're all here. Business Analytics isn't just a buzzword; it's a crucial skill set that enables us to make informed decisions based on data. In the business world, data drives everything from sales forecasts and customer segmentation to inventory management and beyond. So, what's our go-to tool for data manipulation and analysis? That's right, it's Python—a versatile programming language that's perfect for data analysis.\\n\\n[Slide 3: Why Python?]\\nYou might wonder, why Python? Well, Python is known for its simplicity and readability, not to mention a wide array of libraries for data manipulation, like Pandas and NumPy. This makes it a go-to language for analysts and data scientists alike.\\n\\n[Slide 4: Data Structures]\\nLet's start by understanding the basic data structures in Python. We have lists, dictionaries, and tuples. Knowing how to use these effectively is like knowing your ABCs before you start to read.\\n\\n[Slide 5: Pandas Library]\\nNow, meet Pandas, Python's data manipulation library. With Pandas, you can do everything from data cleaning to data transformation, and it works seamlessly with other Python libraries.\\n\\n[Slide 16: Summary]\\nSo, to wrap things up, what have we covered today? Quite a bit, actually! We've gone through basic data structures, delved deep into data manipulation using Pandas, explored descriptive statistics, and even created a bar chart. You're well on your way to becoming a data-savvy business analyst.\"]\n",
      "\n",
      "======================================================================\n",
      "\n",
      "Metrics Summary\n",
      "\n",
      "  - ✅ Answer Relevancy (score: 0.9, threshold: 0.5, strict: False, evaluation model: gpt-4o, reason: The score is 0.90 because the explanation is mostly relevant and accurate, but it includes a reference to additional resources that does not directly explain what a confusion matrix is., error: None)\n",
      "  - ✅ Faithfulness (score: 1.0, threshold: 0.7, strict: False, evaluation model: gpt-4, reason: The score is 1.00 because there are no contradictions found between the actual output and the retrieval context., error: None)\n",
      "  - ✅ Contextual Relevancy (score: 1.0, threshold: 0.7, strict: False, evaluation model: gpt-4, reason: The score is 1.00 because the retrieval context perfectly aligns with the input about confusion matrix in model evaluation, with no reported irrelevancies., error: None)\n",
      "\n",
      "For test case:\n",
      "\n",
      "  - input: What is a confusion matrix in model evaluation?\n",
      "\n",
      "  - actual output: A confusion matrix is a table that describes the performance of a classification model. It shows the True Positives (TP), True Negatives (TN), False Positives (FP), and False Negatives (FN). \n",
      "\n",
      "- True Positives (TP): These are cases in which we predicted yes (the event happened), and it did happen.\n",
      "- True Negatives (TN): We predicted no, and it didn't happen.\n",
      "- False Positives (FP): We predicted yes, but it didn't happen. (Also known as a \"Type I error.\")\n",
      "- False Negatives (FN): We predicted no, but it happened. (Also known as a \"Type II error.\")\n",
      "\n",
      "This matrix is crucial in understanding the performance of your model, especially in cases where the data is imbalanced.\n",
      "\n",
      "For more information, see: Module 4: Lecture Slides, Module 4: Transcript.\n",
      "  - expected output: A confusion matrix is a table that describes the performance of a classification model, including True Positives, True Negatives, False Positives, and False Negatives.\n",
      "  - context: None\n",
      "  - retrieval context: ['- Split data into training and test sets for unbiased evaluation.\\x0b- Train the model on the training set and evaluate it on the test set.\\nModel Evaluation - Confusion Matrix\\n\\n- A table that describes the performance of a classification model.\\x0b- True Positives, True Negatives, False Positives, False Negatives.\\nModel Evaluation - Metrics for Regression\\n\\n- Mean Absolute Error (MAE): Average of absolute differences between predicted and actual values.\\x0b- Root Mean Square Error (RMSE): Square root of the average of squared differences between predicted and actual values.\\x0b- Coefficient of Determination (R^2): Proportion of variance in the dependent variable that is predictable from the independent variables.']\n",
      "\n",
      "======================================================================\n",
      "\n",
      "Overall Metric Pass Rates\n",
      "\n",
      "Answer Relevancy: 90.00% pass rate\n",
      "Faithfulness: 100.00% pass rate\n",
      "Contextual Relevancy: 100.00% pass rate\n",
      "\n",
      "======================================================================\n",
      "\n"
     ]
    },
    {
     "data": {
      "text/html": [
       "<pre style=\"white-space:pre;overflow-x:auto;line-height:normal;font-family:Menlo,'DejaVu Sans Mono',consolas,'Courier New',monospace\">✅ Tests finished! Run <span style=\"color: #008000; text-decoration-color: #008000\">\"deepeval login\"</span> to view evaluation results on the web.\n",
       "</pre>\n"
      ],
      "text/plain": [
       "✅ Tests finished! Run \u001b[32m\"deepeval login\"\u001b[0m to view evaluation results on the web.\n"
      ]
     },
     "metadata": {},
     "output_type": "display_data"
    },
    {
     "name": "stdout",
     "output_type": "stream",
     "text": [
      "--------------------------------------------------------------------------------\n",
      "Completed Evaluation\n",
      "Creating Test Cases...\n",
      "--------------------------------------------------------------------------------\n",
      "load INSTRUCTOR_Transformer\n",
      "max_seq_length  512\n",
      "Prompt tokens: 611\n",
      "Completion tokens: 77\n",
      "Total tokens: 688\n",
      "Prompt tokens: 592\n",
      "Completion tokens: 165\n",
      "Total tokens: 757\n",
      "Prompt tokens: 634\n",
      "Completion tokens: 96\n",
      "Total tokens: 730\n",
      "Prompt tokens: 630\n",
      "Completion tokens: 106\n",
      "Total tokens: 736\n",
      "Prompt tokens: 540\n",
      "Completion tokens: 129\n",
      "Total tokens: 669\n",
      "Prompt tokens: 621\n",
      "Completion tokens: 113\n",
      "Total tokens: 734\n",
      "Prompt tokens: 606\n",
      "Completion tokens: 179\n",
      "Total tokens: 785\n",
      "Prompt tokens: 564\n",
      "Completion tokens: 79\n",
      "Total tokens: 643\n",
      "Prompt tokens: 643\n",
      "Completion tokens: 83\n",
      "Total tokens: 726\n"
     ]
    },
    {
     "data": {
      "application/vnd.jupyter.widget-view+json": {
       "model_id": "2d702006ab184f2aa9d09ab420a74fed",
       "version_major": 2,
       "version_minor": 0
      },
      "text/plain": [
       "Output()"
      ]
     },
     "metadata": {},
     "output_type": "display_data"
    },
    {
     "name": "stdout",
     "output_type": "stream",
     "text": [
      "Prompt tokens: 613\n",
      "Completion tokens: 170\n",
      "Total tokens: 783\n",
      "Evaluating Test Cases...\n",
      "--------------------------------------------------------------------------------\n",
      "Evaluating test cases...\n",
      "Event loop is already running. Applying nest_asyncio patch to allow async execution...\n"
     ]
    },
    {
     "name": "stderr",
     "output_type": "stream",
     "text": [
      "I0000 00:00:1723203037.014560 28273155 work_stealing_thread_pool.cc:320] WorkStealingThreadPoolImpl::PrepareFork\n",
      "I0000 00:00:1723203037.041336 28273155 work_stealing_thread_pool.cc:320] WorkStealingThreadPoolImpl::PrepareFork\n",
      "I0000 00:00:1723203037.061135 28273155 work_stealing_thread_pool.cc:320] WorkStealingThreadPoolImpl::PrepareFork\n",
      "I0000 00:00:1723203037.078906 28273155 work_stealing_thread_pool.cc:320] WorkStealingThreadPoolImpl::PrepareFork\n"
     ]
    },
    {
     "name": "stderr",
     "output_type": "stream",
     "text": [
      "I0000 00:00:1723203038.114973 28273155 work_stealing_thread_pool.cc:320] WorkStealingThreadPoolImpl::PrepareFork\n"
     ]
    },
    {
     "name": "stderr",
     "output_type": "stream",
     "text": [
      "I0000 00:00:1723203039.059373 28273155 work_stealing_thread_pool.cc:320] WorkStealingThreadPoolImpl::PrepareFork\n"
     ]
    },
    {
     "name": "stderr",
     "output_type": "stream",
     "text": [
      "I0000 00:00:1723203041.299038 28273155 work_stealing_thread_pool.cc:320] WorkStealingThreadPoolImpl::PrepareFork\n"
     ]
    },
    {
     "name": "stderr",
     "output_type": "stream",
     "text": [
      "I0000 00:00:1723203044.480014 28273155 work_stealing_thread_pool.cc:320] WorkStealingThreadPoolImpl::PrepareFork\n"
     ]
    },
    {
     "name": "stderr",
     "output_type": "stream",
     "text": [
      "I0000 00:00:1723203050.032053 28273155 work_stealing_thread_pool.cc:320] WorkStealingThreadPoolImpl::PrepareFork\n"
     ]
    },
    {
     "data": {
      "text/html": [
       "<pre style=\"white-space:pre;overflow-x:auto;line-height:normal;font-family:Menlo,'DejaVu Sans Mono',consolas,'Courier New',monospace\"></pre>\n"
      ],
      "text/plain": []
     },
     "metadata": {},
     "output_type": "display_data"
    },
    {
     "data": {
      "text/html": [
       "<pre style=\"white-space:pre;overflow-x:auto;line-height:normal;font-family:Menlo,'DejaVu Sans Mono',consolas,'Courier New',monospace\">\n",
       "</pre>\n"
      ],
      "text/plain": [
       "\n"
      ]
     },
     "metadata": {},
     "output_type": "display_data"
    },
    {
     "data": {
      "application/vnd.jupyter.widget-view+json": {
       "model_id": "271b8f4a9b9a4b11ad30f3884622ddde",
       "version_major": 2,
       "version_minor": 0
      },
      "text/plain": [
       "Output()"
      ]
     },
     "metadata": {},
     "output_type": "display_data"
    },
    {
     "name": "stderr",
     "output_type": "stream",
     "text": [
      "I0000 00:00:1723203054.044654 28273155 work_stealing_thread_pool.cc:320] WorkStealingThreadPoolImpl::PrepareFork\n",
      "I0000 00:00:1723203054.067143 28273155 work_stealing_thread_pool.cc:320] WorkStealingThreadPoolImpl::PrepareFork\n",
      "I0000 00:00:1723203054.086016 28273155 work_stealing_thread_pool.cc:320] WorkStealingThreadPoolImpl::PrepareFork\n",
      "I0000 00:00:1723203054.103607 28273155 work_stealing_thread_pool.cc:320] WorkStealingThreadPoolImpl::PrepareFork\n"
     ]
    },
    {
     "name": "stderr",
     "output_type": "stream",
     "text": [
      "I0000 00:00:1723203055.059959 28273155 work_stealing_thread_pool.cc:320] WorkStealingThreadPoolImpl::PrepareFork\n"
     ]
    },
    {
     "name": "stderr",
     "output_type": "stream",
     "text": [
      "I0000 00:00:1723203056.788656 28273155 work_stealing_thread_pool.cc:320] WorkStealingThreadPoolImpl::PrepareFork\n"
     ]
    },
    {
     "name": "stderr",
     "output_type": "stream",
     "text": [
      "I0000 00:00:1723203058.918116 28273155 work_stealing_thread_pool.cc:320] WorkStealingThreadPoolImpl::PrepareFork\n"
     ]
    },
    {
     "name": "stderr",
     "output_type": "stream",
     "text": [
      "I0000 00:00:1723203063.194996 28273155 work_stealing_thread_pool.cc:320] WorkStealingThreadPoolImpl::PrepareFork\n"
     ]
    },
    {
     "name": "stderr",
     "output_type": "stream",
     "text": [
      "I0000 00:00:1723203070.474178 28273155 work_stealing_thread_pool.cc:320] WorkStealingThreadPoolImpl::PrepareFork\n"
     ]
    },
    {
     "data": {
      "text/html": [
       "<pre style=\"white-space:pre;overflow-x:auto;line-height:normal;font-family:Menlo,'DejaVu Sans Mono',consolas,'Courier New',monospace\"></pre>\n"
      ],
      "text/plain": []
     },
     "metadata": {},
     "output_type": "display_data"
    },
    {
     "data": {
      "text/html": [
       "<pre style=\"white-space:pre;overflow-x:auto;line-height:normal;font-family:Menlo,'DejaVu Sans Mono',consolas,'Courier New',monospace\">\n",
       "</pre>\n"
      ],
      "text/plain": [
       "\n"
      ]
     },
     "metadata": {},
     "output_type": "display_data"
    },
    {
     "data": {
      "application/vnd.jupyter.widget-view+json": {
       "model_id": "ac5d4f5dcf334723944c43b321430d49",
       "version_major": 2,
       "version_minor": 0
      },
      "text/plain": [
       "Output()"
      ]
     },
     "metadata": {},
     "output_type": "display_data"
    },
    {
     "name": "stderr",
     "output_type": "stream",
     "text": [
      "I0000 00:00:1723203073.018933 28273155 work_stealing_thread_pool.cc:320] WorkStealingThreadPoolImpl::PrepareFork\n",
      "I0000 00:00:1723203073.038140 28273155 work_stealing_thread_pool.cc:320] WorkStealingThreadPoolImpl::PrepareFork\n",
      "I0000 00:00:1723203073.055118 28273155 work_stealing_thread_pool.cc:320] WorkStealingThreadPoolImpl::PrepareFork\n",
      "I0000 00:00:1723203073.072487 28273155 work_stealing_thread_pool.cc:320] WorkStealingThreadPoolImpl::PrepareFork\n"
     ]
    },
    {
     "name": "stderr",
     "output_type": "stream",
     "text": [
      "I0000 00:00:1723203074.003089 28273155 work_stealing_thread_pool.cc:320] WorkStealingThreadPoolImpl::PrepareFork\n"
     ]
    },
    {
     "name": "stderr",
     "output_type": "stream",
     "text": [
      "I0000 00:00:1723203075.261439 28273155 work_stealing_thread_pool.cc:320] WorkStealingThreadPoolImpl::PrepareFork\n"
     ]
    },
    {
     "name": "stderr",
     "output_type": "stream",
     "text": [
      "I0000 00:00:1723203076.926117 28273155 work_stealing_thread_pool.cc:320] WorkStealingThreadPoolImpl::PrepareFork\n"
     ]
    },
    {
     "name": "stderr",
     "output_type": "stream",
     "text": [
      "I0000 00:00:1723203085.515005 28273155 work_stealing_thread_pool.cc:320] WorkStealingThreadPoolImpl::PrepareFork\n"
     ]
    },
    {
     "name": "stderr",
     "output_type": "stream",
     "text": [
      "I0000 00:00:1723203089.395927 28273155 work_stealing_thread_pool.cc:320] WorkStealingThreadPoolImpl::PrepareFork\n"
     ]
    },
    {
     "data": {
      "text/html": [
       "<pre style=\"white-space:pre;overflow-x:auto;line-height:normal;font-family:Menlo,'DejaVu Sans Mono',consolas,'Courier New',monospace\"></pre>\n"
      ],
      "text/plain": []
     },
     "metadata": {},
     "output_type": "display_data"
    },
    {
     "data": {
      "text/html": [
       "<pre style=\"white-space:pre;overflow-x:auto;line-height:normal;font-family:Menlo,'DejaVu Sans Mono',consolas,'Courier New',monospace\">\n",
       "</pre>\n"
      ],
      "text/plain": [
       "\n"
      ]
     },
     "metadata": {},
     "output_type": "display_data"
    },
    {
     "data": {
      "application/vnd.jupyter.widget-view+json": {
       "model_id": "9a2a305934da4248b370b64768554344",
       "version_major": 2,
       "version_minor": 0
      },
      "text/plain": [
       "Output()"
      ]
     },
     "metadata": {},
     "output_type": "display_data"
    },
    {
     "name": "stderr",
     "output_type": "stream",
     "text": [
      "I0000 00:00:1723203091.499499 28273155 work_stealing_thread_pool.cc:320] WorkStealingThreadPoolImpl::PrepareFork\n",
      "I0000 00:00:1723203091.519795 28273155 work_stealing_thread_pool.cc:320] WorkStealingThreadPoolImpl::PrepareFork\n",
      "I0000 00:00:1723203091.534214 28273155 work_stealing_thread_pool.cc:320] WorkStealingThreadPoolImpl::PrepareFork\n",
      "I0000 00:00:1723203091.547988 28273155 work_stealing_thread_pool.cc:320] WorkStealingThreadPoolImpl::PrepareFork\n"
     ]
    },
    {
     "name": "stderr",
     "output_type": "stream",
     "text": [
      "I0000 00:00:1723203093.340483 28273155 work_stealing_thread_pool.cc:320] WorkStealingThreadPoolImpl::PrepareFork\n",
      "I0000 00:00:1723203093.500182 28273155 work_stealing_thread_pool.cc:320] WorkStealingThreadPoolImpl::PrepareFork\n"
     ]
    },
    {
     "name": "stderr",
     "output_type": "stream",
     "text": [
      "I0000 00:00:1723203095.295980 28273155 work_stealing_thread_pool.cc:320] WorkStealingThreadPoolImpl::PrepareFork\n"
     ]
    },
    {
     "name": "stderr",
     "output_type": "stream",
     "text": [
      "I0000 00:00:1723203101.479276 28273155 work_stealing_thread_pool.cc:320] WorkStealingThreadPoolImpl::PrepareFork\n"
     ]
    },
    {
     "name": "stderr",
     "output_type": "stream",
     "text": [
      "I0000 00:00:1723203109.512421 28273155 work_stealing_thread_pool.cc:320] WorkStealingThreadPoolImpl::PrepareFork\n"
     ]
    },
    {
     "data": {
      "text/html": [
       "<pre style=\"white-space:pre;overflow-x:auto;line-height:normal;font-family:Menlo,'DejaVu Sans Mono',consolas,'Courier New',monospace\"></pre>\n"
      ],
      "text/plain": []
     },
     "metadata": {},
     "output_type": "display_data"
    },
    {
     "data": {
      "text/html": [
       "<pre style=\"white-space:pre;overflow-x:auto;line-height:normal;font-family:Menlo,'DejaVu Sans Mono',consolas,'Courier New',monospace\">\n",
       "</pre>\n"
      ],
      "text/plain": [
       "\n"
      ]
     },
     "metadata": {},
     "output_type": "display_data"
    },
    {
     "data": {
      "application/vnd.jupyter.widget-view+json": {
       "model_id": "eb2a03a127b947eda13c0ca0075fe628",
       "version_major": 2,
       "version_minor": 0
      },
      "text/plain": [
       "Output()"
      ]
     },
     "metadata": {},
     "output_type": "display_data"
    },
    {
     "name": "stderr",
     "output_type": "stream",
     "text": [
      "I0000 00:00:1723203112.725989 28273155 work_stealing_thread_pool.cc:320] WorkStealingThreadPoolImpl::PrepareFork\n",
      "I0000 00:00:1723203112.750545 28273155 work_stealing_thread_pool.cc:320] WorkStealingThreadPoolImpl::PrepareFork\n",
      "I0000 00:00:1723203112.770085 28273155 work_stealing_thread_pool.cc:320] WorkStealingThreadPoolImpl::PrepareFork\n",
      "I0000 00:00:1723203112.789455 28273155 work_stealing_thread_pool.cc:320] WorkStealingThreadPoolImpl::PrepareFork\n"
     ]
    },
    {
     "name": "stderr",
     "output_type": "stream",
     "text": [
      "I0000 00:00:1723203113.609128 28273155 work_stealing_thread_pool.cc:320] WorkStealingThreadPoolImpl::PrepareFork\n"
     ]
    },
    {
     "name": "stderr",
     "output_type": "stream",
     "text": [
      "I0000 00:00:1723203115.649884 28273155 work_stealing_thread_pool.cc:320] WorkStealingThreadPoolImpl::PrepareFork\n"
     ]
    },
    {
     "name": "stderr",
     "output_type": "stream",
     "text": [
      "I0000 00:00:1723203119.700665 28273155 work_stealing_thread_pool.cc:320] WorkStealingThreadPoolImpl::PrepareFork\n"
     ]
    },
    {
     "name": "stderr",
     "output_type": "stream",
     "text": [
      "I0000 00:00:1723203124.859395 28273155 work_stealing_thread_pool.cc:320] WorkStealingThreadPoolImpl::PrepareFork\n"
     ]
    },
    {
     "name": "stderr",
     "output_type": "stream",
     "text": [
      "I0000 00:00:1723203130.686164 28273155 work_stealing_thread_pool.cc:320] WorkStealingThreadPoolImpl::PrepareFork\n"
     ]
    },
    {
     "data": {
      "text/html": [
       "<pre style=\"white-space:pre;overflow-x:auto;line-height:normal;font-family:Menlo,'DejaVu Sans Mono',consolas,'Courier New',monospace\"></pre>\n"
      ],
      "text/plain": []
     },
     "metadata": {},
     "output_type": "display_data"
    },
    {
     "data": {
      "text/html": [
       "<pre style=\"white-space:pre;overflow-x:auto;line-height:normal;font-family:Menlo,'DejaVu Sans Mono',consolas,'Courier New',monospace\">\n",
       "</pre>\n"
      ],
      "text/plain": [
       "\n"
      ]
     },
     "metadata": {},
     "output_type": "display_data"
    },
    {
     "data": {
      "application/vnd.jupyter.widget-view+json": {
       "model_id": "8d4de91cfb734ff18ca2ac6193d0f433",
       "version_major": 2,
       "version_minor": 0
      },
      "text/plain": [
       "Output()"
      ]
     },
     "metadata": {},
     "output_type": "display_data"
    },
    {
     "name": "stderr",
     "output_type": "stream",
     "text": [
      "I0000 00:00:1723203132.842718 28273155 work_stealing_thread_pool.cc:320] WorkStealingThreadPoolImpl::PrepareFork\n",
      "I0000 00:00:1723203132.861507 28273155 work_stealing_thread_pool.cc:320] WorkStealingThreadPoolImpl::PrepareFork\n",
      "I0000 00:00:1723203132.876806 28273155 work_stealing_thread_pool.cc:320] WorkStealingThreadPoolImpl::PrepareFork\n",
      "I0000 00:00:1723203132.892720 28273155 work_stealing_thread_pool.cc:320] WorkStealingThreadPoolImpl::PrepareFork\n"
     ]
    },
    {
     "name": "stderr",
     "output_type": "stream",
     "text": [
      "I0000 00:00:1723203133.935419 28273155 work_stealing_thread_pool.cc:320] WorkStealingThreadPoolImpl::PrepareFork\n"
     ]
    },
    {
     "name": "stderr",
     "output_type": "stream",
     "text": [
      "I0000 00:00:1723203134.885333 28273155 work_stealing_thread_pool.cc:320] WorkStealingThreadPoolImpl::PrepareFork\n"
     ]
    },
    {
     "name": "stderr",
     "output_type": "stream",
     "text": [
      "I0000 00:00:1723203136.406322 28273155 work_stealing_thread_pool.cc:320] WorkStealingThreadPoolImpl::PrepareFork\n"
     ]
    },
    {
     "name": "stderr",
     "output_type": "stream",
     "text": [
      "I0000 00:00:1723203144.275247 28273155 work_stealing_thread_pool.cc:320] WorkStealingThreadPoolImpl::PrepareFork\n"
     ]
    },
    {
     "name": "stderr",
     "output_type": "stream",
     "text": [
      "I0000 00:00:1723203147.730479 28273155 work_stealing_thread_pool.cc:320] WorkStealingThreadPoolImpl::PrepareFork\n"
     ]
    },
    {
     "data": {
      "text/html": [
       "<pre style=\"white-space:pre;overflow-x:auto;line-height:normal;font-family:Menlo,'DejaVu Sans Mono',consolas,'Courier New',monospace\"></pre>\n"
      ],
      "text/plain": []
     },
     "metadata": {},
     "output_type": "display_data"
    },
    {
     "data": {
      "text/html": [
       "<pre style=\"white-space:pre;overflow-x:auto;line-height:normal;font-family:Menlo,'DejaVu Sans Mono',consolas,'Courier New',monospace\">\n",
       "</pre>\n"
      ],
      "text/plain": [
       "\n"
      ]
     },
     "metadata": {},
     "output_type": "display_data"
    },
    {
     "data": {
      "application/vnd.jupyter.widget-view+json": {
       "model_id": "76354e6a3cf949c2aacb810c2e78abd0",
       "version_major": 2,
       "version_minor": 0
      },
      "text/plain": [
       "Output()"
      ]
     },
     "metadata": {},
     "output_type": "display_data"
    },
    {
     "name": "stderr",
     "output_type": "stream",
     "text": [
      "I0000 00:00:1723203150.485947 28273155 work_stealing_thread_pool.cc:320] WorkStealingThreadPoolImpl::PrepareFork\n",
      "I0000 00:00:1723203150.511608 28273155 work_stealing_thread_pool.cc:320] WorkStealingThreadPoolImpl::PrepareFork\n",
      "I0000 00:00:1723203150.530910 28273155 work_stealing_thread_pool.cc:320] WorkStealingThreadPoolImpl::PrepareFork\n",
      "I0000 00:00:1723203150.550243 28273155 work_stealing_thread_pool.cc:320] WorkStealingThreadPoolImpl::PrepareFork\n"
     ]
    },
    {
     "name": "stderr",
     "output_type": "stream",
     "text": [
      "I0000 00:00:1723203151.540439 28273155 work_stealing_thread_pool.cc:320] WorkStealingThreadPoolImpl::PrepareFork\n"
     ]
    },
    {
     "name": "stderr",
     "output_type": "stream",
     "text": [
      "I0000 00:00:1723203153.331167 28273155 work_stealing_thread_pool.cc:320] WorkStealingThreadPoolImpl::PrepareFork\n"
     ]
    },
    {
     "name": "stderr",
     "output_type": "stream",
     "text": [
      "I0000 00:00:1723203155.999713 28273155 work_stealing_thread_pool.cc:320] WorkStealingThreadPoolImpl::PrepareFork\n"
     ]
    },
    {
     "name": "stderr",
     "output_type": "stream",
     "text": [
      "I0000 00:00:1723203160.613773 28273155 work_stealing_thread_pool.cc:320] WorkStealingThreadPoolImpl::PrepareFork\n"
     ]
    },
    {
     "name": "stderr",
     "output_type": "stream",
     "text": [
      "I0000 00:00:1723203176.956251 28273155 work_stealing_thread_pool.cc:320] WorkStealingThreadPoolImpl::PrepareFork\n"
     ]
    },
    {
     "data": {
      "text/html": [
       "<pre style=\"white-space:pre;overflow-x:auto;line-height:normal;font-family:Menlo,'DejaVu Sans Mono',consolas,'Courier New',monospace\"></pre>\n"
      ],
      "text/plain": []
     },
     "metadata": {},
     "output_type": "display_data"
    },
    {
     "data": {
      "text/html": [
       "<pre style=\"white-space:pre;overflow-x:auto;line-height:normal;font-family:Menlo,'DejaVu Sans Mono',consolas,'Courier New',monospace\">\n",
       "</pre>\n"
      ],
      "text/plain": [
       "\n"
      ]
     },
     "metadata": {},
     "output_type": "display_data"
    },
    {
     "data": {
      "application/vnd.jupyter.widget-view+json": {
       "model_id": "0e5d1ba7f66d4525b82d860a3087d496",
       "version_major": 2,
       "version_minor": 0
      },
      "text/plain": [
       "Output()"
      ]
     },
     "metadata": {},
     "output_type": "display_data"
    },
    {
     "name": "stderr",
     "output_type": "stream",
     "text": [
      "I0000 00:00:1723203180.659236 28273155 work_stealing_thread_pool.cc:320] WorkStealingThreadPoolImpl::PrepareFork\n",
      "I0000 00:00:1723203180.682396 28273155 work_stealing_thread_pool.cc:320] WorkStealingThreadPoolImpl::PrepareFork\n",
      "I0000 00:00:1723203180.702347 28273155 work_stealing_thread_pool.cc:320] WorkStealingThreadPoolImpl::PrepareFork\n",
      "I0000 00:00:1723203180.721857 28273155 work_stealing_thread_pool.cc:320] WorkStealingThreadPoolImpl::PrepareFork\n"
     ]
    },
    {
     "name": "stderr",
     "output_type": "stream",
     "text": [
      "I0000 00:00:1723203181.918744 28273155 work_stealing_thread_pool.cc:320] WorkStealingThreadPoolImpl::PrepareFork\n"
     ]
    },
    {
     "name": "stderr",
     "output_type": "stream",
     "text": [
      "I0000 00:00:1723203183.369167 28273155 work_stealing_thread_pool.cc:320] WorkStealingThreadPoolImpl::PrepareFork\n"
     ]
    },
    {
     "name": "stderr",
     "output_type": "stream",
     "text": [
      "I0000 00:00:1723203184.873076 28273155 work_stealing_thread_pool.cc:320] WorkStealingThreadPoolImpl::PrepareFork\n"
     ]
    },
    {
     "name": "stderr",
     "output_type": "stream",
     "text": [
      "I0000 00:00:1723203185.469783 28273155 work_stealing_thread_pool.cc:320] WorkStealingThreadPoolImpl::PrepareFork\n"
     ]
    },
    {
     "name": "stderr",
     "output_type": "stream",
     "text": [
      "I0000 00:00:1723203188.057311 28273155 work_stealing_thread_pool.cc:320] WorkStealingThreadPoolImpl::PrepareFork\n"
     ]
    },
    {
     "data": {
      "text/html": [
       "<pre style=\"white-space:pre;overflow-x:auto;line-height:normal;font-family:Menlo,'DejaVu Sans Mono',consolas,'Courier New',monospace\"></pre>\n"
      ],
      "text/plain": []
     },
     "metadata": {},
     "output_type": "display_data"
    },
    {
     "data": {
      "text/html": [
       "<pre style=\"white-space:pre;overflow-x:auto;line-height:normal;font-family:Menlo,'DejaVu Sans Mono',consolas,'Courier New',monospace\">\n",
       "</pre>\n"
      ],
      "text/plain": [
       "\n"
      ]
     },
     "metadata": {},
     "output_type": "display_data"
    },
    {
     "data": {
      "application/vnd.jupyter.widget-view+json": {
       "model_id": "9a7fc9c1051a4f31900842345afdc997",
       "version_major": 2,
       "version_minor": 0
      },
      "text/plain": [
       "Output()"
      ]
     },
     "metadata": {},
     "output_type": "display_data"
    },
    {
     "name": "stderr",
     "output_type": "stream",
     "text": [
      "I0000 00:00:1723203189.963393 28273155 work_stealing_thread_pool.cc:320] WorkStealingThreadPoolImpl::PrepareFork\n",
      "I0000 00:00:1723203189.984222 28273155 work_stealing_thread_pool.cc:320] WorkStealingThreadPoolImpl::PrepareFork\n",
      "I0000 00:00:1723203190.000183 28273155 work_stealing_thread_pool.cc:320] WorkStealingThreadPoolImpl::PrepareFork\n",
      "I0000 00:00:1723203190.016079 28273155 work_stealing_thread_pool.cc:320] WorkStealingThreadPoolImpl::PrepareFork\n"
     ]
    },
    {
     "name": "stderr",
     "output_type": "stream",
     "text": [
      "I0000 00:00:1723203191.434935 28273155 work_stealing_thread_pool.cc:320] WorkStealingThreadPoolImpl::PrepareFork\n"
     ]
    },
    {
     "name": "stderr",
     "output_type": "stream",
     "text": [
      "I0000 00:00:1723203191.823817 28273155 work_stealing_thread_pool.cc:320] WorkStealingThreadPoolImpl::PrepareFork\n"
     ]
    },
    {
     "name": "stderr",
     "output_type": "stream",
     "text": [
      "I0000 00:00:1723203194.481491 28273155 work_stealing_thread_pool.cc:320] WorkStealingThreadPoolImpl::PrepareFork\n"
     ]
    },
    {
     "name": "stderr",
     "output_type": "stream",
     "text": [
      "I0000 00:00:1723203198.862317 28273155 work_stealing_thread_pool.cc:320] WorkStealingThreadPoolImpl::PrepareFork\n"
     ]
    },
    {
     "name": "stderr",
     "output_type": "stream",
     "text": [
      "I0000 00:00:1723203203.419818 28273155 work_stealing_thread_pool.cc:320] WorkStealingThreadPoolImpl::PrepareFork\n"
     ]
    },
    {
     "data": {
      "text/html": [
       "<pre style=\"white-space:pre;overflow-x:auto;line-height:normal;font-family:Menlo,'DejaVu Sans Mono',consolas,'Courier New',monospace\"></pre>\n"
      ],
      "text/plain": []
     },
     "metadata": {},
     "output_type": "display_data"
    },
    {
     "data": {
      "text/html": [
       "<pre style=\"white-space:pre;overflow-x:auto;line-height:normal;font-family:Menlo,'DejaVu Sans Mono',consolas,'Courier New',monospace\">\n",
       "</pre>\n"
      ],
      "text/plain": [
       "\n"
      ]
     },
     "metadata": {},
     "output_type": "display_data"
    },
    {
     "data": {
      "application/vnd.jupyter.widget-view+json": {
       "model_id": "5cab05ff655a4a349faf72684f7fc46b",
       "version_major": 2,
       "version_minor": 0
      },
      "text/plain": [
       "Output()"
      ]
     },
     "metadata": {},
     "output_type": "display_data"
    },
    {
     "name": "stderr",
     "output_type": "stream",
     "text": [
      "I0000 00:00:1723203205.461758 28273155 work_stealing_thread_pool.cc:320] WorkStealingThreadPoolImpl::PrepareFork\n",
      "I0000 00:00:1723203205.482894 28273155 work_stealing_thread_pool.cc:320] WorkStealingThreadPoolImpl::PrepareFork\n",
      "I0000 00:00:1723203205.503522 28273155 work_stealing_thread_pool.cc:320] WorkStealingThreadPoolImpl::PrepareFork\n",
      "I0000 00:00:1723203205.522286 28273155 work_stealing_thread_pool.cc:320] WorkStealingThreadPoolImpl::PrepareFork\n"
     ]
    },
    {
     "name": "stderr",
     "output_type": "stream",
     "text": [
      "I0000 00:00:1723203207.495469 28273155 work_stealing_thread_pool.cc:320] WorkStealingThreadPoolImpl::PrepareFork\n"
     ]
    },
    {
     "name": "stderr",
     "output_type": "stream",
     "text": [
      "I0000 00:00:1723203208.197841 28273155 work_stealing_thread_pool.cc:320] WorkStealingThreadPoolImpl::PrepareFork\n"
     ]
    },
    {
     "name": "stderr",
     "output_type": "stream",
     "text": [
      "I0000 00:00:1723203210.391824 28273155 work_stealing_thread_pool.cc:320] WorkStealingThreadPoolImpl::PrepareFork\n"
     ]
    },
    {
     "name": "stderr",
     "output_type": "stream",
     "text": [
      "I0000 00:00:1723203214.541066 28273155 work_stealing_thread_pool.cc:320] WorkStealingThreadPoolImpl::PrepareFork\n"
     ]
    },
    {
     "name": "stderr",
     "output_type": "stream",
     "text": [
      "I0000 00:00:1723203221.016380 28273155 work_stealing_thread_pool.cc:320] WorkStealingThreadPoolImpl::PrepareFork\n"
     ]
    },
    {
     "data": {
      "text/html": [
       "<pre style=\"white-space:pre;overflow-x:auto;line-height:normal;font-family:Menlo,'DejaVu Sans Mono',consolas,'Courier New',monospace\"></pre>\n"
      ],
      "text/plain": []
     },
     "metadata": {},
     "output_type": "display_data"
    },
    {
     "data": {
      "text/html": [
       "<pre style=\"white-space:pre;overflow-x:auto;line-height:normal;font-family:Menlo,'DejaVu Sans Mono',consolas,'Courier New',monospace\">\n",
       "</pre>\n"
      ],
      "text/plain": [
       "\n"
      ]
     },
     "metadata": {},
     "output_type": "display_data"
    },
    {
     "name": "stdout",
     "output_type": "stream",
     "text": [
      "\n",
      "======================================================================\n",
      "\n",
      "Metrics Summary\n",
      "\n",
      "  - ✅ Answer Relevancy (score: 0.75, threshold: 0.5, strict: False, evaluation model: gpt-4o, reason: The score is 0.75 because the provided answer mostly explains the purpose of the AI chatbot in the business analytics course, but includes a reference to 'Module 5: Lecture Slides,' which is not directly relevant to the question., error: None)\n",
      "  - ❌ Faithfulness (score: 0.3333333333333333, threshold: 0.7, strict: False, evaluation model: gpt-4, reason: The score is 0.33 due to the fact that the actual output wrongly stated that the purpose of the AI chatbot is to demonstrate an application of text analytics in a business context, whereas its actual purpose is to answer frequently asked questions and provide clarifications on course materials. Additionally, it inaccurately claimed that the course covers how to train intelligent chatbots to handle customer queries, which was not mentioned in the retrieval context., error: None)\n",
      "  - ✅ Contextual Relevancy (score: 1.0, threshold: 0.7, strict: False, evaluation model: gpt-4, reason: The score is 1.00 because the retrieval context is directly relevant to the input with no stated irrelevancies., error: None)\n",
      "\n",
      "For test case:\n",
      "\n",
      "  - input: What is the purpose of the AI chatbot in the business analytics course?\n",
      "\n",
      "  - actual output: The purpose of the AI chatbot in the business analytics course is to demonstrate an application of text analytics in a business context. Specifically, the course covers how to train intelligent chatbots to handle customer queries. This is an example of how the techniques learned in the course can be applied to real-world business problems. \n",
      "\n",
      "For more information, see: Module 5: Lecture Slides.\n",
      "  - expected output: The AI chatbot is designed to answer frequently asked questions and provide clarifications on course materials, allowing students to get instant support.\n",
      "  - context: None\n",
      "  - retrieval context: ['- **AI Chatbot**: An AI chatbot is available for student queries. This chatbot is designed to answer frequently asked questions and provide clarifications on course materials, allowing students to get instant support.\\n\\n- **Attendance**: Attendance is not compulsory but is encouraged. While all lectures are recorded, attending in-person offers the benefit of immediate clarification of doubts and interactive learning.\\n\\n- **Development Environment**: Students can use the provided Jupyter Notebook servers or their own development environment. This flexibility ensures that students can work in an environment they are comfortable with, further enhancing the learning experience.']\n",
      "\n",
      "======================================================================\n",
      "\n",
      "Metrics Summary\n",
      "\n",
      "  - ✅ Answer Relevancy (score: 0.8888888888888888, threshold: 0.5, strict: False, evaluation model: gpt-4o, reason: The score is 0.89 because the answer is mostly relevant and addresses the basic techniques in text analytics covered in Module 5. However, it includes additional resources that, while helpful, do not directly answer the question., error: None)\n",
      "  - ✅ Faithfulness (score: 0.875, threshold: 0.7, strict: False, evaluation model: gpt-4, reason: The score is 0.88 because while the actual output asserts that text preprocessing is a crucial step in text analytics, this point is not directly mentioned in the retrieval context., error: None)\n",
      "  - ✅ Contextual Relevancy (score: 1.0, threshold: 0.7, strict: False, evaluation model: gpt-4, reason: The score is 1.00 because the retrieval context perfectly matches the input, with no reasons for irrelevancy provided., error: None)\n",
      "\n",
      "For test case:\n",
      "\n",
      "  - input: What are the basic techniques in text analytics covered in Module 5 of the Business Analytics with Python course?\n",
      "\n",
      "  - actual output: The basic techniques in text analytics covered in Module 5 of the Business Analytics with Python course include text preprocessing, topic identification, sentiment analysis, and keyword-based analysis. \n",
      "\n",
      "Text preprocessing is a crucial step in text analytics that involves preparing the text data for analysis. This can include processes like tokenization and stemming.\n",
      "\n",
      "Topic identification involves determining the main themes present in a text document.\n",
      "\n",
      "Sentiment analysis is used to identify and extract subjective information in source materials. It helps determine the overall sentiment expressed in the text, such as positive, negative, or neutral.\n",
      "\n",
      "Keyword-based analysis involves identifying the most relevant words in a text. These keywords can give a quick understanding of the content without reading the entire text.\n",
      "\n",
      "For more information, see: Module 5: Lecture Slides, Module 5: Transcript, Module 5: Tutorial.\n",
      "  - expected output: The basic techniques in text analytics covered are Text Preprocessing, Text Vectorization, and Sentiment Analysis.\n",
      "  - context: None\n",
      "  - retrieval context: [\"Primer on Business Analytics with Python\\nModule 5: Basic Text Analytics\\nIntroduction\\n\\n- Text analytics deals with deriving meaningful information from textual data.\\x0b- In business, text analytics can be used for customer sentiment analysis, keyword extraction, and more.\\nLearning Objectives\\n\\n- Learn basic techniques for text analytics.\\x0b- Understand how to apply text analytics in a business context.\\nBasic Techniques in Text Analytics\\n\\n- Text Preprocessing: Tokenization, stemming, etc.\\x0b- Text Vectorization: Count vectorization, TF-IDF.\\x0b- Sentiment Analysis: Determining the sentiment expressed in text.\\nApplications in Business\\n\\n- Customer Feedback Analysis: Understanding customer sentiments.\\x0b- Keyword Extraction: Identifying important topics in customer reviews.\\x0b- Chatbot Training: Training intelligent chatbots to handle customer queries.\\nSummary\\n\\n- We covered basic techniques in text analytics and their applications in business.\\x0b- Tools like Python's NLTK and scikit-learn can be used for text analytics.\\nFocus Areas in Text Analytics\\n\\n- Topic Identification: Understanding the main topics in a text.\\x0b- Sentiment Analysis: Determining the sentiment expressed in text.\\x0b- Keyword-based Analysis: Identifying important keywords for sentiment analysis.\\nAdvanced Techniques (Outside Scope)\\n\\n- Named Entity Recognition (NER): Identifying entities like names, locations, etc.\\x0b- Text Summarization: Generating a summary of large texts.\\x0b- These techniques are mentioned for awareness but are outside the course scope.\"]\n",
      "\n",
      "======================================================================\n",
      "\n",
      "Metrics Summary\n",
      "\n",
      "  - ✅ Answer Relevancy (score: 0.75, threshold: 0.5, strict: False, evaluation model: gpt-4o, reason: The score is 0.75 because the explanation provides a good example of using linear regression in business analytics, but the additional statement about 'Module 2: Lecture Slides' is not directly relevant to the question., error: None)\n",
      "  - ✅ Faithfulness (score: 1.0, threshold: 0.7, strict: False, evaluation model: gpt-4, reason: The score is 1.00 because there are no contradictions between the actual output and the retrieval context., error: None)\n",
      "  - ✅ Contextual Relevancy (score: 1.0, threshold: 0.7, strict: False, evaluation model: gpt-4, reason: The score is 1.00 because the retrieval context perfectly matches the input, providing relevant information without any detected irrelevancies., error: None)\n",
      "\n",
      "For test case:\n",
      "\n",
      "  - input: What is the business example of using linear regression in the context of business analytics?\n",
      "\n",
      "  - actual output: In the context of business analytics, linear regression can be used to predict sales based on advertising spend. This is a common business example where the relationship between the amount of money spent on advertising (independent variable) and the resulting sales (dependent variable) is analyzed. By creating a linear regression model, businesses can predict how changes in advertising spend might impact sales, which can inform budgeting and marketing strategy decisions.\n",
      "\n",
      "For more information, see: Module 2: Lecture Slides.\n",
      "  - expected output: Predicting sales based on advertising spend.\n",
      "  - context: None\n",
      "  - retrieval context: ['Primer on Business Analytics \\nwith Python\\nModule 2: Basic Statistical Tests and \\nRegression Analysis\\nIntroduction\\n- Statistical tests and regression analysis are vital tools in data science.\\n- They are key in hypothesis testing, understanding relationships, and making prediction\\n- This module will cover basic statistical tests like t-test, ANOVA, and introduce regressio\\nLearning Objectives\\n- Understand the basics of hypothesis testing.\\n- Learn how to perform a t-test and ANOVA in Python.\\n- Get introduced to linear regression and understand its applications.\\nHypothesis Testing\\n- Hypothesis testing is a method for testing a claim or hypothesis about a parameter in a\\n- Null hypothesis (H0) vs Alternative hypothesis (Ha).\\n- Examples in business context: A/B testing, customer satisfaction analysis.\\nt-test\\n- A t-test compares the means of two groups.\\n- Used to determine if the means of two sets of data are significantly different from each\\n- Business example: Comparing the average sales before and after a marketing campaign\\nANOVA (Analysis of Variance)\\n- ANOVA tests the hypothesis that the means of two or more populations are equal.\\n- Applications include comparing the performance of different products or marketing str\\n- Business example: Assessing the impact of different discounts on sales.\\nRegression Analysis\\n- Regression analysis estimates the relationship between variables.\\n- Linear regression is the most simple and commonly used type of regression.\\n- Business example: Predicting sales based on advertising spend.\\nSummary\\n- Covered the basics of hypothesis testing, t-tests, ANOVA, and regression analysis.\\n- These statistical methods are fundamental in making data-driven business decisions.']\n",
      "\n",
      "======================================================================\n",
      "\n",
      "Metrics Summary\n",
      "\n",
      "  - ✅ Answer Relevancy (score: 0.8, threshold: 0.5, strict: False, evaluation model: gpt-4o, reason: The score is 0.80 because the answer addresses the three tasks in the online exam for the Business Analytics with Python course, but includes an additional reference that is not directly relevant to the question., error: None)\n",
      "  - ✅ Faithfulness (score: 0.875, threshold: 0.7, strict: False, evaluation model: gpt-4, reason: The score is 0.88 because the actual output incorrectly states that additional details about the online exam can be found in Module 6: Transcript - Exam Information, even though the retrieval context does not mention this., error: None)\n",
      "  - ✅ Contextual Relevancy (score: 1.0, threshold: 0.7, strict: False, evaluation model: gpt-4, reason: The score is 1.00 because the retrieval context perfectly matched the input, with no reasons for irrelevancy provided., error: None)\n",
      "\n",
      "For test case:\n",
      "\n",
      "  - input: What are the three tasks in the online exam for the Business Analytics with Python course?\n",
      "\n",
      "  - actual output: The online exam for the Business Analytics with Python course consists of three main tasks:\n",
      "\n",
      "1. Code Interpretation: In this task, you will be given a piece of code and you will need to explain what it does.\n",
      "\n",
      "2. Essay-style Question: This task requires you to apply what you've learned in this course to a hypothetical business scenario.\n",
      "\n",
      "3. Coding Assignment: In this task, you will need to write some code to solve a particular problem.\n",
      "\n",
      "For more information, see: Module 6: Transcript - Exam Information.\n",
      "  - expected output: The three tasks in the online exam are Code Interpretation, Essay-style Question, and Coding Assignment.\n",
      "  - context: None\n",
      "  - retrieval context: ['Primer on Business Analytics with Python\\nModule 6: Summary and Course Conclusion\\nIntroduction\\nIn this final module, we will review the key concepts covered in this course and discuss the upcoming exam.\\nMain Concepts - Overview\\n- Basic Data Manipulation and Descriptive Statistics\\n- Basic Statistical Tests and Regression Analysis\\n- Causal Inference\\n- Supervised Machine Learning\\n- Basic Text Analytics\\nMain Concepts - Key Takeaways\\n- Importance of data-driven decision-making in business\\n- Various statistical and machine learning techniques for analyzing data\\n- Real-world business applications for each technique\\nExam Information\\n- Online Exam\\n- Duration: 2 hours\\n- Three tasks:\\n  1. Code Interpretation\\n  2. Essay-style Question\\n  3. Coding Assignment\\nFinal Thoughts\\nThank you for participating in this course. Good luck on your exam and future endeavors in business analytics!']\n",
      "\n",
      "======================================================================\n",
      "\n",
      "Metrics Summary\n",
      "\n",
      "  - ✅ Answer Relevancy (score: 0.5, threshold: 0.5, strict: False, evaluation model: gpt-4o, reason: The score is 0.50 because the output includes relevant information about supervised machine learning algorithms, but also contains several irrelevant examples and references that do not directly answer the question., error: None)\n",
      "  - ✅ Faithfulness (score: 1.0, threshold: 0.7, strict: False, evaluation model: gpt-4, reason: The score is 1.00 because there are no contradictions between the actual output and the retrieval context. Great job!, error: None)\n",
      "  - ✅ Contextual Relevancy (score: 1.0, threshold: 0.7, strict: False, evaluation model: gpt-4, reason: The score is 1.00 because the retrieval context is perfectly aligned with the input. Great job!, error: None)\n",
      "\n",
      "For test case:\n",
      "\n",
      "  - input: What are some common algorithms used in supervised machine learning?\n",
      "\n",
      "  - actual output: In supervised machine learning, some of the common algorithms that we have covered in this course include:\n",
      "\n",
      "1. Linear Regression: This is used for predicting continuous outcomes. For example, it can be used to predict the sales of a company based on historical data.\n",
      "\n",
      "2. Logistic Regression: This is used for binary classification tasks. For example, it can be used to predict whether a customer will churn or not.\n",
      "\n",
      "3. Decision Trees and Random Forests: These are used for complex classification tasks. For example, Random Forests can be used for fraud detection in a business context.\n",
      "\n",
      "For more information, see: Module 4: Lecture Slides.\n",
      "  - expected output: Some common algorithms used in supervised machine learning are Linear Regression for continuous outcomes, Logistic Regression for binary classification, and Decision Trees and Random Forests for complex classifications.\n",
      "  - context: None\n",
      "  - retrieval context: ['Primer on Business Analytics with Python\\nModule 4: Supervised Machine Learning for Prediction and Classification\\nIntroduction\\n\\n- Supervised machine learning is a powerful tool for prediction and classification.\\x0b- This module will explore commonly used algorithms and their applications in business.\\x0b- Business applications include customer segmentation, fraud detection, and sales forecasting.\\nLearning Objectives\\n\\n- Understand the basics of supervised machine learning.\\x0b- Learn how to use Python libraries for implementing machine learning algorithms.\\nBasics of Supervised Machine Learning\\n\\n- Supervised learning involves training a model on labeled data.\\x0b- The goal is to make predictions or decisions based on new, unseen data.\\x0b- Business example: Predicting customer churn based on historical data.\\nCommon Algorithms\\n\\n- Linear Regression for continuous outcomes\\x0b- Logistic Regression for binary classification\\x0b- Decision Trees and Random Forests for complex classifications\\x0b- Business example: Using Random Forests for fraud detection.\\nSummary\\n\\n- We covered the basics of supervised machine learning and its business applications.\\x0b- Python libraries like scikit-learn make it easy to implement these algorithms.\\nBasic Classification of Machine Learning Types\\n\\n- Supervised Learning: Labelled data, prediction or classification tasks.\\x0b- Unsupervised Learning: Unlabelled data, clustering or association tasks.\\x0b- Reinforcement Learning: Decision-making tasks, learn from rewards.\\nDifference Between Classification and Prediction\\n\\n- Prediction: Estimating continuous values. E.g., sales forecasting.\\x0b- Classification: Assigning data points to discrete classes. E.g., spam or not spam.\\nModel Evaluation - Training and Test Sets\\n\\n- Split data into training and test sets for unbiased evaluation.\\x0b- Train the model on the training set and evaluate it on the test set.\\nModel Evaluation - Confusion Matrix']\n",
      "\n",
      "======================================================================\n",
      "\n",
      "Metrics Summary\n",
      "\n",
      "  - ✅ Answer Relevancy (score: 1.0, threshold: 0.5, strict: False, evaluation model: gpt-4o, reason: The score is 1.00 because the answer is perfectly relevant and directly addresses the purpose of a t-test in business analytics. Great job!, error: None)\n",
      "  - ✅ Faithfulness (score: 1.0, threshold: 0.7, strict: False, evaluation model: gpt-4, reason: The score is 1.00 because there are no contradictions between the actual output and the retrieval context., error: None)\n",
      "  - ✅ Contextual Relevancy (score: 1.0, threshold: 0.7, strict: False, evaluation model: gpt-4, reason: The score is 1.00 because the retrieval context perfectly matched the input, with no reasons for irrelevancy., error: None)\n",
      "\n",
      "For test case:\n",
      "\n",
      "  - input: What is the purpose of a t-test in business analytics?\n",
      "\n",
      "  - actual output: A t-test in business analytics is used to determine if there is a significant difference between the means of two groups. This can be particularly useful in business decision-making. For example, a company might want to know if there is a significant difference in sales between two different marketing strategies. By conducting a t-test, they can determine if the difference in sales is statistically significant or if it could have occurred by chance. \n",
      "\n",
      "For more information, see: Module 6: Transcript, where we discussed how statistical tests like t-tests can help us in making informed business decisions.\n",
      "  - expected output: A t-test allows us to compare the means of two groups to see if they are statistically different. This can help understand if a marketing campaign was more effective in one region compared to another.\n",
      "  - context: None\n",
      "  - retrieval context: [\"[Slide 1: Title Slide]\\nHello again, everyone! Welcome back to our course on Business Analytics with Python. Today, we're moving on to Module 2. We'll be focusing on basic statistical tests, like the t-test and ANOVA, as well as regression analysis. So, let's dive right in and continue building on the foundation we laid in the last module.\\n\\n[Slide 2: Introduction]\\nBefore we jump into the details, let's discuss why statistical tests are important. In the world of business, we often have hypotheses or theories that we want to test. For example, is there a significant difference in sales between two different regions? Statistical tests help us answer questions like these with confidence.\\n\\n[Slide 3: What is a t-test?]\\nSo, what exactly is a t-test? In simple terms, a t-test allows us to compare the means of two groups to see if they are statistically different. This is incredibly useful in business. For example, it can help us understand if a marketing campaign was more effective in one region compared to another.\\n\\n[Slide 4: ANOVA]\\nNow, let's talk about ANOVA, which stands for Analysis of Variance. ANOVA is used when you want to compare the means of more than two groups. It's like an extended version of the t-test and is particularly useful in product testing scenarios.\\n\\n[Slide 5: Regression Analysis]\\nLast but not least, we'll discuss regression analysis. This allows us to understand the relationship between variables. For example, how does the price of a product affect its sales? Regression analysis can give us valuable insights into these kinds of relationships.\\n\\n[Slide 16: Summary]\\nIn summary, we've covered a lot today—t-tests, ANOVA, and regression analysis. These are powerful tools that can help you make informed business decisions based on data.\\n\\n[Slide 17: Q&A]\\nWe've come to the end of today's session. I hope you're leaving with a deeper understanding of statistical tests and their applications in business. If you have any questions, now's the time to ask.\"]\n",
      "\n",
      "======================================================================\n",
      "\n",
      "Metrics Summary\n",
      "\n",
      "  - ✅ Answer Relevancy (score: 0.9090909090909091, threshold: 0.5, strict: False, evaluation model: gpt-4o, reason: The score is 0.91 because the response effectively addresses the main concepts covered in the course. However, it includes an irrelevant statement providing additional references that slightly detracts from the direct answer., error: None)\n",
      "  - ✅ Faithfulness (score: 0.8, threshold: 0.7, strict: False, evaluation model: gpt-4, reason: The score is 0.80 because the actual output incorrectly asserts that the 'Business Analytics with Python' course covers the concept of Causal Inference, Supervised Machine Learning, and Basic Text Analytics. These specifics are not confirmed by the retrieval context., error: None)\n",
      "  - ✅ Contextual Relevancy (score: 1.0, threshold: 0.7, strict: False, evaluation model: gpt-4, reason: The score is 1.00 because the retrieval context perfectly aligns with the input, covering all main concepts of Business Analytics with Python course., error: None)\n",
      "\n",
      "For test case:\n",
      "\n",
      "  - input: What are the main concepts covered in the Business Analytics with Python course?\n",
      "\n",
      "  - actual output: The main concepts covered in the Business Analytics with Python course are:\n",
      "\n",
      "1. Basic Data Manipulation and Descriptive Statistics: This involves learning how to handle and manipulate data using Python, as well as how to describe and summarize data using various statistical measures.\n",
      "\n",
      "2. Basic Statistical Tests and Regression Analysis: This involves learning how to conduct basic statistical tests to make inferences about the data, and how to use regression analysis to understand relationships between variables.\n",
      "\n",
      "3. Causal Inference: This involves learning how to infer causality from data, which is crucial for making effective business decisions.\n",
      "\n",
      "4. Supervised Machine Learning: This involves learning how to use machine learning techniques to make predictions based on data.\n",
      "\n",
      "5. Basic Text Analytics: This involves learning how to analyze text data, which is becoming increasingly important in the era of big data.\n",
      "\n",
      "For more information, see: Module 6: Lecture Slides.\n",
      "  - expected output: The main concepts covered in the course are basic data manipulation and descriptive statistics, basic statistical tests and regression analysis, causal inference, supervised machine learning, and basic text analytics.\n",
      "  - context: None\n",
      "  - retrieval context: [\"# Primer on Business Analytics with Python\\n## Module 6: Summary and Course Conclusion\\n### Transcript for Imagined Lecture\\n\\nHello everyone, and welcome to our final session in this course on Business Analytics with Python. It's been an incredible journey, and I'm thrilled to have had the chance to explore these fascinating topics with all of you.\\n\\n### Introduction\\nSo, what's on the agenda for today? We will revisit the central themes and key concepts that we have covered over the past modules. Our goal is to consolidate our learning and prepare ourselves for the upcoming exam. This is a crucial step in ensuring that we can apply our newly acquired skills in a business context.\\n\\n### Main Concepts - Overview\\nLet's begin by taking a walk down memory lane. Do you remember our first module? We started with basic data manipulation and descriptive statistics. We learned how to clean, process, and summarize data, which is the foundation for any analytics project. Then, we moved on to statistical tests like t-tests and ANOVA, followed by regression analysis. We discussed how these tests can help us in making informed business decisions.\\n\\n### Main Concepts - Key Takeaways\\nBut what's the big picture here? Why did we learn all these techniques? Well, the reason is simple but profound. In today's competitive business environment, data-driven decision-making is not just an advantage; it's a necessity. The techniques you've learned in this course will enable you to analyze various types of data and generate insights that can inform and guide business strategies.\"]\n",
      "\n",
      "======================================================================\n",
      "\n",
      "Metrics Summary\n",
      "\n",
      "  - ✅ Answer Relevancy (score: 0.75, threshold: 0.5, strict: False, evaluation model: gpt-4o, reason: The score is 0.75 because the output provides useful information but includes a statement about where more information can be found, which doesn’t directly address what the speaker is excited to continue in the next module., error: None)\n",
      "  - ✅ Faithfulness (score: 1.0, threshold: 0.7, strict: False, evaluation model: gpt-4, reason: The score is 1.00 because there are no contradictions between the actual output and the retrieval context. Great job!, error: None)\n",
      "  - ✅ Contextual Relevancy (score: 1.0, threshold: 0.7, strict: False, evaluation model: gpt-4, reason: The score is 1.00 because the input is perfectly relevant and there are no provided reasons for irrelevancy., error: None)\n",
      "\n",
      "For test case:\n",
      "\n",
      "  - input: What is the speaker excited to continue in the next module?\n",
      "\n",
      "  - actual output: The speaker is excited to continue with the course on Business Analytics with Python. In the next module, they will be focusing on basic statistical tests, such as the t-test and ANOVA, as well as regression analysis. These are key concepts in business analytics and the speaker is eager to build on the foundation laid in the previous module.\n",
      "\n",
      "For more information, see: Module 2 Transcript.\n",
      "  - expected output: The speaker is excited to continue the learning journey.\n",
      "  - context: None\n",
      "  - retrieval context: [\"Thank you for your participation, and I'm excited to continue this learning journey with you in the next module!\"]\n",
      "\n",
      "======================================================================\n",
      "\n",
      "Metrics Summary\n",
      "\n",
      "  - ✅ Answer Relevancy (score: 0.75, threshold: 0.5, strict: False, evaluation model: gpt-4o, reason: The score is 0.75 because the response provides relevant information about the tool used for data manipulation and analysis in business analytics, but it includes an irrelevant reference to course materials that does not directly address the question., error: None)\n",
      "  - ✅ Faithfulness (score: 1.0, threshold: 0.7, strict: False, evaluation model: gpt-4, reason: The score is 1.00 because there are no contradictions between the actual output and the retrieval context. Great job!, error: None)\n",
      "  - ✅ Contextual Relevancy (score: 1.0, threshold: 0.7, strict: False, evaluation model: gpt-4, reason: The score is 1.00 because the retrieval context perfectly matches the input query, without any irrelevant information., error: None)\n",
      "\n",
      "For test case:\n",
      "\n",
      "  - input: What is the go-to tool for data manipulation and analysis in business analytics?\n",
      "\n",
      "  - actual output: The go-to tool for data manipulation and analysis in business analytics, as covered in our course, is Python. Python is a versatile programming language that is particularly well-suited for data analysis tasks. In this course, we specifically focus on using Python's pandas library for data manipulation.\n",
      "\n",
      "For more information, see: Module 1: Transcript [Slide 2: Introduction] and Module 1: Lecture Slides.\n",
      "  - expected output: The go-to tool for data manipulation and analysis in business analytics is Python.\n",
      "  - context: None\n",
      "  - retrieval context: [\"[Slide 1: Title Slide]\\nHello, everyone! Welcome to this course on Business Analytics with Python. Today, we're diving into Module 1, where we'll cover basic data manipulation and descriptive statistics. Are you ready to begin this exciting journey into the world of data analytics? Great! Grab your coffee or tea, and let's get started.\\n\\n[Slide 2: Introduction]\\nBefore we delve into the nitty-gritty of data analysis, let's take a moment to discuss why we're all here. Business Analytics isn't just a buzzword; it's a crucial skill set that enables us to make informed decisions based on data. In the business world, data drives everything from sales forecasts and customer segmentation to inventory management and beyond. So, what's our go-to tool for data manipulation and analysis? That's right, it's Python—a versatile programming language that's perfect for data analysis.\\n\\n[Slide 3: Why Python?]\\nYou might wonder, why Python? Well, Python is known for its simplicity and readability, not to mention a wide array of libraries for data manipulation, like Pandas and NumPy. This makes it a go-to language for analysts and data scientists alike.\\n\\n[Slide 4: Data Structures]\\nLet's start by understanding the basic data structures in Python. We have lists, dictionaries, and tuples. Knowing how to use these effectively is like knowing your ABCs before you start to read.\\n\\n[Slide 5: Pandas Library]\\nNow, meet Pandas, Python's data manipulation library. With Pandas, you can do everything from data cleaning to data transformation, and it works seamlessly with other Python libraries.\\n\\n[Slide 16: Summary]\\nSo, to wrap things up, what have we covered today? Quite a bit, actually! We've gone through basic data structures, delved deep into data manipulation using Pandas, explored descriptive statistics, and even created a bar chart. You're well on your way to becoming a data-savvy business analyst.\"]\n",
      "\n",
      "======================================================================\n",
      "\n",
      "Metrics Summary\n",
      "\n",
      "  - ✅ Answer Relevancy (score: 0.8888888888888888, threshold: 0.5, strict: False, evaluation model: gpt-4o, reason: The score is 0.89 because the answer is mostly relevant and accurately describes what a confusion matrix is, but the reference to additional resources is not directly related to explaining the concept., error: None)\n",
      "  - ✅ Faithfulness (score: 1.0, threshold: 0.7, strict: False, evaluation model: gpt-4, reason: The score is 1.00 because there are no contradictions present. The actual output aligns perfectly with the information given in the retrieval context., error: None)\n",
      "  - ✅ Contextual Relevancy (score: 1.0, threshold: 0.7, strict: False, evaluation model: gpt-4, reason: The score is 1.00 because the retrieval context perfectly aligns with the input about confusion matrix in model evaluation. Great job!, error: None)\n",
      "\n",
      "For test case:\n",
      "\n",
      "  - input: What is a confusion matrix in model evaluation?\n",
      "\n",
      "  - actual output: A confusion matrix is a table that describes the performance of a classification model. It shows the True Positives (TP), True Negatives (TN), False Positives (FP), and False Negatives (FN). \n",
      "\n",
      "- True Positives (TP): These are cases in which we predicted yes (they have the condition), and they do have the condition.\n",
      "- True Negatives (TN): We predicted no, and they don't have the condition.\n",
      "- False Positives (FP): We predicted yes, but they don't actually have the condition. (Also known as a \"Type I error.\")\n",
      "- False Negatives (FN): We predicted no, but they actually do have the condition. (Also known as a \"Type II error.\")\n",
      "\n",
      "For more information, see: Module 4: Lecture Slides and Module 4: Tutorial.\n",
      "  - expected output: A confusion matrix is a table that describes the performance of a classification model, including True Positives, True Negatives, False Positives, and False Negatives.\n",
      "  - context: None\n",
      "  - retrieval context: ['- Split data into training and test sets for unbiased evaluation.\\x0b- Train the model on the training set and evaluate it on the test set.\\nModel Evaluation - Confusion Matrix\\n\\n- A table that describes the performance of a classification model.\\x0b- True Positives, True Negatives, False Positives, False Negatives.\\nModel Evaluation - Metrics for Regression\\n\\n- Mean Absolute Error (MAE): Average of absolute differences between predicted and actual values.\\x0b- Root Mean Square Error (RMSE): Square root of the average of squared differences between predicted and actual values.\\x0b- Coefficient of Determination (R^2): Proportion of variance in the dependent variable that is predictable from the independent variables.']\n",
      "\n",
      "======================================================================\n",
      "\n",
      "Overall Metric Pass Rates\n",
      "\n",
      "Answer Relevancy: 100.00% pass rate\n",
      "Faithfulness: 90.00% pass rate\n",
      "Contextual Relevancy: 100.00% pass rate\n",
      "\n",
      "======================================================================\n",
      "\n"
     ]
    },
    {
     "data": {
      "text/html": [
       "<pre style=\"white-space:pre;overflow-x:auto;line-height:normal;font-family:Menlo,'DejaVu Sans Mono',consolas,'Courier New',monospace\">✅ Tests finished! Run <span style=\"color: #008000; text-decoration-color: #008000\">\"deepeval login\"</span> to view evaluation results on the web.\n",
       "</pre>\n"
      ],
      "text/plain": [
       "✅ Tests finished! Run \u001b[32m\"deepeval login\"\u001b[0m to view evaluation results on the web.\n"
      ]
     },
     "metadata": {},
     "output_type": "display_data"
    },
    {
     "name": "stdout",
     "output_type": "stream",
     "text": [
      "--------------------------------------------------------------------------------\n",
      "Completed Evaluation\n",
      "Creating Test Cases...\n",
      "--------------------------------------------------------------------------------\n",
      "load INSTRUCTOR_Transformer\n",
      "max_seq_length  512\n",
      "Prompt tokens: 427\n",
      "Completion tokens: 63\n",
      "Total tokens: 490\n",
      "Prompt tokens: 956\n",
      "Completion tokens: 85\n",
      "Total tokens: 1041\n",
      "Prompt tokens: 591\n",
      "Completion tokens: 119\n",
      "Total tokens: 710\n",
      "Prompt tokens: 969\n",
      "Completion tokens: 50\n",
      "Total tokens: 1019\n",
      "Prompt tokens: 964\n",
      "Completion tokens: 98\n",
      "Total tokens: 1062\n",
      "Prompt tokens: 589\n",
      "Completion tokens: 50\n",
      "Total tokens: 639\n",
      "Prompt tokens: 955\n",
      "Completion tokens: 230\n",
      "Total tokens: 1185\n",
      "Prompt tokens: 420\n",
      "Completion tokens: 38\n",
      "Total tokens: 458\n",
      "Prompt tokens: 545\n",
      "Completion tokens: 54\n",
      "Total tokens: 599\n"
     ]
    },
    {
     "data": {
      "application/vnd.jupyter.widget-view+json": {
       "model_id": "7ddfb4cb2d3b40848540c7d6d595f442",
       "version_major": 2,
       "version_minor": 0
      },
      "text/plain": [
       "Output()"
      ]
     },
     "metadata": {},
     "output_type": "display_data"
    },
    {
     "name": "stdout",
     "output_type": "stream",
     "text": [
      "Prompt tokens: 562\n",
      "Completion tokens: 183\n",
      "Total tokens: 745\n",
      "Evaluating Test Cases...\n",
      "--------------------------------------------------------------------------------\n",
      "Evaluating test cases...\n",
      "Event loop is already running. Applying nest_asyncio patch to allow async execution...\n"
     ]
    },
    {
     "name": "stderr",
     "output_type": "stream",
     "text": [
      "I0000 00:00:1723203262.522064 28273155 work_stealing_thread_pool.cc:320] WorkStealingThreadPoolImpl::PrepareFork\n",
      "I0000 00:00:1723203262.547471 28273155 work_stealing_thread_pool.cc:320] WorkStealingThreadPoolImpl::PrepareFork\n",
      "I0000 00:00:1723203262.569133 28273155 work_stealing_thread_pool.cc:320] WorkStealingThreadPoolImpl::PrepareFork\n",
      "I0000 00:00:1723203262.587763 28273155 work_stealing_thread_pool.cc:320] WorkStealingThreadPoolImpl::PrepareFork\n"
     ]
    },
    {
     "name": "stderr",
     "output_type": "stream",
     "text": [
      "I0000 00:00:1723203263.753883 28273155 work_stealing_thread_pool.cc:320] WorkStealingThreadPoolImpl::PrepareFork\n"
     ]
    },
    {
     "name": "stderr",
     "output_type": "stream",
     "text": [
      "I0000 00:00:1723203264.349003 28273155 work_stealing_thread_pool.cc:320] WorkStealingThreadPoolImpl::PrepareFork\n"
     ]
    },
    {
     "name": "stderr",
     "output_type": "stream",
     "text": [
      "I0000 00:00:1723203266.349957 28273155 work_stealing_thread_pool.cc:320] WorkStealingThreadPoolImpl::PrepareFork\n"
     ]
    },
    {
     "name": "stderr",
     "output_type": "stream",
     "text": [
      "I0000 00:00:1723203268.557039 28273155 work_stealing_thread_pool.cc:320] WorkStealingThreadPoolImpl::PrepareFork\n"
     ]
    },
    {
     "name": "stderr",
     "output_type": "stream",
     "text": [
      "I0000 00:00:1723203272.155511 28273155 work_stealing_thread_pool.cc:320] WorkStealingThreadPoolImpl::PrepareFork\n"
     ]
    },
    {
     "data": {
      "text/html": [
       "<pre style=\"white-space:pre;overflow-x:auto;line-height:normal;font-family:Menlo,'DejaVu Sans Mono',consolas,'Courier New',monospace\"></pre>\n"
      ],
      "text/plain": []
     },
     "metadata": {},
     "output_type": "display_data"
    },
    {
     "data": {
      "text/html": [
       "<pre style=\"white-space:pre;overflow-x:auto;line-height:normal;font-family:Menlo,'DejaVu Sans Mono',consolas,'Courier New',monospace\">\n",
       "</pre>\n"
      ],
      "text/plain": [
       "\n"
      ]
     },
     "metadata": {},
     "output_type": "display_data"
    },
    {
     "data": {
      "application/vnd.jupyter.widget-view+json": {
       "model_id": "8cf8e5ae4efe42b58a77e6918c9d94d2",
       "version_major": 2,
       "version_minor": 0
      },
      "text/plain": [
       "Output()"
      ]
     },
     "metadata": {},
     "output_type": "display_data"
    },
    {
     "name": "stderr",
     "output_type": "stream",
     "text": [
      "I0000 00:00:1723203273.765365 28273155 work_stealing_thread_pool.cc:320] WorkStealingThreadPoolImpl::PrepareFork\n",
      "I0000 00:00:1723203273.786765 28273155 work_stealing_thread_pool.cc:320] WorkStealingThreadPoolImpl::PrepareFork\n",
      "I0000 00:00:1723203273.803950 28273155 work_stealing_thread_pool.cc:320] WorkStealingThreadPoolImpl::PrepareFork\n",
      "I0000 00:00:1723203273.824523 28273155 work_stealing_thread_pool.cc:320] WorkStealingThreadPoolImpl::PrepareFork\n"
     ]
    },
    {
     "name": "stderr",
     "output_type": "stream",
     "text": [
      "I0000 00:00:1723203275.562056 28273155 work_stealing_thread_pool.cc:320] WorkStealingThreadPoolImpl::PrepareFork\n",
      "I0000 00:00:1723203275.738706 28273155 work_stealing_thread_pool.cc:320] WorkStealingThreadPoolImpl::PrepareFork\n"
     ]
    },
    {
     "name": "stderr",
     "output_type": "stream",
     "text": [
      "I0000 00:00:1723203278.756750 28273155 work_stealing_thread_pool.cc:320] WorkStealingThreadPoolImpl::PrepareFork\n"
     ]
    },
    {
     "name": "stderr",
     "output_type": "stream",
     "text": [
      "I0000 00:00:1723203288.415747 28273155 work_stealing_thread_pool.cc:320] WorkStealingThreadPoolImpl::PrepareFork\n"
     ]
    },
    {
     "name": "stderr",
     "output_type": "stream",
     "text": [
      "I0000 00:00:1723203293.812558 28273155 work_stealing_thread_pool.cc:320] WorkStealingThreadPoolImpl::PrepareFork\n"
     ]
    },
    {
     "data": {
      "text/html": [
       "<pre style=\"white-space:pre;overflow-x:auto;line-height:normal;font-family:Menlo,'DejaVu Sans Mono',consolas,'Courier New',monospace\"></pre>\n"
      ],
      "text/plain": []
     },
     "metadata": {},
     "output_type": "display_data"
    },
    {
     "data": {
      "text/html": [
       "<pre style=\"white-space:pre;overflow-x:auto;line-height:normal;font-family:Menlo,'DejaVu Sans Mono',consolas,'Courier New',monospace\">\n",
       "</pre>\n"
      ],
      "text/plain": [
       "\n"
      ]
     },
     "metadata": {},
     "output_type": "display_data"
    },
    {
     "data": {
      "application/vnd.jupyter.widget-view+json": {
       "model_id": "4881db500852422ca87c3af77c8e3f58",
       "version_major": 2,
       "version_minor": 0
      },
      "text/plain": [
       "Output()"
      ]
     },
     "metadata": {},
     "output_type": "display_data"
    },
    {
     "name": "stderr",
     "output_type": "stream",
     "text": [
      "I0000 00:00:1723203296.331334 28273155 work_stealing_thread_pool.cc:320] WorkStealingThreadPoolImpl::PrepareFork\n",
      "I0000 00:00:1723203296.357498 28273155 work_stealing_thread_pool.cc:320] WorkStealingThreadPoolImpl::PrepareFork\n",
      "I0000 00:00:1723203296.385293 28273155 work_stealing_thread_pool.cc:320] WorkStealingThreadPoolImpl::PrepareFork\n",
      "I0000 00:00:1723203296.397929 28273155 work_stealing_thread_pool.cc:320] WorkStealingThreadPoolImpl::PrepareFork\n"
     ]
    },
    {
     "name": "stderr",
     "output_type": "stream",
     "text": [
      "I0000 00:00:1723203297.486596 28273155 work_stealing_thread_pool.cc:320] WorkStealingThreadPoolImpl::PrepareFork\n"
     ]
    },
    {
     "name": "stderr",
     "output_type": "stream",
     "text": [
      "I0000 00:00:1723203298.459463 28273155 work_stealing_thread_pool.cc:320] WorkStealingThreadPoolImpl::PrepareFork\n"
     ]
    },
    {
     "name": "stderr",
     "output_type": "stream",
     "text": [
      "I0000 00:00:1723203300.968565 28273155 work_stealing_thread_pool.cc:320] WorkStealingThreadPoolImpl::PrepareFork\n"
     ]
    },
    {
     "name": "stderr",
     "output_type": "stream",
     "text": [
      "I0000 00:00:1723203314.470633 28273155 work_stealing_thread_pool.cc:320] WorkStealingThreadPoolImpl::PrepareFork\n"
     ]
    },
    {
     "name": "stderr",
     "output_type": "stream",
     "text": [
      "I0000 00:00:1723203319.436167 28273155 work_stealing_thread_pool.cc:320] WorkStealingThreadPoolImpl::PrepareFork\n"
     ]
    },
    {
     "data": {
      "text/html": [
       "<pre style=\"white-space:pre;overflow-x:auto;line-height:normal;font-family:Menlo,'DejaVu Sans Mono',consolas,'Courier New',monospace\"></pre>\n"
      ],
      "text/plain": []
     },
     "metadata": {},
     "output_type": "display_data"
    },
    {
     "data": {
      "text/html": [
       "<pre style=\"white-space:pre;overflow-x:auto;line-height:normal;font-family:Menlo,'DejaVu Sans Mono',consolas,'Courier New',monospace\">\n",
       "</pre>\n"
      ],
      "text/plain": [
       "\n"
      ]
     },
     "metadata": {},
     "output_type": "display_data"
    },
    {
     "data": {
      "application/vnd.jupyter.widget-view+json": {
       "model_id": "65604c44eba14e5b84450f8455fc4f35",
       "version_major": 2,
       "version_minor": 0
      },
      "text/plain": [
       "Output()"
      ]
     },
     "metadata": {},
     "output_type": "display_data"
    },
    {
     "name": "stderr",
     "output_type": "stream",
     "text": [
      "I0000 00:00:1723203321.102991 28273155 work_stealing_thread_pool.cc:320] WorkStealingThreadPoolImpl::PrepareFork\n",
      "I0000 00:00:1723203321.129738 28273155 work_stealing_thread_pool.cc:320] WorkStealingThreadPoolImpl::PrepareFork\n",
      "I0000 00:00:1723203321.144402 28273155 work_stealing_thread_pool.cc:320] WorkStealingThreadPoolImpl::PrepareFork\n",
      "I0000 00:00:1723203321.156675 28273155 work_stealing_thread_pool.cc:320] WorkStealingThreadPoolImpl::PrepareFork\n"
     ]
    },
    {
     "name": "stderr",
     "output_type": "stream",
     "text": [
      "I0000 00:00:1723203322.039386 28273155 work_stealing_thread_pool.cc:320] WorkStealingThreadPoolImpl::PrepareFork\n"
     ]
    },
    {
     "name": "stderr",
     "output_type": "stream",
     "text": [
      "I0000 00:00:1723203322.721693 28273155 work_stealing_thread_pool.cc:320] WorkStealingThreadPoolImpl::PrepareFork\n"
     ]
    },
    {
     "name": "stderr",
     "output_type": "stream",
     "text": [
      "I0000 00:00:1723203324.130685 28273155 work_stealing_thread_pool.cc:320] WorkStealingThreadPoolImpl::PrepareFork\n"
     ]
    },
    {
     "name": "stderr",
     "output_type": "stream",
     "text": [
      "I0000 00:00:1723203328.938577 28273155 work_stealing_thread_pool.cc:320] WorkStealingThreadPoolImpl::PrepareFork\n"
     ]
    },
    {
     "name": "stderr",
     "output_type": "stream",
     "text": [
      "I0000 00:00:1723203332.987731 28273155 work_stealing_thread_pool.cc:320] WorkStealingThreadPoolImpl::PrepareFork\n"
     ]
    },
    {
     "data": {
      "text/html": [
       "<pre style=\"white-space:pre;overflow-x:auto;line-height:normal;font-family:Menlo,'DejaVu Sans Mono',consolas,'Courier New',monospace\"></pre>\n"
      ],
      "text/plain": []
     },
     "metadata": {},
     "output_type": "display_data"
    },
    {
     "data": {
      "text/html": [
       "<pre style=\"white-space:pre;overflow-x:auto;line-height:normal;font-family:Menlo,'DejaVu Sans Mono',consolas,'Courier New',monospace\">\n",
       "</pre>\n"
      ],
      "text/plain": [
       "\n"
      ]
     },
     "metadata": {},
     "output_type": "display_data"
    },
    {
     "data": {
      "application/vnd.jupyter.widget-view+json": {
       "model_id": "b807f37d80684829a302b5fafcd8d960",
       "version_major": 2,
       "version_minor": 0
      },
      "text/plain": [
       "Output()"
      ]
     },
     "metadata": {},
     "output_type": "display_data"
    },
    {
     "name": "stderr",
     "output_type": "stream",
     "text": [
      "I0000 00:00:1723203336.593690 28273155 work_stealing_thread_pool.cc:320] WorkStealingThreadPoolImpl::PrepareFork\n",
      "I0000 00:00:1723203336.613938 28273155 work_stealing_thread_pool.cc:320] WorkStealingThreadPoolImpl::PrepareFork\n",
      "I0000 00:00:1723203336.631283 28273155 work_stealing_thread_pool.cc:320] WorkStealingThreadPoolImpl::PrepareFork\n",
      "I0000 00:00:1723203336.649273 28273155 work_stealing_thread_pool.cc:320] WorkStealingThreadPoolImpl::PrepareFork\n"
     ]
    },
    {
     "name": "stderr",
     "output_type": "stream",
     "text": [
      "I0000 00:00:1723203337.682294 28273155 work_stealing_thread_pool.cc:320] WorkStealingThreadPoolImpl::PrepareFork\n"
     ]
    },
    {
     "name": "stderr",
     "output_type": "stream",
     "text": [
      "I0000 00:00:1723203338.577472 28273155 work_stealing_thread_pool.cc:320] WorkStealingThreadPoolImpl::PrepareFork\n"
     ]
    },
    {
     "name": "stderr",
     "output_type": "stream",
     "text": [
      "I0000 00:00:1723203341.339982 28273155 work_stealing_thread_pool.cc:320] WorkStealingThreadPoolImpl::PrepareFork\n"
     ]
    },
    {
     "name": "stderr",
     "output_type": "stream",
     "text": [
      "I0000 00:00:1723203346.972524 28273155 work_stealing_thread_pool.cc:320] WorkStealingThreadPoolImpl::PrepareFork\n"
     ]
    },
    {
     "name": "stderr",
     "output_type": "stream",
     "text": [
      "I0000 00:00:1723203354.141881 28273155 work_stealing_thread_pool.cc:320] WorkStealingThreadPoolImpl::PrepareFork\n"
     ]
    },
    {
     "data": {
      "text/html": [
       "<pre style=\"white-space:pre;overflow-x:auto;line-height:normal;font-family:Menlo,'DejaVu Sans Mono',consolas,'Courier New',monospace\"></pre>\n"
      ],
      "text/plain": []
     },
     "metadata": {},
     "output_type": "display_data"
    },
    {
     "data": {
      "text/html": [
       "<pre style=\"white-space:pre;overflow-x:auto;line-height:normal;font-family:Menlo,'DejaVu Sans Mono',consolas,'Courier New',monospace\">\n",
       "</pre>\n"
      ],
      "text/plain": [
       "\n"
      ]
     },
     "metadata": {},
     "output_type": "display_data"
    },
    {
     "data": {
      "application/vnd.jupyter.widget-view+json": {
       "model_id": "5bab5b147a5d44ceba24e4b0ab7c40d3",
       "version_major": 2,
       "version_minor": 0
      },
      "text/plain": [
       "Output()"
      ]
     },
     "metadata": {},
     "output_type": "display_data"
    },
    {
     "name": "stderr",
     "output_type": "stream",
     "text": [
      "I0000 00:00:1723203358.226251 28273155 work_stealing_thread_pool.cc:320] WorkStealingThreadPoolImpl::PrepareFork\n",
      "I0000 00:00:1723203358.254593 28273155 work_stealing_thread_pool.cc:320] WorkStealingThreadPoolImpl::PrepareFork\n",
      "I0000 00:00:1723203358.274971 28273155 work_stealing_thread_pool.cc:320] WorkStealingThreadPoolImpl::PrepareFork\n",
      "I0000 00:00:1723203358.291631 28273155 work_stealing_thread_pool.cc:320] WorkStealingThreadPoolImpl::PrepareFork\n"
     ]
    },
    {
     "name": "stderr",
     "output_type": "stream",
     "text": [
      "I0000 00:00:1723203359.375231 28273155 work_stealing_thread_pool.cc:320] WorkStealingThreadPoolImpl::PrepareFork\n"
     ]
    },
    {
     "name": "stderr",
     "output_type": "stream",
     "text": [
      "I0000 00:00:1723203359.835426 28273155 work_stealing_thread_pool.cc:320] WorkStealingThreadPoolImpl::PrepareFork\n"
     ]
    },
    {
     "name": "stderr",
     "output_type": "stream",
     "text": [
      "I0000 00:00:1723203369.516084 28273155 work_stealing_thread_pool.cc:320] WorkStealingThreadPoolImpl::PrepareFork\n"
     ]
    },
    {
     "name": "stderr",
     "output_type": "stream",
     "text": [
      "I0000 00:00:1723203373.765756 28273155 work_stealing_thread_pool.cc:320] WorkStealingThreadPoolImpl::PrepareFork\n"
     ]
    },
    {
     "data": {
      "text/html": [
       "<pre style=\"white-space:pre;overflow-x:auto;line-height:normal;font-family:Menlo,'DejaVu Sans Mono',consolas,'Courier New',monospace\"></pre>\n"
      ],
      "text/plain": []
     },
     "metadata": {},
     "output_type": "display_data"
    },
    {
     "data": {
      "text/html": [
       "<pre style=\"white-space:pre;overflow-x:auto;line-height:normal;font-family:Menlo,'DejaVu Sans Mono',consolas,'Courier New',monospace\">\n",
       "</pre>\n"
      ],
      "text/plain": [
       "\n"
      ]
     },
     "metadata": {},
     "output_type": "display_data"
    },
    {
     "data": {
      "application/vnd.jupyter.widget-view+json": {
       "model_id": "78e1223fe2fd4d6e9021e1a99d5eb001",
       "version_major": 2,
       "version_minor": 0
      },
      "text/plain": [
       "Output()"
      ]
     },
     "metadata": {},
     "output_type": "display_data"
    },
    {
     "name": "stderr",
     "output_type": "stream",
     "text": [
      "I0000 00:00:1723203377.050435 28273155 work_stealing_thread_pool.cc:320] WorkStealingThreadPoolImpl::PrepareFork\n",
      "I0000 00:00:1723203377.076979 28273155 work_stealing_thread_pool.cc:320] WorkStealingThreadPoolImpl::PrepareFork\n",
      "I0000 00:00:1723203377.097580 28273155 work_stealing_thread_pool.cc:320] WorkStealingThreadPoolImpl::PrepareFork\n",
      "I0000 00:00:1723203377.115807 28273155 work_stealing_thread_pool.cc:320] WorkStealingThreadPoolImpl::PrepareFork\n"
     ]
    },
    {
     "name": "stderr",
     "output_type": "stream",
     "text": [
      "I0000 00:00:1723203380.204363 28273155 work_stealing_thread_pool.cc:320] WorkStealingThreadPoolImpl::PrepareFork\n"
     ]
    },
    {
     "name": "stderr",
     "output_type": "stream",
     "text": [
      "I0000 00:00:1723203380.757393 28273155 work_stealing_thread_pool.cc:320] WorkStealingThreadPoolImpl::PrepareFork\n"
     ]
    },
    {
     "name": "stderr",
     "output_type": "stream",
     "text": [
      "I0000 00:00:1723203383.356015 28273155 work_stealing_thread_pool.cc:320] WorkStealingThreadPoolImpl::PrepareFork\n"
     ]
    },
    {
     "name": "stderr",
     "output_type": "stream",
     "text": [
      "I0000 00:00:1723203388.724784 28273155 work_stealing_thread_pool.cc:320] WorkStealingThreadPoolImpl::PrepareFork\n"
     ]
    },
    {
     "name": "stderr",
     "output_type": "stream",
     "text": [
      "I0000 00:00:1723203400.007204 28273155 work_stealing_thread_pool.cc:320] WorkStealingThreadPoolImpl::PrepareFork\n"
     ]
    },
    {
     "data": {
      "text/html": [
       "<pre style=\"white-space:pre;overflow-x:auto;line-height:normal;font-family:Menlo,'DejaVu Sans Mono',consolas,'Courier New',monospace\"></pre>\n"
      ],
      "text/plain": []
     },
     "metadata": {},
     "output_type": "display_data"
    },
    {
     "data": {
      "text/html": [
       "<pre style=\"white-space:pre;overflow-x:auto;line-height:normal;font-family:Menlo,'DejaVu Sans Mono',consolas,'Courier New',monospace\">\n",
       "</pre>\n"
      ],
      "text/plain": [
       "\n"
      ]
     },
     "metadata": {},
     "output_type": "display_data"
    },
    {
     "data": {
      "application/vnd.jupyter.widget-view+json": {
       "model_id": "5781833b8bff4c4eb76808e49bc90c65",
       "version_major": 2,
       "version_minor": 0
      },
      "text/plain": [
       "Output()"
      ]
     },
     "metadata": {},
     "output_type": "display_data"
    },
    {
     "name": "stderr",
     "output_type": "stream",
     "text": [
      "I0000 00:00:1723203401.930644 28273155 work_stealing_thread_pool.cc:320] WorkStealingThreadPoolImpl::PrepareFork\n",
      "I0000 00:00:1723203401.953045 28273155 work_stealing_thread_pool.cc:320] WorkStealingThreadPoolImpl::PrepareFork\n",
      "I0000 00:00:1723203401.972634 28273155 work_stealing_thread_pool.cc:320] WorkStealingThreadPoolImpl::PrepareFork\n",
      "I0000 00:00:1723203401.990932 28273155 work_stealing_thread_pool.cc:320] WorkStealingThreadPoolImpl::PrepareFork\n"
     ]
    },
    {
     "name": "stderr",
     "output_type": "stream",
     "text": [
      "I0000 00:00:1723203402.793035 28273155 work_stealing_thread_pool.cc:320] WorkStealingThreadPoolImpl::PrepareFork\n",
      "I0000 00:00:1723203402.990789 28273155 work_stealing_thread_pool.cc:320] WorkStealingThreadPoolImpl::PrepareFork\n"
     ]
    },
    {
     "name": "stderr",
     "output_type": "stream",
     "text": [
      "I0000 00:00:1723203404.680299 28273155 work_stealing_thread_pool.cc:320] WorkStealingThreadPoolImpl::PrepareFork\n"
     ]
    },
    {
     "name": "stderr",
     "output_type": "stream",
     "text": [
      "I0000 00:00:1723203405.586711 28273155 work_stealing_thread_pool.cc:320] WorkStealingThreadPoolImpl::PrepareFork\n"
     ]
    },
    {
     "name": "stderr",
     "output_type": "stream",
     "text": [
      "I0000 00:00:1723203406.830272 28273155 work_stealing_thread_pool.cc:320] WorkStealingThreadPoolImpl::PrepareFork\n"
     ]
    },
    {
     "data": {
      "text/html": [
       "<pre style=\"white-space:pre;overflow-x:auto;line-height:normal;font-family:Menlo,'DejaVu Sans Mono',consolas,'Courier New',monospace\"></pre>\n"
      ],
      "text/plain": []
     },
     "metadata": {},
     "output_type": "display_data"
    },
    {
     "data": {
      "text/html": [
       "<pre style=\"white-space:pre;overflow-x:auto;line-height:normal;font-family:Menlo,'DejaVu Sans Mono',consolas,'Courier New',monospace\">\n",
       "</pre>\n"
      ],
      "text/plain": [
       "\n"
      ]
     },
     "metadata": {},
     "output_type": "display_data"
    },
    {
     "data": {
      "application/vnd.jupyter.widget-view+json": {
       "model_id": "8c85d6afbfdc49448ec8489ce98da7e4",
       "version_major": 2,
       "version_minor": 0
      },
      "text/plain": [
       "Output()"
      ]
     },
     "metadata": {},
     "output_type": "display_data"
    },
    {
     "name": "stderr",
     "output_type": "stream",
     "text": [
      "I0000 00:00:1723203409.116497 28273155 work_stealing_thread_pool.cc:320] WorkStealingThreadPoolImpl::PrepareFork\n",
      "I0000 00:00:1723203409.137713 28273155 work_stealing_thread_pool.cc:320] WorkStealingThreadPoolImpl::PrepareFork\n",
      "I0000 00:00:1723203409.156074 28273155 work_stealing_thread_pool.cc:320] WorkStealingThreadPoolImpl::PrepareFork\n",
      "I0000 00:00:1723203409.172536 28273155 work_stealing_thread_pool.cc:320] WorkStealingThreadPoolImpl::PrepareFork\n"
     ]
    },
    {
     "name": "stderr",
     "output_type": "stream",
     "text": [
      "I0000 00:00:1723203410.155675 28273155 work_stealing_thread_pool.cc:320] WorkStealingThreadPoolImpl::PrepareFork\n"
     ]
    },
    {
     "name": "stderr",
     "output_type": "stream",
     "text": [
      "I0000 00:00:1723203410.435424 28273155 work_stealing_thread_pool.cc:320] WorkStealingThreadPoolImpl::PrepareFork\n"
     ]
    },
    {
     "name": "stderr",
     "output_type": "stream",
     "text": [
      "I0000 00:00:1723203412.739205 28273155 work_stealing_thread_pool.cc:320] WorkStealingThreadPoolImpl::PrepareFork\n"
     ]
    },
    {
     "name": "stderr",
     "output_type": "stream",
     "text": [
      "I0000 00:00:1723203416.802068 28273155 work_stealing_thread_pool.cc:320] WorkStealingThreadPoolImpl::PrepareFork\n"
     ]
    },
    {
     "name": "stderr",
     "output_type": "stream",
     "text": [
      "I0000 00:00:1723203420.797524 28273155 work_stealing_thread_pool.cc:320] WorkStealingThreadPoolImpl::PrepareFork\n"
     ]
    },
    {
     "data": {
      "text/html": [
       "<pre style=\"white-space:pre;overflow-x:auto;line-height:normal;font-family:Menlo,'DejaVu Sans Mono',consolas,'Courier New',monospace\"></pre>\n"
      ],
      "text/plain": []
     },
     "metadata": {},
     "output_type": "display_data"
    },
    {
     "data": {
      "text/html": [
       "<pre style=\"white-space:pre;overflow-x:auto;line-height:normal;font-family:Menlo,'DejaVu Sans Mono',consolas,'Courier New',monospace\">\n",
       "</pre>\n"
      ],
      "text/plain": [
       "\n"
      ]
     },
     "metadata": {},
     "output_type": "display_data"
    },
    {
     "data": {
      "application/vnd.jupyter.widget-view+json": {
       "model_id": "df3425b81bbf468b8f825da3454f5c9a",
       "version_major": 2,
       "version_minor": 0
      },
      "text/plain": [
       "Output()"
      ]
     },
     "metadata": {},
     "output_type": "display_data"
    },
    {
     "name": "stderr",
     "output_type": "stream",
     "text": [
      "I0000 00:00:1723203423.990457 28273155 work_stealing_thread_pool.cc:320] WorkStealingThreadPoolImpl::PrepareFork\n",
      "I0000 00:00:1723203424.014693 28273155 work_stealing_thread_pool.cc:320] WorkStealingThreadPoolImpl::PrepareFork\n",
      "I0000 00:00:1723203424.032431 28273155 work_stealing_thread_pool.cc:320] WorkStealingThreadPoolImpl::PrepareFork\n",
      "I0000 00:00:1723203424.050237 28273155 work_stealing_thread_pool.cc:320] WorkStealingThreadPoolImpl::PrepareFork\n"
     ]
    },
    {
     "name": "stderr",
     "output_type": "stream",
     "text": [
      "I0000 00:00:1723203425.524666 28273155 work_stealing_thread_pool.cc:320] WorkStealingThreadPoolImpl::PrepareFork\n"
     ]
    },
    {
     "name": "stderr",
     "output_type": "stream",
     "text": [
      "I0000 00:00:1723203428.550612 28273155 work_stealing_thread_pool.cc:320] WorkStealingThreadPoolImpl::PrepareFork\n"
     ]
    },
    {
     "name": "stderr",
     "output_type": "stream",
     "text": [
      "I0000 00:00:1723203431.172875 28273155 work_stealing_thread_pool.cc:320] WorkStealingThreadPoolImpl::PrepareFork\n"
     ]
    },
    {
     "name": "stderr",
     "output_type": "stream",
     "text": [
      "I0000 00:00:1723203432.394619 28273155 work_stealing_thread_pool.cc:320] WorkStealingThreadPoolImpl::PrepareFork\n"
     ]
    },
    {
     "name": "stderr",
     "output_type": "stream",
     "text": [
      "I0000 00:00:1723203440.346830 28273155 work_stealing_thread_pool.cc:320] WorkStealingThreadPoolImpl::PrepareFork\n"
     ]
    },
    {
     "data": {
      "text/html": [
       "<pre style=\"white-space:pre;overflow-x:auto;line-height:normal;font-family:Menlo,'DejaVu Sans Mono',consolas,'Courier New',monospace\"></pre>\n"
      ],
      "text/plain": []
     },
     "metadata": {},
     "output_type": "display_data"
    },
    {
     "data": {
      "text/html": [
       "<pre style=\"white-space:pre;overflow-x:auto;line-height:normal;font-family:Menlo,'DejaVu Sans Mono',consolas,'Courier New',monospace\">\n",
       "</pre>\n"
      ],
      "text/plain": [
       "\n"
      ]
     },
     "metadata": {},
     "output_type": "display_data"
    },
    {
     "name": "stdout",
     "output_type": "stream",
     "text": [
      "\n",
      "======================================================================\n",
      "\n",
      "Metrics Summary\n",
      "\n",
      "  - ✅ Answer Relevancy (score: 0.6666666666666666, threshold: 0.5, strict: False, evaluation model: gpt-4o, reason: The score is 0.67 because the output provides relevant information about the AI chatbot's purpose in the business analytics course, but includes an irrelevant statement about the syllabus., error: None)\n",
      "  - ✅ Faithfulness (score: 1.0, threshold: 0.7, strict: False, evaluation model: gpt-4, reason: The score is 1.00 because there are no contradictions between the retrieval context and the actual output., error: None)\n",
      "  - ✅ Contextual Relevancy (score: 1.0, threshold: 0.7, strict: False, evaluation model: gpt-4, reason: The score is 1.00 because the retrieval context perfectly matches the input, indicating high relevancy and accuracy., error: None)\n",
      "\n",
      "For test case:\n",
      "\n",
      "  - input: What is the purpose of the AI chatbot in the business analytics course?\n",
      "\n",
      "  - actual output: The AI chatbot in the business analytics course is designed to answer frequently asked questions and provide clarifications on course materials. It allows students to get instant support, which can be particularly useful for resolving queries outside of class hours or when immediate assistance is needed.\n",
      "\n",
      "For more information, see: General: Syllabus.\n",
      "  - expected output: The AI chatbot is designed to answer frequently asked questions and provide clarifications on course materials, allowing students to get instant support.\n",
      "  - context: None\n",
      "  - retrieval context: ['- **AI Chatbot**: An AI chatbot is available for student queries. This chatbot is designed to answer frequently asked questions and provide clarifications on course materials, allowing students to get instant support.\\n\\n- **Attendance**: Attendance is not compulsory but is encouraged. While all lectures are recorded, attending in-person offers the benefit of immediate clarification of doubts and interactive learning.\\n\\n- **Development Environment**: Students can use the provided Jupyter Notebook servers or their own development environment. This flexibility ensures that students can work in an environment they are comfortable with, further enhancing the learning experience.']\n",
      "\n",
      "======================================================================\n",
      "\n",
      "Metrics Summary\n",
      "\n",
      "  - ✅ Answer Relevancy (score: 1.0, threshold: 0.5, strict: False, evaluation model: gpt-4o, reason: The score is 1.00 because the output is perfectly relevant and addresses the question without any irrelevant statements. Great job!, error: None)\n",
      "  - ✅ Faithfulness (score: 0.75, threshold: 0.7, strict: False, evaluation model: gpt-4, reason: The score is 0.75 because while the retrieval context does provide specific details about the techniques for text analytics, the actual output contradicts this by incorrectly stating that such details are not included in the course materials for Module 5 on Basic Text Analytics., error: None)\n",
      "  - ✅ Contextual Relevancy (score: 1.0, threshold: 0.7, strict: False, evaluation model: gpt-4, reason: The score is 1.00 because there are no listed reasons for irrelevancy, indicating a perfect match between the input and the retrieval context. Keep up the great work!, error: None)\n",
      "\n",
      "For test case:\n",
      "\n",
      "  - input: What are the basic techniques in text analytics covered in Module 5 of the Business Analytics with Python course?\n",
      "\n",
      "  - actual output: I'm sorry for the confusion, but the course materials provided do not include specific details about the techniques covered in Module 5 on Basic Text Analytics. Therefore, I'm unable to provide a detailed answer to your question. I would recommend reviewing the lecture slides and transcripts for Module 5 to get a comprehensive understanding of the techniques covered. If you have any specific questions about the content in those materials, feel free to ask!\n",
      "  - expected output: The basic techniques in text analytics covered are Text Preprocessing, Text Vectorization, and Sentiment Analysis.\n",
      "  - context: None\n",
      "  - retrieval context: [\"Primer on Business Analytics with Python\\nModule 5: Basic Text Analytics\\nIntroduction\\n\\n- Text analytics deals with deriving meaningful information from textual data.\\x0b- In business, text analytics can be used for customer sentiment analysis, keyword extraction, and more.\\nLearning Objectives\\n\\n- Learn basic techniques for text analytics.\\x0b- Understand how to apply text analytics in a business context.\\nBasic Techniques in Text Analytics\\n\\n- Text Preprocessing: Tokenization, stemming, etc.\\x0b- Text Vectorization: Count vectorization, TF-IDF.\\x0b- Sentiment Analysis: Determining the sentiment expressed in text.\\nApplications in Business\\n\\n- Customer Feedback Analysis: Understanding customer sentiments.\\x0b- Keyword Extraction: Identifying important topics in customer reviews.\\x0b- Chatbot Training: Training intelligent chatbots to handle customer queries.\\nSummary\\n\\n- We covered basic techniques in text analytics and their applications in business.\\x0b- Tools like Python's NLTK and scikit-learn can be used for text analytics.\\nFocus Areas in Text Analytics\\n\\n- Topic Identification: Understanding the main topics in a text.\\x0b- Sentiment Analysis: Determining the sentiment expressed in text.\\x0b- Keyword-based Analysis: Identifying important keywords for sentiment analysis.\\nAdvanced Techniques (Outside Scope)\\n\\n- Named Entity Recognition (NER): Identifying entities like names, locations, etc.\\x0b- Text Summarization: Generating a summary of large texts.\\x0b- These techniques are mentioned for awareness but are outside the course scope.\"]\n",
      "\n",
      "======================================================================\n",
      "\n",
      "Metrics Summary\n",
      "\n",
      "  - ✅ Answer Relevancy (score: 0.8333333333333334, threshold: 0.5, strict: False, evaluation model: gpt-4o, reason: The score is 0.83 because the majority of the response is relevant and provides a clear business example of using linear regression in the context of business analytics. However, it includes an irrelevant reference to an external resource, which slightly detracts from its overall relevance., error: None)\n",
      "  - ✅ Faithfulness (score: 1.0, threshold: 0.7, strict: False, evaluation model: gpt-4, reason: The score is 1.00 because there are no contradictions present between the retrieval context and the actual output., error: None)\n",
      "  - ✅ Contextual Relevancy (score: 1.0, threshold: 0.7, strict: False, evaluation model: gpt-4, reason: The score is 1.00 because the retrieval context perfectly matched the input, with no irrelevant information identified., error: None)\n",
      "\n",
      "For test case:\n",
      "\n",
      "  - input: What is the business example of using linear regression in the context of business analytics?\n",
      "\n",
      "  - actual output: Linear regression can be used in various business contexts to understand the relationship between variables. For example, a business might want to understand how the price of a product affects its sales. By using linear regression, they can analyze historical sales data and the corresponding prices to determine if there is a significant relationship between the two. If the regression analysis shows a significant negative relationship, it suggests that as the price increases, sales decrease, and vice versa. This insight can help the business make informed decisions about pricing strategies.\n",
      "\n",
      "For more information, see: Module 2: Transcript, Slide 5: Regression Analysis.\n",
      "  - expected output: Predicting sales based on advertising spend.\n",
      "  - context: None\n",
      "  - retrieval context: ['Primer on Business Analytics \\nwith Python\\nModule 2: Basic Statistical Tests and \\nRegression Analysis\\nIntroduction\\n- Statistical tests and regression analysis are vital tools in data science.\\n- They are key in hypothesis testing, understanding relationships, and making prediction\\n- This module will cover basic statistical tests like t-test, ANOVA, and introduce regressio\\nLearning Objectives\\n- Understand the basics of hypothesis testing.\\n- Learn how to perform a t-test and ANOVA in Python.\\n- Get introduced to linear regression and understand its applications.\\nHypothesis Testing\\n- Hypothesis testing is a method for testing a claim or hypothesis about a parameter in a\\n- Null hypothesis (H0) vs Alternative hypothesis (Ha).\\n- Examples in business context: A/B testing, customer satisfaction analysis.\\nt-test\\n- A t-test compares the means of two groups.\\n- Used to determine if the means of two sets of data are significantly different from each\\n- Business example: Comparing the average sales before and after a marketing campaign\\nANOVA (Analysis of Variance)\\n- ANOVA tests the hypothesis that the means of two or more populations are equal.\\n- Applications include comparing the performance of different products or marketing str\\n- Business example: Assessing the impact of different discounts on sales.\\nRegression Analysis\\n- Regression analysis estimates the relationship between variables.\\n- Linear regression is the most simple and commonly used type of regression.\\n- Business example: Predicting sales based on advertising spend.\\nSummary\\n- Covered the basics of hypothesis testing, t-tests, ANOVA, and regression analysis.\\n- These statistical methods are fundamental in making data-driven business decisions.']\n",
      "\n",
      "======================================================================\n",
      "\n",
      "Metrics Summary\n",
      "\n",
      "  - ✅ Answer Relevancy (score: 0.6666666666666666, threshold: 0.5, strict: False, evaluation model: gpt-4o, reason: The score is 0.67 because the 'I'm sorry,' statement does not provide any relevant information regarding the three tasks in the online exam., error: None)\n",
      "  - ❌ Faithfulness (score: 0.5, threshold: 0.7, strict: False, evaluation model: gpt-4, reason: The score is 0.50 because the actual output incorrectly claimed that the course materials do not provide specific information about the tasks in the online exam, contradicting the retrieval context which clearly mentions that the exam consists of three tasks: Code Interpretation, Essay-style Question, and Coding Assignment., error: None)\n",
      "  - ✅ Contextual Relevancy (score: 1.0, threshold: 0.7, strict: False, evaluation model: gpt-4, reason: The score is 1.00 because the retrieval context perfectly aligns with the input, providing relevant information about the tasks in the online exam for the Business Analytics with Python course., error: None)\n",
      "\n",
      "For test case:\n",
      "\n",
      "  - input: What are the three tasks in the online exam for the Business Analytics with Python course?\n",
      "\n",
      "  - actual output: I'm sorry, but the course materials provided do not include specific information about the tasks in the online exam for the Business Analytics with Python course. I would recommend reaching out to your course instructor or the university administration for more details about the exam format.\n",
      "  - expected output: The three tasks in the online exam are Code Interpretation, Essay-style Question, and Coding Assignment.\n",
      "  - context: None\n",
      "  - retrieval context: ['Primer on Business Analytics with Python\\nModule 6: Summary and Course Conclusion\\nIntroduction\\nIn this final module, we will review the key concepts covered in this course and discuss the upcoming exam.\\nMain Concepts - Overview\\n- Basic Data Manipulation and Descriptive Statistics\\n- Basic Statistical Tests and Regression Analysis\\n- Causal Inference\\n- Supervised Machine Learning\\n- Basic Text Analytics\\nMain Concepts - Key Takeaways\\n- Importance of data-driven decision-making in business\\n- Various statistical and machine learning techniques for analyzing data\\n- Real-world business applications for each technique\\nExam Information\\n- Online Exam\\n- Duration: 2 hours\\n- Three tasks:\\n  1. Code Interpretation\\n  2. Essay-style Question\\n  3. Coding Assignment\\nFinal Thoughts\\nThank you for participating in this course. Good luck on your exam and future endeavors in business analytics!']\n",
      "\n",
      "======================================================================\n",
      "\n",
      "Metrics Summary\n",
      "\n",
      "  - ❌ Answer Relevancy (score: 0.2, threshold: 0.5, strict: False, evaluation model: gpt-4o, reason: The score is 0.20 because the actual output did not provide specific information on common algorithms used in supervised machine learning and included statements irrelevant to the question, such as referring to course materials and suggesting seeking further clarification from teachers., error: None)\n",
      "  - ✅ Faithfulness (score: 0.8333333333333334, threshold: 0.7, strict: False, evaluation model: gpt-4, reason: The score is 0.83 because the actual output falsely claims that the course materials did not discuss the different algorithms used in supervised machine learning, however, the retrieval context clearly mentions algorithms such as Linear Regression, Logistic Regression, Decision Trees, and Random Forests., error: None)\n",
      "  - ✅ Contextual Relevancy (score: 1.0, threshold: 0.7, strict: False, evaluation model: gpt-4, reason: The score is 1.00 because the retrieval context perfectly matches the input question regarding common algorithms used in supervised machine learning., error: None)\n",
      "\n",
      "For test case:\n",
      "\n",
      "  - input: What are some common algorithms used in supervised machine learning?\n",
      "\n",
      "  - actual output: In the course materials, we have not specifically discussed the different algorithms used in supervised machine learning. However, the concept of supervised machine learning was introduced in Week 4. Supervised machine learning involves training a model on a labeled dataset, where the model learns to predict outcomes based on input data.\n",
      "\n",
      "For more information, see: Week 4 lecture slides and transcript. If you have more specific questions about supervised machine learning algorithms, I would recommend reaching out to the course teachers for further clarification.\n",
      "  - expected output: Some common algorithms used in supervised machine learning are Linear Regression for continuous outcomes, Logistic Regression for binary classification, and Decision Trees and Random Forests for complex classifications.\n",
      "  - context: None\n",
      "  - retrieval context: ['Primer on Business Analytics with Python\\nModule 4: Supervised Machine Learning for Prediction and Classification\\nIntroduction\\n\\n- Supervised machine learning is a powerful tool for prediction and classification.\\x0b- This module will explore commonly used algorithms and their applications in business.\\x0b- Business applications include customer segmentation, fraud detection, and sales forecasting.\\nLearning Objectives\\n\\n- Understand the basics of supervised machine learning.\\x0b- Learn how to use Python libraries for implementing machine learning algorithms.\\nBasics of Supervised Machine Learning\\n\\n- Supervised learning involves training a model on labeled data.\\x0b- The goal is to make predictions or decisions based on new, unseen data.\\x0b- Business example: Predicting customer churn based on historical data.\\nCommon Algorithms\\n\\n- Linear Regression for continuous outcomes\\x0b- Logistic Regression for binary classification\\x0b- Decision Trees and Random Forests for complex classifications\\x0b- Business example: Using Random Forests for fraud detection.\\nSummary\\n\\n- We covered the basics of supervised machine learning and its business applications.\\x0b- Python libraries like scikit-learn make it easy to implement these algorithms.\\nBasic Classification of Machine Learning Types\\n\\n- Supervised Learning: Labelled data, prediction or classification tasks.\\x0b- Unsupervised Learning: Unlabelled data, clustering or association tasks.\\x0b- Reinforcement Learning: Decision-making tasks, learn from rewards.\\nDifference Between Classification and Prediction\\n\\n- Prediction: Estimating continuous values. E.g., sales forecasting.\\x0b- Classification: Assigning data points to discrete classes. E.g., spam or not spam.\\nModel Evaluation - Training and Test Sets\\n\\n- Split data into training and test sets for unbiased evaluation.\\x0b- Train the model on the training set and evaluate it on the test set.\\nModel Evaluation - Confusion Matrix']\n",
      "\n",
      "======================================================================\n",
      "\n",
      "Metrics Summary\n",
      "\n",
      "  - ❌ Answer Relevancy (score: 0.0, threshold: 0.5, strict: False, evaluation model: gpt-4o, reason: The score is 0.00 because the actual output contains multiple irrelevant statements and fails to address the input question about the purpose of a t-test in business analytics., error: None)\n",
      "  - ❌ Faithfulness (score: 0.6666666666666666, threshold: 0.7, strict: False, evaluation model: gpt-4, reason: The score is 0.67 because there is a contradiction in the assertion that the course materials do not include the topic of t-tests, while the retrieval context clearly indicates that t-tests are indeed part of the course., error: None)\n",
      "  - ✅ Contextual Relevancy (score: 1.0, threshold: 0.7, strict: False, evaluation model: gpt-4, reason: The score is 1.00 because the retrieval context perfectly aligns with the input, with no reasons given for irrelevancy., error: None)\n",
      "\n",
      "For test case:\n",
      "\n",
      "  - input: What is the purpose of a t-test in business analytics?\n",
      "\n",
      "  - actual output: I'm sorry, but the course materials provided do not cover the topic of t-tests in business analytics. Therefore, I'm unable to provide an answer to your question. I would recommend reaching out to the course teachers for further assistance on this topic.\n",
      "  - expected output: A t-test allows us to compare the means of two groups to see if they are statistically different. This can help understand if a marketing campaign was more effective in one region compared to another.\n",
      "  - context: None\n",
      "  - retrieval context: [\"[Slide 1: Title Slide]\\nHello again, everyone! Welcome back to our course on Business Analytics with Python. Today, we're moving on to Module 2. We'll be focusing on basic statistical tests, like the t-test and ANOVA, as well as regression analysis. So, let's dive right in and continue building on the foundation we laid in the last module.\\n\\n[Slide 2: Introduction]\\nBefore we jump into the details, let's discuss why statistical tests are important. In the world of business, we often have hypotheses or theories that we want to test. For example, is there a significant difference in sales between two different regions? Statistical tests help us answer questions like these with confidence.\\n\\n[Slide 3: What is a t-test?]\\nSo, what exactly is a t-test? In simple terms, a t-test allows us to compare the means of two groups to see if they are statistically different. This is incredibly useful in business. For example, it can help us understand if a marketing campaign was more effective in one region compared to another.\\n\\n[Slide 4: ANOVA]\\nNow, let's talk about ANOVA, which stands for Analysis of Variance. ANOVA is used when you want to compare the means of more than two groups. It's like an extended version of the t-test and is particularly useful in product testing scenarios.\\n\\n[Slide 5: Regression Analysis]\\nLast but not least, we'll discuss regression analysis. This allows us to understand the relationship between variables. For example, how does the price of a product affect its sales? Regression analysis can give us valuable insights into these kinds of relationships.\\n\\n[Slide 16: Summary]\\nIn summary, we've covered a lot today—t-tests, ANOVA, and regression analysis. These are powerful tools that can help you make informed business decisions based on data.\\n\\n[Slide 17: Q&A]\\nWe've come to the end of today's session. I hope you're leaving with a deeper understanding of statistical tests and their applications in business. If you have any questions, now's the time to ask.\"]\n",
      "\n",
      "======================================================================\n",
      "\n",
      "Metrics Summary\n",
      "\n",
      "  - ✅ Answer Relevancy (score: 0.9166666666666666, threshold: 0.5, strict: False, evaluation model: gpt-4o, reason: The score is 0.92 because the answer is mostly relevant and provides valuable information about the main concepts covered in the course. However, it includes an irrelevant statement about the general syllabus which does not directly address the question., error: None)\n",
      "  - ✅ Faithfulness (score: 1.0, threshold: 0.7, strict: False, evaluation model: gpt-4, reason: The score is 1.00 because there are no contradictions between the actual output and the retrieval context., error: None)\n",
      "  - ✅ Contextual Relevancy (score: 1.0, threshold: 0.7, strict: False, evaluation model: gpt-4, reason: The score is 1.00 because the retrieval context perfectly matches the input query, with no reasons for irrelevancy provided., error: None)\n",
      "\n",
      "For test case:\n",
      "\n",
      "  - input: What are the main concepts covered in the Business Analytics with Python course?\n",
      "\n",
      "  - actual output: The main concepts covered in the Business Analytics with Python course are:\n",
      "\n",
      "1. Introduction & Basic Data Manipulation: This topic covers the basics of data manipulation using Python. It includes understanding data structures, importing and exporting data, and basic data cleaning techniques.\n",
      "\n",
      "2. Basic Statistical Tests: This topic introduces students to basic statistical tests that can be performed using Python. It includes understanding the concepts of hypothesis testing, p-values, and confidence intervals.\n",
      "\n",
      "3. Causal Inference: This topic covers the concept of causal inference in business analytics. It includes understanding how to establish causality and the potential pitfalls in causal inference.\n",
      "\n",
      "4. Supervised Machine Learning: This topic introduces students to the concept of supervised machine learning. It includes understanding the basics of machine learning, training and testing data, and common supervised learning algorithms.\n",
      "\n",
      "5. Basic Text Analytics: This topic covers the basics of text analytics using Python. It includes understanding how to preprocess text data, extract features from text, and perform basic text analytics.\n",
      "\n",
      "6. Course Summary & Conclusion: This topic provides a summary of the course and concludes the learning journey.\n",
      "\n",
      "For more information, see: General Syllabus.\n",
      "  - expected output: The main concepts covered in the course are basic data manipulation and descriptive statistics, basic statistical tests and regression analysis, causal inference, supervised machine learning, and basic text analytics.\n",
      "  - context: None\n",
      "  - retrieval context: [\"# Primer on Business Analytics with Python\\n## Module 6: Summary and Course Conclusion\\n### Transcript for Imagined Lecture\\n\\nHello everyone, and welcome to our final session in this course on Business Analytics with Python. It's been an incredible journey, and I'm thrilled to have had the chance to explore these fascinating topics with all of you.\\n\\n### Introduction\\nSo, what's on the agenda for today? We will revisit the central themes and key concepts that we have covered over the past modules. Our goal is to consolidate our learning and prepare ourselves for the upcoming exam. This is a crucial step in ensuring that we can apply our newly acquired skills in a business context.\\n\\n### Main Concepts - Overview\\nLet's begin by taking a walk down memory lane. Do you remember our first module? We started with basic data manipulation and descriptive statistics. We learned how to clean, process, and summarize data, which is the foundation for any analytics project. Then, we moved on to statistical tests like t-tests and ANOVA, followed by regression analysis. We discussed how these tests can help us in making informed business decisions.\\n\\n### Main Concepts - Key Takeaways\\nBut what's the big picture here? Why did we learn all these techniques? Well, the reason is simple but profound. In today's competitive business environment, data-driven decision-making is not just an advantage; it's a necessity. The techniques you've learned in this course will enable you to analyze various types of data and generate insights that can inform and guide business strategies.\"]\n",
      "\n",
      "======================================================================\n",
      "\n",
      "Metrics Summary\n",
      "\n",
      "  - ❌ Answer Relevancy (score: 0.0, threshold: 0.5, strict: False, evaluation model: gpt-4o, reason: The score is 0.00 because the actual output contains statements that do not address what the speaker is excited to continue in the next module, making them irrelevant to the input question., error: None)\n",
      "  - ✅ Faithfulness (score: 1.0, threshold: 0.7, strict: False, evaluation model: gpt-4, reason: The score is 1.00 because there are no contradictions between the actual output and the retrieval context. The output is fully aligned with the information provided., error: None)\n",
      "  - ✅ Contextual Relevancy (score: 1.0, threshold: 0.7, strict: False, evaluation model: gpt-4, reason: The score is 1.00 because the input is perfectly aligned with the retrieval context, showing excellent relevancy., error: None)\n",
      "\n",
      "For test case:\n",
      "\n",
      "  - input: What is the speaker excited to continue in the next module?\n",
      "\n",
      "  - actual output: I'm sorry, but I can't provide the information you're looking for. The course materials provided do not include any information about what the speaker is excited to continue in the next module.\n",
      "  - expected output: The speaker is excited to continue the learning journey.\n",
      "  - context: None\n",
      "  - retrieval context: [\"Thank you for your participation, and I'm excited to continue this learning journey with you in the next module!\"]\n",
      "\n",
      "======================================================================\n",
      "\n",
      "Metrics Summary\n",
      "\n",
      "  - ❌ Answer Relevancy (score: 0.0, threshold: 0.5, strict: False, evaluation model: gpt-4o, reason: The score is 0.00 because the provided statements do not directly address the question about the go-to tool for data manipulation and analysis in business analytics, instead mentioning course materials and an inability to answer., error: None)\n",
      "  - ❌ Faithfulness (score: 0.5, threshold: 0.7, strict: False, evaluation model: gpt-4, reason: The score is 0.50 because the actual output seems to contradict the retrieval context. It does not accurately reflect that the course is about data manipulation and analysis in business analytics using Python and its libraries like Pandas and NumPy., error: None)\n",
      "  - ✅ Contextual Relevancy (score: 1.0, threshold: 0.7, strict: False, evaluation model: gpt-4, reason: The score is 1.00 because the retrieval context perfectly matches the input, with no reasons for irrelevancy provided., error: None)\n",
      "\n",
      "For test case:\n",
      "\n",
      "  - input: What is the go-to tool for data manipulation and analysis in business analytics?\n",
      "\n",
      "  - actual output: I'm sorry, but the course materials provided do not cover the specific tools used for data manipulation and analysis in business analytics. Therefore, I'm unable to provide an answer to your question. Please refer to the relevant course materials or ask the course instructor for more information.\n",
      "  - expected output: The go-to tool for data manipulation and analysis in business analytics is Python.\n",
      "  - context: None\n",
      "  - retrieval context: [\"[Slide 1: Title Slide]\\nHello, everyone! Welcome to this course on Business Analytics with Python. Today, we're diving into Module 1, where we'll cover basic data manipulation and descriptive statistics. Are you ready to begin this exciting journey into the world of data analytics? Great! Grab your coffee or tea, and let's get started.\\n\\n[Slide 2: Introduction]\\nBefore we delve into the nitty-gritty of data analysis, let's take a moment to discuss why we're all here. Business Analytics isn't just a buzzword; it's a crucial skill set that enables us to make informed decisions based on data. In the business world, data drives everything from sales forecasts and customer segmentation to inventory management and beyond. So, what's our go-to tool for data manipulation and analysis? That's right, it's Python—a versatile programming language that's perfect for data analysis.\\n\\n[Slide 3: Why Python?]\\nYou might wonder, why Python? Well, Python is known for its simplicity and readability, not to mention a wide array of libraries for data manipulation, like Pandas and NumPy. This makes it a go-to language for analysts and data scientists alike.\\n\\n[Slide 4: Data Structures]\\nLet's start by understanding the basic data structures in Python. We have lists, dictionaries, and tuples. Knowing how to use these effectively is like knowing your ABCs before you start to read.\\n\\n[Slide 5: Pandas Library]\\nNow, meet Pandas, Python's data manipulation library. With Pandas, you can do everything from data cleaning to data transformation, and it works seamlessly with other Python libraries.\\n\\n[Slide 16: Summary]\\nSo, to wrap things up, what have we covered today? Quite a bit, actually! We've gone through basic data structures, delved deep into data manipulation using Pandas, explored descriptive statistics, and even created a bar chart. You're well on your way to becoming a data-savvy business analyst.\"]\n",
      "\n",
      "======================================================================\n",
      "\n",
      "Metrics Summary\n",
      "\n",
      "  - ✅ Answer Relevancy (score: 0.8888888888888888, threshold: 0.5, strict: False, evaluation model: gpt-4o, reason: The score is 0.89 because the explanation of a confusion matrix is mostly clear and relevant, but the additional reference to 'Module 4: Transcript' is not pertinent to the immediate question., error: None)\n",
      "  - ✅ Faithfulness (score: 1.0, threshold: 0.7, strict: False, evaluation model: gpt-4, reason: The score is 1.00 because there are no contradictions between the actual output and the retrieval context. The output perfectly aligns with the information provided., error: None)\n",
      "  - ✅ Contextual Relevancy (score: 1.0, threshold: 0.7, strict: False, evaluation model: gpt-4, reason: The score is 1.00 because the retrieval context perfectly aligns with the input query about the confusion matrix in model evaluation. There are no mentioned discrepancies or irrelevancies., error: None)\n",
      "\n",
      "For test case:\n",
      "\n",
      "  - input: What is a confusion matrix in model evaluation?\n",
      "\n",
      "  - actual output: A confusion matrix is a table that is often used to describe the performance of a classification model (or \"classifier\") on a set of data for which the true values are known. It shows the True Positives (TP), True Negatives (TN), False Positives (FP), and False Negatives (FN). \n",
      "\n",
      "- True Positives (TP): These are cases in which we predicted yes (they have the condition), and they do have the condition.\n",
      "- True Negatives (TN): We predicted no, and they don't have the condition.\n",
      "- False Positives (FP): We predicted yes, but they don't actually have the condition. (Also known as a \"Type I error.\")\n",
      "- False Negatives (FN): We predicted no, but they actually do have the condition. (Also known as a \"Type II error.\")\n",
      "\n",
      "For more information, see: Module 4: Transcript.\n",
      "  - expected output: A confusion matrix is a table that describes the performance of a classification model, including True Positives, True Negatives, False Positives, and False Negatives.\n",
      "  - context: None\n",
      "  - retrieval context: ['- Split data into training and test sets for unbiased evaluation.\\x0b- Train the model on the training set and evaluate it on the test set.\\nModel Evaluation - Confusion Matrix\\n\\n- A table that describes the performance of a classification model.\\x0b- True Positives, True Negatives, False Positives, False Negatives.\\nModel Evaluation - Metrics for Regression\\n\\n- Mean Absolute Error (MAE): Average of absolute differences between predicted and actual values.\\x0b- Root Mean Square Error (RMSE): Square root of the average of squared differences between predicted and actual values.\\x0b- Coefficient of Determination (R^2): Proportion of variance in the dependent variable that is predictable from the independent variables.']\n",
      "\n",
      "======================================================================\n",
      "\n",
      "Overall Metric Pass Rates\n",
      "\n",
      "Answer Relevancy: 60.00% pass rate\n",
      "Faithfulness: 70.00% pass rate\n",
      "Contextual Relevancy: 100.00% pass rate\n",
      "\n",
      "======================================================================\n",
      "\n"
     ]
    },
    {
     "data": {
      "text/html": [
       "<pre style=\"white-space:pre;overflow-x:auto;line-height:normal;font-family:Menlo,'DejaVu Sans Mono',consolas,'Courier New',monospace\">✅ Tests finished! Run <span style=\"color: #008000; text-decoration-color: #008000\">\"deepeval login\"</span> to view evaluation results on the web.\n",
       "</pre>\n"
      ],
      "text/plain": [
       "✅ Tests finished! Run \u001b[32m\"deepeval login\"\u001b[0m to view evaluation results on the web.\n"
      ]
     },
     "metadata": {},
     "output_type": "display_data"
    },
    {
     "name": "stdout",
     "output_type": "stream",
     "text": [
      "--------------------------------------------------------------------------------\n",
      "Completed Evaluation\n"
     ]
    }
   ],
   "source": [
    "df_results = None\n",
    "for model in embedding_models:\n",
    "    df_model = evaluate_rag(model, df_questions)\n",
    "    df_results = df_model if df_results is None else pd.concat([df_results, df_model])"
   ]
  },
  {
   "cell_type": "code",
   "execution_count": 13,
   "metadata": {},
   "outputs": [
    {
     "data": {
      "text/html": [
       "<div>\n",
       "<style scoped>\n",
       "    .dataframe tbody tr th:only-of-type {\n",
       "        vertical-align: middle;\n",
       "    }\n",
       "\n",
       "    .dataframe tbody tr th {\n",
       "        vertical-align: top;\n",
       "    }\n",
       "\n",
       "    .dataframe thead th {\n",
       "        text-align: right;\n",
       "    }\n",
       "</style>\n",
       "<table border=\"1\" class=\"dataframe\">\n",
       "  <thead>\n",
       "    <tr style=\"text-align: right;\">\n",
       "      <th></th>\n",
       "      <th>ques_id</th>\n",
       "      <th>context</th>\n",
       "      <th>question</th>\n",
       "      <th>answer</th>\n",
       "      <th>source_doc</th>\n",
       "      <th>Model</th>\n",
       "      <th>Answer Relevance</th>\n",
       "      <th>Answer Relevance - Reason</th>\n",
       "      <th>Faithfulness</th>\n",
       "      <th>Faithfulness - Reason</th>\n",
       "      <th>Contextual Relevancy</th>\n",
       "      <th>Contextual Relevancy - Reason</th>\n",
       "    </tr>\n",
       "  </thead>\n",
       "  <tbody>\n",
       "    <tr>\n",
       "      <th>0</th>\n",
       "      <td>Q1</td>\n",
       "      <td>- **AI Chatbot**: An AI chatbot is available f...</td>\n",
       "      <td>What is the purpose of the AI chatbot in the b...</td>\n",
       "      <td>The AI chatbot is designed to answer frequentl...</td>\n",
       "      <td>course_material/general/syllabus.md</td>\n",
       "      <td>sentence-transformers/all-MiniLM-L6-v2</td>\n",
       "      <td>0.750000</td>\n",
       "      <td>The score is 0.75 because the answer mostly ad...</td>\n",
       "      <td>1.000000</td>\n",
       "      <td>The score is 1.00 because there are no contrad...</td>\n",
       "      <td>1.0</td>\n",
       "      <td>The score is 1.00 because there were no reason...</td>\n",
       "    </tr>\n",
       "    <tr>\n",
       "      <th>1</th>\n",
       "      <td>Q2</td>\n",
       "      <td>Primer on Business Analytics with Python\\nModu...</td>\n",
       "      <td>What are the basic techniques in text analytic...</td>\n",
       "      <td>The basic techniques in text analytics covered...</td>\n",
       "      <td>course_material/module 5/lecture slides.pptx</td>\n",
       "      <td>sentence-transformers/all-MiniLM-L6-v2</td>\n",
       "      <td>1.000000</td>\n",
       "      <td>The score is 1.00 because the output is fully ...</td>\n",
       "      <td>0.866667</td>\n",
       "      <td>The score is 0.87 because the actual output in...</td>\n",
       "      <td>1.0</td>\n",
       "      <td>The score is 1.00 because the retrieval contex...</td>\n",
       "    </tr>\n",
       "    <tr>\n",
       "      <th>2</th>\n",
       "      <td>Q3</td>\n",
       "      <td>Primer on Business Analytics \\nwith Python\\nMo...</td>\n",
       "      <td>What is the business example of using linear r...</td>\n",
       "      <td>Predicting sales based on advertising spend.</td>\n",
       "      <td>course_material/module 2/lecture slides.pdf</td>\n",
       "      <td>sentence-transformers/all-MiniLM-L6-v2</td>\n",
       "      <td>0.833333</td>\n",
       "      <td>The score is 0.83 because the majority of the ...</td>\n",
       "      <td>1.000000</td>\n",
       "      <td>The score is 1.00 because there are no contrad...</td>\n",
       "      <td>1.0</td>\n",
       "      <td>The score is 1.00 because the retrieval contex...</td>\n",
       "    </tr>\n",
       "    <tr>\n",
       "      <th>3</th>\n",
       "      <td>Q4</td>\n",
       "      <td>Primer on Business Analytics with Python\\nModu...</td>\n",
       "      <td>What are the three tasks in the online exam fo...</td>\n",
       "      <td>The three tasks in the online exam are Code In...</td>\n",
       "      <td>course_material/module 6/lecture slides.pptx</td>\n",
       "      <td>sentence-transformers/all-MiniLM-L6-v2</td>\n",
       "      <td>0.875000</td>\n",
       "      <td>The score is 0.88 because the answer effective...</td>\n",
       "      <td>1.000000</td>\n",
       "      <td>The score is 1.00 because there were no contra...</td>\n",
       "      <td>1.0</td>\n",
       "      <td>The score is 1.00 because the retrieval contex...</td>\n",
       "    </tr>\n",
       "    <tr>\n",
       "      <th>4</th>\n",
       "      <td>Q5</td>\n",
       "      <td>Primer on Business Analytics with Python\\nModu...</td>\n",
       "      <td>What are some common algorithms used in superv...</td>\n",
       "      <td>Some common algorithms used in supervised mach...</td>\n",
       "      <td>course_material/module 4/lecture slides.pptx</td>\n",
       "      <td>sentence-transformers/all-MiniLM-L6-v2</td>\n",
       "      <td>0.916667</td>\n",
       "      <td>The score is 0.92 because the answer is highly...</td>\n",
       "      <td>1.000000</td>\n",
       "      <td>The score is 1.00 because there are no contrad...</td>\n",
       "      <td>1.0</td>\n",
       "      <td>The score is 1.00 because the retrieval contex...</td>\n",
       "    </tr>\n",
       "    <tr>\n",
       "      <th>5</th>\n",
       "      <td>Q6</td>\n",
       "      <td>[Slide 1: Title Slide]\\nHello again, everyone!...</td>\n",
       "      <td>What is the purpose of a t-test in business an...</td>\n",
       "      <td>A t-test allows us to compare the means of two...</td>\n",
       "      <td>course_material/module 2/transcript.txt</td>\n",
       "      <td>sentence-transformers/all-MiniLM-L6-v2</td>\n",
       "      <td>0.800000</td>\n",
       "      <td>The score is 0.80 because the explanation abou...</td>\n",
       "      <td>1.000000</td>\n",
       "      <td>The score is 1.00 because there are no contrad...</td>\n",
       "      <td>1.0</td>\n",
       "      <td>The score is 1.00 because the retrieval contex...</td>\n",
       "    </tr>\n",
       "    <tr>\n",
       "      <th>6</th>\n",
       "      <td>Q7</td>\n",
       "      <td># Primer on Business Analytics with Python\\n##...</td>\n",
       "      <td>What are the main concepts covered in the Busi...</td>\n",
       "      <td>The main concepts covered in the course are ba...</td>\n",
       "      <td>course_material/module 6/transcript.txt</td>\n",
       "      <td>sentence-transformers/all-MiniLM-L6-v2</td>\n",
       "      <td>0.947368</td>\n",
       "      <td>The score is 0.95 because the answer is highly...</td>\n",
       "      <td>0.823529</td>\n",
       "      <td>The score is 0.82 because the actual output in...</td>\n",
       "      <td>1.0</td>\n",
       "      <td>The score is 1.00 because there are no reasons...</td>\n",
       "    </tr>\n",
       "    <tr>\n",
       "      <th>7</th>\n",
       "      <td>Q8</td>\n",
       "      <td>Thank you for your participation, and I'm exci...</td>\n",
       "      <td>What is the speaker excited to continue in the...</td>\n",
       "      <td>The speaker is excited to continue the learnin...</td>\n",
       "      <td>course_material/module 2/transcript.txt</td>\n",
       "      <td>sentence-transformers/all-MiniLM-L6-v2</td>\n",
       "      <td>0.250000</td>\n",
       "      <td>The score is 0.25 because the response include...</td>\n",
       "      <td>1.000000</td>\n",
       "      <td>The score is 1.00 because there are no contrad...</td>\n",
       "      <td>1.0</td>\n",
       "      <td>The score is 1.00 because the retrieval contex...</td>\n",
       "    </tr>\n",
       "    <tr>\n",
       "      <th>8</th>\n",
       "      <td>Q9</td>\n",
       "      <td>[Slide 1: Title Slide]\\nHello, everyone! Welco...</td>\n",
       "      <td>What is the go-to tool for data manipulation a...</td>\n",
       "      <td>The go-to tool for data manipulation and analy...</td>\n",
       "      <td>course_material/module 1/transcript.txt</td>\n",
       "      <td>sentence-transformers/all-MiniLM-L6-v2</td>\n",
       "      <td>0.750000</td>\n",
       "      <td>The score is 0.75 because the main response co...</td>\n",
       "      <td>1.000000</td>\n",
       "      <td>The score is 1.00 because there are no contrad...</td>\n",
       "      <td>1.0</td>\n",
       "      <td>The score is 1.00 because the retrieval contex...</td>\n",
       "    </tr>\n",
       "    <tr>\n",
       "      <th>9</th>\n",
       "      <td>Q10</td>\n",
       "      <td>- Split data into training and test sets for u...</td>\n",
       "      <td>What is a confusion matrix in model evaluation?\\n</td>\n",
       "      <td>A confusion matrix is a table that describes t...</td>\n",
       "      <td>course_material/module 4/lecture slides.pptx</td>\n",
       "      <td>sentence-transformers/all-MiniLM-L6-v2</td>\n",
       "      <td>0.900000</td>\n",
       "      <td>The score is 0.90 because the explanation is m...</td>\n",
       "      <td>1.000000</td>\n",
       "      <td>The score is 1.00 because there are no contrad...</td>\n",
       "      <td>1.0</td>\n",
       "      <td>The score is 1.00 because the retrieval contex...</td>\n",
       "    </tr>\n",
       "    <tr>\n",
       "      <th>0</th>\n",
       "      <td>Q1</td>\n",
       "      <td>- **AI Chatbot**: An AI chatbot is available f...</td>\n",
       "      <td>What is the purpose of the AI chatbot in the b...</td>\n",
       "      <td>The AI chatbot is designed to answer frequentl...</td>\n",
       "      <td>course_material/general/syllabus.md</td>\n",
       "      <td>sentence-transformers/all-MiniLM-L12-v2</td>\n",
       "      <td>0.750000</td>\n",
       "      <td>The score is 0.75 because the provided answer ...</td>\n",
       "      <td>0.333333</td>\n",
       "      <td>The score is 0.33 due to the fact that the act...</td>\n",
       "      <td>1.0</td>\n",
       "      <td>The score is 1.00 because the retrieval contex...</td>\n",
       "    </tr>\n",
       "    <tr>\n",
       "      <th>1</th>\n",
       "      <td>Q2</td>\n",
       "      <td>Primer on Business Analytics with Python\\nModu...</td>\n",
       "      <td>What are the basic techniques in text analytic...</td>\n",
       "      <td>The basic techniques in text analytics covered...</td>\n",
       "      <td>course_material/module 5/lecture slides.pptx</td>\n",
       "      <td>sentence-transformers/all-MiniLM-L12-v2</td>\n",
       "      <td>0.888889</td>\n",
       "      <td>The score is 0.89 because the answer is mostly...</td>\n",
       "      <td>0.875000</td>\n",
       "      <td>The score is 0.88 because while the actual out...</td>\n",
       "      <td>1.0</td>\n",
       "      <td>The score is 1.00 because the retrieval contex...</td>\n",
       "    </tr>\n",
       "    <tr>\n",
       "      <th>2</th>\n",
       "      <td>Q3</td>\n",
       "      <td>Primer on Business Analytics \\nwith Python\\nMo...</td>\n",
       "      <td>What is the business example of using linear r...</td>\n",
       "      <td>Predicting sales based on advertising spend.</td>\n",
       "      <td>course_material/module 2/lecture slides.pdf</td>\n",
       "      <td>sentence-transformers/all-MiniLM-L12-v2</td>\n",
       "      <td>0.750000</td>\n",
       "      <td>The score is 0.75 because the explanation prov...</td>\n",
       "      <td>1.000000</td>\n",
       "      <td>The score is 1.00 because there are no contrad...</td>\n",
       "      <td>1.0</td>\n",
       "      <td>The score is 1.00 because the retrieval contex...</td>\n",
       "    </tr>\n",
       "    <tr>\n",
       "      <th>3</th>\n",
       "      <td>Q4</td>\n",
       "      <td>Primer on Business Analytics with Python\\nModu...</td>\n",
       "      <td>What are the three tasks in the online exam fo...</td>\n",
       "      <td>The three tasks in the online exam are Code In...</td>\n",
       "      <td>course_material/module 6/lecture slides.pptx</td>\n",
       "      <td>sentence-transformers/all-MiniLM-L12-v2</td>\n",
       "      <td>0.800000</td>\n",
       "      <td>The score is 0.80 because the answer addresses...</td>\n",
       "      <td>0.875000</td>\n",
       "      <td>The score is 0.88 because the actual output in...</td>\n",
       "      <td>1.0</td>\n",
       "      <td>The score is 1.00 because the retrieval contex...</td>\n",
       "    </tr>\n",
       "    <tr>\n",
       "      <th>4</th>\n",
       "      <td>Q5</td>\n",
       "      <td>Primer on Business Analytics with Python\\nModu...</td>\n",
       "      <td>What are some common algorithms used in superv...</td>\n",
       "      <td>Some common algorithms used in supervised mach...</td>\n",
       "      <td>course_material/module 4/lecture slides.pptx</td>\n",
       "      <td>sentence-transformers/all-MiniLM-L12-v2</td>\n",
       "      <td>0.500000</td>\n",
       "      <td>The score is 0.50 because the output includes ...</td>\n",
       "      <td>1.000000</td>\n",
       "      <td>The score is 1.00 because there are no contrad...</td>\n",
       "      <td>1.0</td>\n",
       "      <td>The score is 1.00 because the retrieval contex...</td>\n",
       "    </tr>\n",
       "    <tr>\n",
       "      <th>5</th>\n",
       "      <td>Q6</td>\n",
       "      <td>[Slide 1: Title Slide]\\nHello again, everyone!...</td>\n",
       "      <td>What is the purpose of a t-test in business an...</td>\n",
       "      <td>A t-test allows us to compare the means of two...</td>\n",
       "      <td>course_material/module 2/transcript.txt</td>\n",
       "      <td>sentence-transformers/all-MiniLM-L12-v2</td>\n",
       "      <td>1.000000</td>\n",
       "      <td>The score is 1.00 because the answer is perfec...</td>\n",
       "      <td>1.000000</td>\n",
       "      <td>The score is 1.00 because there are no contrad...</td>\n",
       "      <td>1.0</td>\n",
       "      <td>The score is 1.00 because the retrieval contex...</td>\n",
       "    </tr>\n",
       "    <tr>\n",
       "      <th>6</th>\n",
       "      <td>Q7</td>\n",
       "      <td># Primer on Business Analytics with Python\\n##...</td>\n",
       "      <td>What are the main concepts covered in the Busi...</td>\n",
       "      <td>The main concepts covered in the course are ba...</td>\n",
       "      <td>course_material/module 6/transcript.txt</td>\n",
       "      <td>sentence-transformers/all-MiniLM-L12-v2</td>\n",
       "      <td>0.909091</td>\n",
       "      <td>The score is 0.91 because the response effecti...</td>\n",
       "      <td>0.800000</td>\n",
       "      <td>The score is 0.80 because the actual output in...</td>\n",
       "      <td>1.0</td>\n",
       "      <td>The score is 1.00 because the retrieval contex...</td>\n",
       "    </tr>\n",
       "    <tr>\n",
       "      <th>7</th>\n",
       "      <td>Q8</td>\n",
       "      <td>Thank you for your participation, and I'm exci...</td>\n",
       "      <td>What is the speaker excited to continue in the...</td>\n",
       "      <td>The speaker is excited to continue the learnin...</td>\n",
       "      <td>course_material/module 2/transcript.txt</td>\n",
       "      <td>sentence-transformers/all-MiniLM-L12-v2</td>\n",
       "      <td>0.750000</td>\n",
       "      <td>The score is 0.75 because the output provides ...</td>\n",
       "      <td>1.000000</td>\n",
       "      <td>The score is 1.00 because there are no contrad...</td>\n",
       "      <td>1.0</td>\n",
       "      <td>The score is 1.00 because the input is perfect...</td>\n",
       "    </tr>\n",
       "    <tr>\n",
       "      <th>8</th>\n",
       "      <td>Q9</td>\n",
       "      <td>[Slide 1: Title Slide]\\nHello, everyone! Welco...</td>\n",
       "      <td>What is the go-to tool for data manipulation a...</td>\n",
       "      <td>The go-to tool for data manipulation and analy...</td>\n",
       "      <td>course_material/module 1/transcript.txt</td>\n",
       "      <td>sentence-transformers/all-MiniLM-L12-v2</td>\n",
       "      <td>0.750000</td>\n",
       "      <td>The score is 0.75 because the response provide...</td>\n",
       "      <td>1.000000</td>\n",
       "      <td>The score is 1.00 because there are no contrad...</td>\n",
       "      <td>1.0</td>\n",
       "      <td>The score is 1.00 because the retrieval contex...</td>\n",
       "    </tr>\n",
       "    <tr>\n",
       "      <th>9</th>\n",
       "      <td>Q10</td>\n",
       "      <td>- Split data into training and test sets for u...</td>\n",
       "      <td>What is a confusion matrix in model evaluation?\\n</td>\n",
       "      <td>A confusion matrix is a table that describes t...</td>\n",
       "      <td>course_material/module 4/lecture slides.pptx</td>\n",
       "      <td>sentence-transformers/all-MiniLM-L12-v2</td>\n",
       "      <td>0.888889</td>\n",
       "      <td>The score is 0.89 because the answer is mostly...</td>\n",
       "      <td>1.000000</td>\n",
       "      <td>The score is 1.00 because there are no contrad...</td>\n",
       "      <td>1.0</td>\n",
       "      <td>The score is 1.00 because the retrieval contex...</td>\n",
       "    </tr>\n",
       "    <tr>\n",
       "      <th>0</th>\n",
       "      <td>Q1</td>\n",
       "      <td>- **AI Chatbot**: An AI chatbot is available f...</td>\n",
       "      <td>What is the purpose of the AI chatbot in the b...</td>\n",
       "      <td>The AI chatbot is designed to answer frequentl...</td>\n",
       "      <td>course_material/general/syllabus.md</td>\n",
       "      <td>TaylorAI/gte-tiny</td>\n",
       "      <td>0.666667</td>\n",
       "      <td>The score is 0.67 because the output provides ...</td>\n",
       "      <td>1.000000</td>\n",
       "      <td>The score is 1.00 because there are no contrad...</td>\n",
       "      <td>1.0</td>\n",
       "      <td>The score is 1.00 because the retrieval contex...</td>\n",
       "    </tr>\n",
       "    <tr>\n",
       "      <th>1</th>\n",
       "      <td>Q2</td>\n",
       "      <td>Primer on Business Analytics with Python\\nModu...</td>\n",
       "      <td>What are the basic techniques in text analytic...</td>\n",
       "      <td>The basic techniques in text analytics covered...</td>\n",
       "      <td>course_material/module 5/lecture slides.pptx</td>\n",
       "      <td>TaylorAI/gte-tiny</td>\n",
       "      <td>1.000000</td>\n",
       "      <td>The score is 1.00 because the output is perfec...</td>\n",
       "      <td>0.750000</td>\n",
       "      <td>The score is 0.75 because while the retrieval ...</td>\n",
       "      <td>1.0</td>\n",
       "      <td>The score is 1.00 because there are no listed ...</td>\n",
       "    </tr>\n",
       "    <tr>\n",
       "      <th>2</th>\n",
       "      <td>Q3</td>\n",
       "      <td>Primer on Business Analytics \\nwith Python\\nMo...</td>\n",
       "      <td>What is the business example of using linear r...</td>\n",
       "      <td>Predicting sales based on advertising spend.</td>\n",
       "      <td>course_material/module 2/lecture slides.pdf</td>\n",
       "      <td>TaylorAI/gte-tiny</td>\n",
       "      <td>0.833333</td>\n",
       "      <td>The score is 0.83 because the majority of the ...</td>\n",
       "      <td>1.000000</td>\n",
       "      <td>The score is 1.00 because there are no contrad...</td>\n",
       "      <td>1.0</td>\n",
       "      <td>The score is 1.00 because the retrieval contex...</td>\n",
       "    </tr>\n",
       "    <tr>\n",
       "      <th>3</th>\n",
       "      <td>Q4</td>\n",
       "      <td>Primer on Business Analytics with Python\\nModu...</td>\n",
       "      <td>What are the three tasks in the online exam fo...</td>\n",
       "      <td>The three tasks in the online exam are Code In...</td>\n",
       "      <td>course_material/module 6/lecture slides.pptx</td>\n",
       "      <td>TaylorAI/gte-tiny</td>\n",
       "      <td>0.666667</td>\n",
       "      <td>The score is 0.67 because the 'I'm sorry,' sta...</td>\n",
       "      <td>0.500000</td>\n",
       "      <td>The score is 0.50 because the actual output in...</td>\n",
       "      <td>1.0</td>\n",
       "      <td>The score is 1.00 because the retrieval contex...</td>\n",
       "    </tr>\n",
       "    <tr>\n",
       "      <th>4</th>\n",
       "      <td>Q5</td>\n",
       "      <td>Primer on Business Analytics with Python\\nModu...</td>\n",
       "      <td>What are some common algorithms used in superv...</td>\n",
       "      <td>Some common algorithms used in supervised mach...</td>\n",
       "      <td>course_material/module 4/lecture slides.pptx</td>\n",
       "      <td>TaylorAI/gte-tiny</td>\n",
       "      <td>0.200000</td>\n",
       "      <td>The score is 0.20 because the actual output di...</td>\n",
       "      <td>0.833333</td>\n",
       "      <td>The score is 0.83 because the actual output fa...</td>\n",
       "      <td>1.0</td>\n",
       "      <td>The score is 1.00 because the retrieval contex...</td>\n",
       "    </tr>\n",
       "    <tr>\n",
       "      <th>5</th>\n",
       "      <td>Q6</td>\n",
       "      <td>[Slide 1: Title Slide]\\nHello again, everyone!...</td>\n",
       "      <td>What is the purpose of a t-test in business an...</td>\n",
       "      <td>A t-test allows us to compare the means of two...</td>\n",
       "      <td>course_material/module 2/transcript.txt</td>\n",
       "      <td>TaylorAI/gte-tiny</td>\n",
       "      <td>0.000000</td>\n",
       "      <td>The score is 0.00 because the actual output co...</td>\n",
       "      <td>0.666667</td>\n",
       "      <td>The score is 0.67 because there is a contradic...</td>\n",
       "      <td>1.0</td>\n",
       "      <td>The score is 1.00 because the retrieval contex...</td>\n",
       "    </tr>\n",
       "    <tr>\n",
       "      <th>6</th>\n",
       "      <td>Q7</td>\n",
       "      <td># Primer on Business Analytics with Python\\n##...</td>\n",
       "      <td>What are the main concepts covered in the Busi...</td>\n",
       "      <td>The main concepts covered in the course are ba...</td>\n",
       "      <td>course_material/module 6/transcript.txt</td>\n",
       "      <td>TaylorAI/gte-tiny</td>\n",
       "      <td>0.916667</td>\n",
       "      <td>The score is 0.92 because the answer is mostly...</td>\n",
       "      <td>1.000000</td>\n",
       "      <td>The score is 1.00 because there are no contrad...</td>\n",
       "      <td>1.0</td>\n",
       "      <td>The score is 1.00 because the retrieval contex...</td>\n",
       "    </tr>\n",
       "    <tr>\n",
       "      <th>7</th>\n",
       "      <td>Q8</td>\n",
       "      <td>Thank you for your participation, and I'm exci...</td>\n",
       "      <td>What is the speaker excited to continue in the...</td>\n",
       "      <td>The speaker is excited to continue the learnin...</td>\n",
       "      <td>course_material/module 2/transcript.txt</td>\n",
       "      <td>TaylorAI/gte-tiny</td>\n",
       "      <td>0.000000</td>\n",
       "      <td>The score is 0.00 because the actual output co...</td>\n",
       "      <td>1.000000</td>\n",
       "      <td>The score is 1.00 because there are no contrad...</td>\n",
       "      <td>1.0</td>\n",
       "      <td>The score is 1.00 because the input is perfect...</td>\n",
       "    </tr>\n",
       "    <tr>\n",
       "      <th>8</th>\n",
       "      <td>Q9</td>\n",
       "      <td>[Slide 1: Title Slide]\\nHello, everyone! Welco...</td>\n",
       "      <td>What is the go-to tool for data manipulation a...</td>\n",
       "      <td>The go-to tool for data manipulation and analy...</td>\n",
       "      <td>course_material/module 1/transcript.txt</td>\n",
       "      <td>TaylorAI/gte-tiny</td>\n",
       "      <td>0.000000</td>\n",
       "      <td>The score is 0.00 because the provided stateme...</td>\n",
       "      <td>0.500000</td>\n",
       "      <td>The score is 0.50 because the actual output se...</td>\n",
       "      <td>1.0</td>\n",
       "      <td>The score is 1.00 because the retrieval contex...</td>\n",
       "    </tr>\n",
       "    <tr>\n",
       "      <th>9</th>\n",
       "      <td>Q10</td>\n",
       "      <td>- Split data into training and test sets for u...</td>\n",
       "      <td>What is a confusion matrix in model evaluation?\\n</td>\n",
       "      <td>A confusion matrix is a table that describes t...</td>\n",
       "      <td>course_material/module 4/lecture slides.pptx</td>\n",
       "      <td>TaylorAI/gte-tiny</td>\n",
       "      <td>0.888889</td>\n",
       "      <td>The score is 0.89 because the explanation of a...</td>\n",
       "      <td>1.000000</td>\n",
       "      <td>The score is 1.00 because there are no contrad...</td>\n",
       "      <td>1.0</td>\n",
       "      <td>The score is 1.00 because the retrieval contex...</td>\n",
       "    </tr>\n",
       "  </tbody>\n",
       "</table>\n",
       "</div>"
      ],
      "text/plain": [
       "  ques_id                                            context  \\\n",
       "0      Q1  - **AI Chatbot**: An AI chatbot is available f...   \n",
       "1      Q2  Primer on Business Analytics with Python\\nModu...   \n",
       "2      Q3  Primer on Business Analytics \\nwith Python\\nMo...   \n",
       "3      Q4  Primer on Business Analytics with Python\\nModu...   \n",
       "4      Q5  Primer on Business Analytics with Python\\nModu...   \n",
       "5      Q6  [Slide 1: Title Slide]\\nHello again, everyone!...   \n",
       "6      Q7  # Primer on Business Analytics with Python\\n##...   \n",
       "7      Q8  Thank you for your participation, and I'm exci...   \n",
       "8      Q9  [Slide 1: Title Slide]\\nHello, everyone! Welco...   \n",
       "9     Q10  - Split data into training and test sets for u...   \n",
       "0      Q1  - **AI Chatbot**: An AI chatbot is available f...   \n",
       "1      Q2  Primer on Business Analytics with Python\\nModu...   \n",
       "2      Q3  Primer on Business Analytics \\nwith Python\\nMo...   \n",
       "3      Q4  Primer on Business Analytics with Python\\nModu...   \n",
       "4      Q5  Primer on Business Analytics with Python\\nModu...   \n",
       "5      Q6  [Slide 1: Title Slide]\\nHello again, everyone!...   \n",
       "6      Q7  # Primer on Business Analytics with Python\\n##...   \n",
       "7      Q8  Thank you for your participation, and I'm exci...   \n",
       "8      Q9  [Slide 1: Title Slide]\\nHello, everyone! Welco...   \n",
       "9     Q10  - Split data into training and test sets for u...   \n",
       "0      Q1  - **AI Chatbot**: An AI chatbot is available f...   \n",
       "1      Q2  Primer on Business Analytics with Python\\nModu...   \n",
       "2      Q3  Primer on Business Analytics \\nwith Python\\nMo...   \n",
       "3      Q4  Primer on Business Analytics with Python\\nModu...   \n",
       "4      Q5  Primer on Business Analytics with Python\\nModu...   \n",
       "5      Q6  [Slide 1: Title Slide]\\nHello again, everyone!...   \n",
       "6      Q7  # Primer on Business Analytics with Python\\n##...   \n",
       "7      Q8  Thank you for your participation, and I'm exci...   \n",
       "8      Q9  [Slide 1: Title Slide]\\nHello, everyone! Welco...   \n",
       "9     Q10  - Split data into training and test sets for u...   \n",
       "\n",
       "                                            question  \\\n",
       "0  What is the purpose of the AI chatbot in the b...   \n",
       "1  What are the basic techniques in text analytic...   \n",
       "2  What is the business example of using linear r...   \n",
       "3  What are the three tasks in the online exam fo...   \n",
       "4  What are some common algorithms used in superv...   \n",
       "5  What is the purpose of a t-test in business an...   \n",
       "6  What are the main concepts covered in the Busi...   \n",
       "7  What is the speaker excited to continue in the...   \n",
       "8  What is the go-to tool for data manipulation a...   \n",
       "9  What is a confusion matrix in model evaluation?\\n   \n",
       "0  What is the purpose of the AI chatbot in the b...   \n",
       "1  What are the basic techniques in text analytic...   \n",
       "2  What is the business example of using linear r...   \n",
       "3  What are the three tasks in the online exam fo...   \n",
       "4  What are some common algorithms used in superv...   \n",
       "5  What is the purpose of a t-test in business an...   \n",
       "6  What are the main concepts covered in the Busi...   \n",
       "7  What is the speaker excited to continue in the...   \n",
       "8  What is the go-to tool for data manipulation a...   \n",
       "9  What is a confusion matrix in model evaluation?\\n   \n",
       "0  What is the purpose of the AI chatbot in the b...   \n",
       "1  What are the basic techniques in text analytic...   \n",
       "2  What is the business example of using linear r...   \n",
       "3  What are the three tasks in the online exam fo...   \n",
       "4  What are some common algorithms used in superv...   \n",
       "5  What is the purpose of a t-test in business an...   \n",
       "6  What are the main concepts covered in the Busi...   \n",
       "7  What is the speaker excited to continue in the...   \n",
       "8  What is the go-to tool for data manipulation a...   \n",
       "9  What is a confusion matrix in model evaluation?\\n   \n",
       "\n",
       "                                              answer  \\\n",
       "0  The AI chatbot is designed to answer frequentl...   \n",
       "1  The basic techniques in text analytics covered...   \n",
       "2       Predicting sales based on advertising spend.   \n",
       "3  The three tasks in the online exam are Code In...   \n",
       "4  Some common algorithms used in supervised mach...   \n",
       "5  A t-test allows us to compare the means of two...   \n",
       "6  The main concepts covered in the course are ba...   \n",
       "7  The speaker is excited to continue the learnin...   \n",
       "8  The go-to tool for data manipulation and analy...   \n",
       "9  A confusion matrix is a table that describes t...   \n",
       "0  The AI chatbot is designed to answer frequentl...   \n",
       "1  The basic techniques in text analytics covered...   \n",
       "2       Predicting sales based on advertising spend.   \n",
       "3  The three tasks in the online exam are Code In...   \n",
       "4  Some common algorithms used in supervised mach...   \n",
       "5  A t-test allows us to compare the means of two...   \n",
       "6  The main concepts covered in the course are ba...   \n",
       "7  The speaker is excited to continue the learnin...   \n",
       "8  The go-to tool for data manipulation and analy...   \n",
       "9  A confusion matrix is a table that describes t...   \n",
       "0  The AI chatbot is designed to answer frequentl...   \n",
       "1  The basic techniques in text analytics covered...   \n",
       "2       Predicting sales based on advertising spend.   \n",
       "3  The three tasks in the online exam are Code In...   \n",
       "4  Some common algorithms used in supervised mach...   \n",
       "5  A t-test allows us to compare the means of two...   \n",
       "6  The main concepts covered in the course are ba...   \n",
       "7  The speaker is excited to continue the learnin...   \n",
       "8  The go-to tool for data manipulation and analy...   \n",
       "9  A confusion matrix is a table that describes t...   \n",
       "\n",
       "                                     source_doc  \\\n",
       "0           course_material/general/syllabus.md   \n",
       "1  course_material/module 5/lecture slides.pptx   \n",
       "2   course_material/module 2/lecture slides.pdf   \n",
       "3  course_material/module 6/lecture slides.pptx   \n",
       "4  course_material/module 4/lecture slides.pptx   \n",
       "5       course_material/module 2/transcript.txt   \n",
       "6       course_material/module 6/transcript.txt   \n",
       "7       course_material/module 2/transcript.txt   \n",
       "8       course_material/module 1/transcript.txt   \n",
       "9  course_material/module 4/lecture slides.pptx   \n",
       "0           course_material/general/syllabus.md   \n",
       "1  course_material/module 5/lecture slides.pptx   \n",
       "2   course_material/module 2/lecture slides.pdf   \n",
       "3  course_material/module 6/lecture slides.pptx   \n",
       "4  course_material/module 4/lecture slides.pptx   \n",
       "5       course_material/module 2/transcript.txt   \n",
       "6       course_material/module 6/transcript.txt   \n",
       "7       course_material/module 2/transcript.txt   \n",
       "8       course_material/module 1/transcript.txt   \n",
       "9  course_material/module 4/lecture slides.pptx   \n",
       "0           course_material/general/syllabus.md   \n",
       "1  course_material/module 5/lecture slides.pptx   \n",
       "2   course_material/module 2/lecture slides.pdf   \n",
       "3  course_material/module 6/lecture slides.pptx   \n",
       "4  course_material/module 4/lecture slides.pptx   \n",
       "5       course_material/module 2/transcript.txt   \n",
       "6       course_material/module 6/transcript.txt   \n",
       "7       course_material/module 2/transcript.txt   \n",
       "8       course_material/module 1/transcript.txt   \n",
       "9  course_material/module 4/lecture slides.pptx   \n",
       "\n",
       "                                     Model  Answer Relevance  \\\n",
       "0   sentence-transformers/all-MiniLM-L6-v2          0.750000   \n",
       "1   sentence-transformers/all-MiniLM-L6-v2          1.000000   \n",
       "2   sentence-transformers/all-MiniLM-L6-v2          0.833333   \n",
       "3   sentence-transformers/all-MiniLM-L6-v2          0.875000   \n",
       "4   sentence-transformers/all-MiniLM-L6-v2          0.916667   \n",
       "5   sentence-transformers/all-MiniLM-L6-v2          0.800000   \n",
       "6   sentence-transformers/all-MiniLM-L6-v2          0.947368   \n",
       "7   sentence-transformers/all-MiniLM-L6-v2          0.250000   \n",
       "8   sentence-transformers/all-MiniLM-L6-v2          0.750000   \n",
       "9   sentence-transformers/all-MiniLM-L6-v2          0.900000   \n",
       "0  sentence-transformers/all-MiniLM-L12-v2          0.750000   \n",
       "1  sentence-transformers/all-MiniLM-L12-v2          0.888889   \n",
       "2  sentence-transformers/all-MiniLM-L12-v2          0.750000   \n",
       "3  sentence-transformers/all-MiniLM-L12-v2          0.800000   \n",
       "4  sentence-transformers/all-MiniLM-L12-v2          0.500000   \n",
       "5  sentence-transformers/all-MiniLM-L12-v2          1.000000   \n",
       "6  sentence-transformers/all-MiniLM-L12-v2          0.909091   \n",
       "7  sentence-transformers/all-MiniLM-L12-v2          0.750000   \n",
       "8  sentence-transformers/all-MiniLM-L12-v2          0.750000   \n",
       "9  sentence-transformers/all-MiniLM-L12-v2          0.888889   \n",
       "0                        TaylorAI/gte-tiny          0.666667   \n",
       "1                        TaylorAI/gte-tiny          1.000000   \n",
       "2                        TaylorAI/gte-tiny          0.833333   \n",
       "3                        TaylorAI/gte-tiny          0.666667   \n",
       "4                        TaylorAI/gte-tiny          0.200000   \n",
       "5                        TaylorAI/gte-tiny          0.000000   \n",
       "6                        TaylorAI/gte-tiny          0.916667   \n",
       "7                        TaylorAI/gte-tiny          0.000000   \n",
       "8                        TaylorAI/gte-tiny          0.000000   \n",
       "9                        TaylorAI/gte-tiny          0.888889   \n",
       "\n",
       "                           Answer Relevance - Reason  Faithfulness  \\\n",
       "0  The score is 0.75 because the answer mostly ad...      1.000000   \n",
       "1  The score is 1.00 because the output is fully ...      0.866667   \n",
       "2  The score is 0.83 because the majority of the ...      1.000000   \n",
       "3  The score is 0.88 because the answer effective...      1.000000   \n",
       "4  The score is 0.92 because the answer is highly...      1.000000   \n",
       "5  The score is 0.80 because the explanation abou...      1.000000   \n",
       "6  The score is 0.95 because the answer is highly...      0.823529   \n",
       "7  The score is 0.25 because the response include...      1.000000   \n",
       "8  The score is 0.75 because the main response co...      1.000000   \n",
       "9  The score is 0.90 because the explanation is m...      1.000000   \n",
       "0  The score is 0.75 because the provided answer ...      0.333333   \n",
       "1  The score is 0.89 because the answer is mostly...      0.875000   \n",
       "2  The score is 0.75 because the explanation prov...      1.000000   \n",
       "3  The score is 0.80 because the answer addresses...      0.875000   \n",
       "4  The score is 0.50 because the output includes ...      1.000000   \n",
       "5  The score is 1.00 because the answer is perfec...      1.000000   \n",
       "6  The score is 0.91 because the response effecti...      0.800000   \n",
       "7  The score is 0.75 because the output provides ...      1.000000   \n",
       "8  The score is 0.75 because the response provide...      1.000000   \n",
       "9  The score is 0.89 because the answer is mostly...      1.000000   \n",
       "0  The score is 0.67 because the output provides ...      1.000000   \n",
       "1  The score is 1.00 because the output is perfec...      0.750000   \n",
       "2  The score is 0.83 because the majority of the ...      1.000000   \n",
       "3  The score is 0.67 because the 'I'm sorry,' sta...      0.500000   \n",
       "4  The score is 0.20 because the actual output di...      0.833333   \n",
       "5  The score is 0.00 because the actual output co...      0.666667   \n",
       "6  The score is 0.92 because the answer is mostly...      1.000000   \n",
       "7  The score is 0.00 because the actual output co...      1.000000   \n",
       "8  The score is 0.00 because the provided stateme...      0.500000   \n",
       "9  The score is 0.89 because the explanation of a...      1.000000   \n",
       "\n",
       "                               Faithfulness - Reason  Contextual Relevancy  \\\n",
       "0  The score is 1.00 because there are no contrad...                   1.0   \n",
       "1  The score is 0.87 because the actual output in...                   1.0   \n",
       "2  The score is 1.00 because there are no contrad...                   1.0   \n",
       "3  The score is 1.00 because there were no contra...                   1.0   \n",
       "4  The score is 1.00 because there are no contrad...                   1.0   \n",
       "5  The score is 1.00 because there are no contrad...                   1.0   \n",
       "6  The score is 0.82 because the actual output in...                   1.0   \n",
       "7  The score is 1.00 because there are no contrad...                   1.0   \n",
       "8  The score is 1.00 because there are no contrad...                   1.0   \n",
       "9  The score is 1.00 because there are no contrad...                   1.0   \n",
       "0  The score is 0.33 due to the fact that the act...                   1.0   \n",
       "1  The score is 0.88 because while the actual out...                   1.0   \n",
       "2  The score is 1.00 because there are no contrad...                   1.0   \n",
       "3  The score is 0.88 because the actual output in...                   1.0   \n",
       "4  The score is 1.00 because there are no contrad...                   1.0   \n",
       "5  The score is 1.00 because there are no contrad...                   1.0   \n",
       "6  The score is 0.80 because the actual output in...                   1.0   \n",
       "7  The score is 1.00 because there are no contrad...                   1.0   \n",
       "8  The score is 1.00 because there are no contrad...                   1.0   \n",
       "9  The score is 1.00 because there are no contrad...                   1.0   \n",
       "0  The score is 1.00 because there are no contrad...                   1.0   \n",
       "1  The score is 0.75 because while the retrieval ...                   1.0   \n",
       "2  The score is 1.00 because there are no contrad...                   1.0   \n",
       "3  The score is 0.50 because the actual output in...                   1.0   \n",
       "4  The score is 0.83 because the actual output fa...                   1.0   \n",
       "5  The score is 0.67 because there is a contradic...                   1.0   \n",
       "6  The score is 1.00 because there are no contrad...                   1.0   \n",
       "7  The score is 1.00 because there are no contrad...                   1.0   \n",
       "8  The score is 0.50 because the actual output se...                   1.0   \n",
       "9  The score is 1.00 because there are no contrad...                   1.0   \n",
       "\n",
       "                       Contextual Relevancy - Reason  \n",
       "0  The score is 1.00 because there were no reason...  \n",
       "1  The score is 1.00 because the retrieval contex...  \n",
       "2  The score is 1.00 because the retrieval contex...  \n",
       "3  The score is 1.00 because the retrieval contex...  \n",
       "4  The score is 1.00 because the retrieval contex...  \n",
       "5  The score is 1.00 because the retrieval contex...  \n",
       "6  The score is 1.00 because there are no reasons...  \n",
       "7  The score is 1.00 because the retrieval contex...  \n",
       "8  The score is 1.00 because the retrieval contex...  \n",
       "9  The score is 1.00 because the retrieval contex...  \n",
       "0  The score is 1.00 because the retrieval contex...  \n",
       "1  The score is 1.00 because the retrieval contex...  \n",
       "2  The score is 1.00 because the retrieval contex...  \n",
       "3  The score is 1.00 because the retrieval contex...  \n",
       "4  The score is 1.00 because the retrieval contex...  \n",
       "5  The score is 1.00 because the retrieval contex...  \n",
       "6  The score is 1.00 because the retrieval contex...  \n",
       "7  The score is 1.00 because the input is perfect...  \n",
       "8  The score is 1.00 because the retrieval contex...  \n",
       "9  The score is 1.00 because the retrieval contex...  \n",
       "0  The score is 1.00 because the retrieval contex...  \n",
       "1  The score is 1.00 because there are no listed ...  \n",
       "2  The score is 1.00 because the retrieval contex...  \n",
       "3  The score is 1.00 because the retrieval contex...  \n",
       "4  The score is 1.00 because the retrieval contex...  \n",
       "5  The score is 1.00 because the retrieval contex...  \n",
       "6  The score is 1.00 because the retrieval contex...  \n",
       "7  The score is 1.00 because the input is perfect...  \n",
       "8  The score is 1.00 because the retrieval contex...  \n",
       "9  The score is 1.00 because the retrieval contex...  "
      ]
     },
     "execution_count": 13,
     "metadata": {},
     "output_type": "execute_result"
    }
   ],
   "source": [
    "df_results"
   ]
  },
  {
   "cell_type": "code",
   "execution_count": 14,
   "metadata": {},
   "outputs": [],
   "source": [
    "df_results.to_csv('evaluation/evaluations_v4.csv', index=False)"
   ]
  }
 ],
 "metadata": {
  "kernelspec": {
   "display_name": "base",
   "language": "python",
   "name": "python3"
  },
  "language_info": {
   "codemirror_mode": {
    "name": "ipython",
    "version": 3
   },
   "file_extension": ".py",
   "mimetype": "text/x-python",
   "name": "python",
   "nbconvert_exporter": "python",
   "pygments_lexer": "ipython3",
   "version": "3.11.7"
  }
 },
 "nbformat": 4,
 "nbformat_minor": 2
}
